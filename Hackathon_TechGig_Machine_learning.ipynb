{
 "cells": [
  {
   "cell_type": "code",
   "execution_count": 1,
   "metadata": {},
   "outputs": [],
   "source": [
    "import pandas as pd\n",
    "import numpy as np\n",
    "import os\n",
    "import matplotlib.pyplot as plt\n",
    "import seaborn as sns\n",
    "import warnings\n",
    "import urllib.parse\n",
    "from sklearn.feature_extraction.text import CountVectorizer\n",
    "warnings.filterwarnings(\"ignore\")\n",
    "from sklearn.metrics import accuracy_score\n",
    "from sklearn.linear_model import LogisticRegression\n",
    "from sklearn.discriminant_analysis import LinearDiscriminantAnalysis\n",
    "from sklearn.metrics import confusion_matrix,classification_report,roc_auc_score,roc_curve\n",
    "from sklearn.preprocessing import scale\n",
    "from sklearn.model_selection import train_test_split,GridSearchCV\n",
    "from sklearn import metrics\n",
    "from sklearn import tree"
   ]
  },
  {
   "cell_type": "code",
   "execution_count": 2,
   "metadata": {},
   "outputs": [],
   "source": [
    "df_train = pd.read_csv('./Doceree_HCP_Train.csv',encoding='ISO-8859-1')\n",
    "df_test = pd.read_csv('./Doceree_HCP_Test.csv',encoding='ISO-8859-1')"
   ]
  },
  {
   "cell_type": "code",
   "execution_count": 3,
   "metadata": {},
   "outputs": [
    {
     "name": "stdout",
     "output_type": "stream",
     "text": [
      "<class 'pandas.core.frame.DataFrame'>\n",
      "RangeIndex: 113937 entries, 0 to 113936\n",
      "Data columns (total 14 columns):\n",
      " #   Column           Non-Null Count   Dtype  \n",
      "---  ------           --------------   -----  \n",
      " 0   ID               113937 non-null  int64  \n",
      " 1   DEVICETYPE       113937 non-null  object \n",
      " 2   PLATFORM_ID      113937 non-null  int64  \n",
      " 3   BIDREQUESTIP     113937 non-null  object \n",
      " 4   USERPLATFORMUID  113933 non-null  object \n",
      " 5   USERCITY         107578 non-null  object \n",
      " 6   USERZIPCODE      109345 non-null  float64\n",
      " 7   USERAGENT        113935 non-null  object \n",
      " 8   PLATFORMTYPE     113937 non-null  object \n",
      " 9   CHANNELTYPE      113937 non-null  object \n",
      " 10  URL              113937 non-null  object \n",
      " 11  KEYWORDS         113937 non-null  object \n",
      " 12  TAXONOMY         32313 non-null   object \n",
      " 13  IS_HCP           113936 non-null  float64\n",
      "dtypes: float64(2), int64(2), object(10)\n",
      "memory usage: 12.2+ MB\n"
     ]
    }
   ],
   "source": [
    "df_train.info()"
   ]
  },
  {
   "cell_type": "code",
   "execution_count": 4,
   "metadata": {},
   "outputs": [
    {
     "name": "stdout",
     "output_type": "stream",
     "text": [
      "<class 'pandas.core.frame.DataFrame'>\n",
      "RangeIndex: 28580 entries, 0 to 28579\n",
      "Data columns (total 12 columns):\n",
      " #   Column           Non-Null Count  Dtype  \n",
      "---  ------           --------------  -----  \n",
      " 0   ID               28580 non-null  object \n",
      " 1   DEVICETYPE       28550 non-null  object \n",
      " 2   PLATFORM_ID      28530 non-null  float64\n",
      " 3   BIDREQUESTIP     28530 non-null  object \n",
      " 4   USERPLATFORMUID  28530 non-null  object \n",
      " 5   USERCITY         26936 non-null  object \n",
      " 6   USERZIPCODE      27380 non-null  float64\n",
      " 7   USERAGENT        28529 non-null  object \n",
      " 8   PLATFORMTYPE     28530 non-null  object \n",
      " 9   CHANNELTYPE      28530 non-null  object \n",
      " 10  URL              28530 non-null  object \n",
      " 11  KEYWORDS         28510 non-null  object \n",
      "dtypes: float64(2), object(10)\n",
      "memory usage: 2.6+ MB\n"
     ]
    }
   ],
   "source": [
    "df_test.info()"
   ]
  },
  {
   "cell_type": "code",
   "execution_count": 5,
   "metadata": {},
   "outputs": [
    {
     "data": {
      "text/html": [
       "<div>\n",
       "<style scoped>\n",
       "    .dataframe tbody tr th:only-of-type {\n",
       "        vertical-align: middle;\n",
       "    }\n",
       "\n",
       "    .dataframe tbody tr th {\n",
       "        vertical-align: top;\n",
       "    }\n",
       "\n",
       "    .dataframe thead th {\n",
       "        text-align: right;\n",
       "    }\n",
       "</style>\n",
       "<table border=\"1\" class=\"dataframe\">\n",
       "  <thead>\n",
       "    <tr style=\"text-align: right;\">\n",
       "      <th></th>\n",
       "      <th>ID</th>\n",
       "      <th>DEVICETYPE</th>\n",
       "      <th>PLATFORM_ID</th>\n",
       "      <th>BIDREQUESTIP</th>\n",
       "      <th>USERPLATFORMUID</th>\n",
       "      <th>USERCITY</th>\n",
       "      <th>USERZIPCODE</th>\n",
       "      <th>USERAGENT</th>\n",
       "      <th>PLATFORMTYPE</th>\n",
       "      <th>CHANNELTYPE</th>\n",
       "      <th>URL</th>\n",
       "      <th>KEYWORDS</th>\n",
       "      <th>TAXONOMY</th>\n",
       "      <th>IS_HCP</th>\n",
       "    </tr>\n",
       "  </thead>\n",
       "  <tbody>\n",
       "    <tr>\n",
       "      <th>0</th>\n",
       "      <td>1001</td>\n",
       "      <td>Desktop</td>\n",
       "      <td>2</td>\n",
       "      <td>170.173.0.22</td>\n",
       "      <td>6974dcaa-f932-480e-9fb5-c52e20e1393a</td>\n",
       "      <td>Portland</td>\n",
       "      <td>97206.0</td>\n",
       "      <td>Mozilla/5.0 (Windows NT 10.0; Win64; x64) Appl...</td>\n",
       "      <td>Online Medical Journal</td>\n",
       "      <td>Website</td>\n",
       "      <td>https://www.cancertherapyadvisor.com/home/canc...</td>\n",
       "      <td>General|Endocrine|False|Medicine|Surgery|Urolo...</td>\n",
       "      <td>NaN</td>\n",
       "      <td>0.0</td>\n",
       "    </tr>\n",
       "    <tr>\n",
       "      <th>1</th>\n",
       "      <td>1002</td>\n",
       "      <td>Desktop</td>\n",
       "      <td>2</td>\n",
       "      <td>65.216.253.25</td>\n",
       "      <td>c12f3f8f-8fcf-484a-90e1-1ac04db8cdcf</td>\n",
       "      <td>Arlington</td>\n",
       "      <td>22202.0</td>\n",
       "      <td>Mozilla/5.0 (Macintosh; Intel Mac OS X 10_15_7...</td>\n",
       "      <td>Online Medical Journal</td>\n",
       "      <td>Website</td>\n",
       "      <td>https://www.cancertherapyadvisor.com/home/deci...</td>\n",
       "      <td>Bone Marrow|Radiography|Chronic|Oncology|Psych...</td>\n",
       "      <td>NaN</td>\n",
       "      <td>0.0</td>\n",
       "    </tr>\n",
       "    <tr>\n",
       "      <th>2</th>\n",
       "      <td>1003</td>\n",
       "      <td>Desktop</td>\n",
       "      <td>2</td>\n",
       "      <td>66.232.79.22</td>\n",
       "      <td>a698de4b-e200-46dd-b5fb-40402175ae18</td>\n",
       "      <td>New Meadows</td>\n",
       "      <td>83654.0</td>\n",
       "      <td>Mozilla/5.0 (Macintosh; Intel Mac OS X 10_15_7...</td>\n",
       "      <td>Online Medical Journal</td>\n",
       "      <td>Website</td>\n",
       "      <td>https://www.cancertherapyadvisor.com/home/canc...</td>\n",
       "      <td>General|Endocrine|False|Medicine|Surgery|Urolo...</td>\n",
       "      <td>NaN</td>\n",
       "      <td>0.0</td>\n",
       "    </tr>\n",
       "    <tr>\n",
       "      <th>3</th>\n",
       "      <td>1004</td>\n",
       "      <td>Desktop</td>\n",
       "      <td>3</td>\n",
       "      <td>137.54.125.246</td>\n",
       "      <td>45967533-75c8-4fbd-a00c-e6ff20447aaa</td>\n",
       "      <td>NaN</td>\n",
       "      <td>229114624.0</td>\n",
       "      <td>Mozilla/5.0 (Windows NT 10.0; Win64; x64) Appl...</td>\n",
       "      <td>Online Medical Journal</td>\n",
       "      <td>Website</td>\n",
       "      <td>https://globalrph.com/medcalcs/warfarin-mainte...</td>\n",
       "      <td>Dental|Total|Clinical|Pharmacology|Physicians|...</td>\n",
       "      <td>2084P0800X</td>\n",
       "      <td>1.0</td>\n",
       "    </tr>\n",
       "    <tr>\n",
       "      <th>4</th>\n",
       "      <td>1005</td>\n",
       "      <td>Mobile</td>\n",
       "      <td>7</td>\n",
       "      <td>174.202.231.99</td>\n",
       "      <td>a17e25be-532d-4cf5-b916-9308c8c3961f</td>\n",
       "      <td>Houston</td>\n",
       "      <td>77008.0</td>\n",
       "      <td>Mozilla/5.0 (iPhone; CPU iPhone OS 16_1_1 like...</td>\n",
       "      <td>Online Medical Journal</td>\n",
       "      <td>Website</td>\n",
       "      <td>https://www.cureus.com/articles/58184-a-review...</td>\n",
       "      <td>Critical Care|Emergency Medicine|General Pract...</td>\n",
       "      <td>NaN</td>\n",
       "      <td>0.0</td>\n",
       "    </tr>\n",
       "  </tbody>\n",
       "</table>\n",
       "</div>"
      ],
      "text/plain": [
       "     ID DEVICETYPE  PLATFORM_ID    BIDREQUESTIP  \\\n",
       "0  1001    Desktop            2    170.173.0.22   \n",
       "1  1002    Desktop            2   65.216.253.25   \n",
       "2  1003    Desktop            2    66.232.79.22   \n",
       "3  1004    Desktop            3  137.54.125.246   \n",
       "4  1005     Mobile            7  174.202.231.99   \n",
       "\n",
       "                        USERPLATFORMUID     USERCITY  USERZIPCODE  \\\n",
       "0  6974dcaa-f932-480e-9fb5-c52e20e1393a     Portland      97206.0   \n",
       "1  c12f3f8f-8fcf-484a-90e1-1ac04db8cdcf    Arlington      22202.0   \n",
       "2  a698de4b-e200-46dd-b5fb-40402175ae18  New Meadows      83654.0   \n",
       "3  45967533-75c8-4fbd-a00c-e6ff20447aaa          NaN  229114624.0   \n",
       "4  a17e25be-532d-4cf5-b916-9308c8c3961f      Houston      77008.0   \n",
       "\n",
       "                                           USERAGENT            PLATFORMTYPE  \\\n",
       "0  Mozilla/5.0 (Windows NT 10.0; Win64; x64) Appl...  Online Medical Journal   \n",
       "1  Mozilla/5.0 (Macintosh; Intel Mac OS X 10_15_7...  Online Medical Journal   \n",
       "2  Mozilla/5.0 (Macintosh; Intel Mac OS X 10_15_7...  Online Medical Journal   \n",
       "3  Mozilla/5.0 (Windows NT 10.0; Win64; x64) Appl...  Online Medical Journal   \n",
       "4  Mozilla/5.0 (iPhone; CPU iPhone OS 16_1_1 like...  Online Medical Journal   \n",
       "\n",
       "  CHANNELTYPE                                                URL  \\\n",
       "0     Website  https://www.cancertherapyadvisor.com/home/canc...   \n",
       "1     Website  https://www.cancertherapyadvisor.com/home/deci...   \n",
       "2     Website  https://www.cancertherapyadvisor.com/home/canc...   \n",
       "3     Website  https://globalrph.com/medcalcs/warfarin-mainte...   \n",
       "4     Website  https://www.cureus.com/articles/58184-a-review...   \n",
       "\n",
       "                                            KEYWORDS    TAXONOMY  IS_HCP  \n",
       "0  General|Endocrine|False|Medicine|Surgery|Urolo...         NaN     0.0  \n",
       "1  Bone Marrow|Radiography|Chronic|Oncology|Psych...         NaN     0.0  \n",
       "2  General|Endocrine|False|Medicine|Surgery|Urolo...         NaN     0.0  \n",
       "3  Dental|Total|Clinical|Pharmacology|Physicians|...  2084P0800X     1.0  \n",
       "4  Critical Care|Emergency Medicine|General Pract...         NaN     0.0  "
      ]
     },
     "execution_count": 5,
     "metadata": {},
     "output_type": "execute_result"
    }
   ],
   "source": [
    "df_train.head()"
   ]
  },
  {
   "cell_type": "code",
   "execution_count": 6,
   "metadata": {},
   "outputs": [
    {
     "name": "stdout",
     "output_type": "stream",
     "text": [
      "no. of rows:  113937 \n",
      "no. of columns:  14\n",
      "no. of rows:  28580 \n",
      "no. of columns:  12\n"
     ]
    }
   ],
   "source": [
    "print(\"no. of rows: \",df_train.shape[0], \"\\n\"\"no. of columns: \",df_train.shape[1])\n",
    "print(\"no. of rows: \",df_test.shape[0], \"\\n\"\"no. of columns: \",df_test.shape[1])"
   ]
  },
  {
   "cell_type": "code",
   "execution_count": 7,
   "metadata": {},
   "outputs": [
    {
     "data": {
      "text/plain": [
       "0"
      ]
     },
     "execution_count": 7,
     "metadata": {},
     "output_type": "execute_result"
    }
   ],
   "source": [
    "df_train.duplicated().sum()"
   ]
  },
  {
   "cell_type": "code",
   "execution_count": 8,
   "metadata": {},
   "outputs": [],
   "source": [
    "df_test.drop('USERZIPCODE',axis=1,inplace=True)\n",
    "df_test.drop('PLATFORM_ID',axis=1,inplace=True)"
   ]
  },
  {
   "cell_type": "code",
   "execution_count": 9,
   "metadata": {},
   "outputs": [],
   "source": [
    "# Impute null values with the mode of each column\n",
    "categorical_columns = df_test.select_dtypes(include=['object']).columns\n",
    "for col in categorical_columns:\n",
    "    df_test[col].fillna(df_test[col].mode()[0], inplace=True)"
   ]
  },
  {
   "cell_type": "code",
   "execution_count": 10,
   "metadata": {},
   "outputs": [],
   "source": [
    "duplicate_rows = df_test.duplicated()\n",
    "\n",
    "# Handle duplicate rows\n",
    "if duplicate_rows.any():\n",
    "    # Create a new column to mark duplicate rows\n",
    "    df_test['is_duplicate'] = duplicate_rows.astype(int)\n",
    "    # Optionally, you can keep the first occurrence and mark subsequent duplicates as non-duplicates\n",
    "    df_test.loc[duplicate_rows, 'is_duplicate'] = 0\n"
   ]
  },
  {
   "cell_type": "code",
   "execution_count": 11,
   "metadata": {},
   "outputs": [
    {
     "data": {
      "text/html": [
       "<div>\n",
       "<style scoped>\n",
       "    .dataframe tbody tr th:only-of-type {\n",
       "        vertical-align: middle;\n",
       "    }\n",
       "\n",
       "    .dataframe tbody tr th {\n",
       "        vertical-align: top;\n",
       "    }\n",
       "\n",
       "    .dataframe thead th {\n",
       "        text-align: right;\n",
       "    }\n",
       "</style>\n",
       "<table border=\"1\" class=\"dataframe\">\n",
       "  <thead>\n",
       "    <tr style=\"text-align: right;\">\n",
       "      <th></th>\n",
       "      <th>is_duplicate</th>\n",
       "    </tr>\n",
       "  </thead>\n",
       "  <tbody>\n",
       "    <tr>\n",
       "      <th>count</th>\n",
       "      <td>28580.0</td>\n",
       "    </tr>\n",
       "    <tr>\n",
       "      <th>mean</th>\n",
       "      <td>0.0</td>\n",
       "    </tr>\n",
       "    <tr>\n",
       "      <th>std</th>\n",
       "      <td>0.0</td>\n",
       "    </tr>\n",
       "    <tr>\n",
       "      <th>min</th>\n",
       "      <td>0.0</td>\n",
       "    </tr>\n",
       "    <tr>\n",
       "      <th>25%</th>\n",
       "      <td>0.0</td>\n",
       "    </tr>\n",
       "    <tr>\n",
       "      <th>50%</th>\n",
       "      <td>0.0</td>\n",
       "    </tr>\n",
       "    <tr>\n",
       "      <th>75%</th>\n",
       "      <td>0.0</td>\n",
       "    </tr>\n",
       "    <tr>\n",
       "      <th>max</th>\n",
       "      <td>0.0</td>\n",
       "    </tr>\n",
       "  </tbody>\n",
       "</table>\n",
       "</div>"
      ],
      "text/plain": [
       "       is_duplicate\n",
       "count       28580.0\n",
       "mean            0.0\n",
       "std             0.0\n",
       "min             0.0\n",
       "25%             0.0\n",
       "50%             0.0\n",
       "75%             0.0\n",
       "max             0.0"
      ]
     },
     "execution_count": 11,
     "metadata": {},
     "output_type": "execute_result"
    }
   ],
   "source": [
    "df_test.describe()"
   ]
  },
  {
   "cell_type": "code",
   "execution_count": 12,
   "metadata": {},
   "outputs": [
    {
     "data": {
      "text/plain": [
       "ID                 0\n",
       "DEVICETYPE         0\n",
       "BIDREQUESTIP       0\n",
       "USERPLATFORMUID    0\n",
       "USERCITY           0\n",
       "USERAGENT          0\n",
       "PLATFORMTYPE       0\n",
       "CHANNELTYPE        0\n",
       "URL                0\n",
       "KEYWORDS           0\n",
       "is_duplicate       0\n",
       "dtype: int64"
      ]
     },
     "execution_count": 12,
     "metadata": {},
     "output_type": "execute_result"
    }
   ],
   "source": [
    "df_test.isnull().sum()"
   ]
  },
  {
   "cell_type": "code",
   "execution_count": null,
   "metadata": {},
   "outputs": [],
   "source": []
  },
  {
   "cell_type": "code",
   "execution_count": 13,
   "metadata": {},
   "outputs": [
    {
     "data": {
      "text/plain": [
       "ID                 0\n",
       "DEVICETYPE         0\n",
       "BIDREQUESTIP       0\n",
       "USERPLATFORMUID    0\n",
       "USERCITY           0\n",
       "USERAGENT          0\n",
       "PLATFORMTYPE       0\n",
       "CHANNELTYPE        0\n",
       "URL                0\n",
       "KEYWORDS           0\n",
       "is_duplicate       0\n",
       "dtype: int64"
      ]
     },
     "execution_count": 13,
     "metadata": {},
     "output_type": "execute_result"
    }
   ],
   "source": [
    "df_test.isnull().sum()"
   ]
  },
  {
   "cell_type": "code",
   "execution_count": 14,
   "metadata": {},
   "outputs": [
    {
     "data": {
      "text/plain": [
       "(28580, 11)"
      ]
     },
     "execution_count": 14,
     "metadata": {},
     "output_type": "execute_result"
    }
   ],
   "source": [
    "df_test.shape"
   ]
  },
  {
   "cell_type": "code",
   "execution_count": 15,
   "metadata": {},
   "outputs": [],
   "source": [
    "#df_test = df_test.drop_duplicates(subset=['DEVICETYPE', 'BIDREQUESTIP','PLATFORM_ID', 'USERPLATFORMUID', 'USERCITY', 'USERAGENT', 'PLATFORMTYPE', 'CHANNELTYPE', 'URL', 'KEYWORDS'],ignore_index=True)\n",
    "#df_test.drop_duplicates(inplace=True, ignore_index=True)"
   ]
  },
  {
   "cell_type": "code",
   "execution_count": 16,
   "metadata": {},
   "outputs": [
    {
     "data": {
      "text/plain": [
       "33"
      ]
     },
     "execution_count": 16,
     "metadata": {},
     "output_type": "execute_result"
    }
   ],
   "source": [
    "df_test.duplicated().sum()"
   ]
  },
  {
   "cell_type": "code",
   "execution_count": 17,
   "metadata": {},
   "outputs": [
    {
     "name": "stdout",
     "output_type": "stream",
     "text": [
      "<class 'pandas.core.frame.DataFrame'>\n",
      "RangeIndex: 28580 entries, 0 to 28579\n",
      "Data columns (total 11 columns):\n",
      " #   Column           Non-Null Count  Dtype \n",
      "---  ------           --------------  ----- \n",
      " 0   ID               28580 non-null  object\n",
      " 1   DEVICETYPE       28580 non-null  object\n",
      " 2   BIDREQUESTIP     28580 non-null  object\n",
      " 3   USERPLATFORMUID  28580 non-null  object\n",
      " 4   USERCITY         28580 non-null  object\n",
      " 5   USERAGENT        28580 non-null  object\n",
      " 6   PLATFORMTYPE     28580 non-null  object\n",
      " 7   CHANNELTYPE      28580 non-null  object\n",
      " 8   URL              28580 non-null  object\n",
      " 9   KEYWORDS         28580 non-null  object\n",
      " 10  is_duplicate     28580 non-null  int32 \n",
      "dtypes: int32(1), object(10)\n",
      "memory usage: 2.3+ MB\n"
     ]
    }
   ],
   "source": [
    "df_test.info()"
   ]
  },
  {
   "cell_type": "code",
   "execution_count": 18,
   "metadata": {},
   "outputs": [
    {
     "data": {
      "image/png": "[encoded data removed]",
      "text/plain": [
       "<Figure size 1000x1000 with 1 Axes>"
      ]
     },
     "metadata": {},
     "output_type": "display_data"
    }
   ],
   "source": [
    "plt.figure(figsize=(10,10))\n",
    "df_train.boxplot(vert=0)\n",
    "plt.show()"
   ]
  },
  {
   "cell_type": "code",
   "execution_count": 19,
   "metadata": {},
   "outputs": [
    {
     "data": {
      "text/plain": [
       "<AxesSubplot:xlabel='DEVICETYPE', ylabel='IS_HCP'>"
      ]
     },
     "execution_count": 19,
     "metadata": {},
     "output_type": "execute_result"
    },
    {
     "data": {
      "image/png": "[encoded data removed]",
      "text/plain": [
       "<Figure size 1000x500 with 1 Axes>"
      ]
     },
     "metadata": {},
     "output_type": "display_data"
    }
   ],
   "source": [
    "plt.figure(figsize=(10,5))\n",
    "sns.barplot(df_train.DEVICETYPE,df_train.IS_HCP,ci=None)"
   ]
  },
  {
   "cell_type": "code",
   "execution_count": 20,
   "metadata": {},
   "outputs": [
    {
     "data": {
      "text/plain": [
       "<AxesSubplot:xlabel='PLATFORM_ID', ylabel='IS_HCP'>"
      ]
     },
     "execution_count": 20,
     "metadata": {},
     "output_type": "execute_result"
    },
    {
     "data": {
      "image/png": "[encoded data removed]",
      "text/plain": [
       "<Figure size 1000x500 with 1 Axes>"
      ]
     },
     "metadata": {},
     "output_type": "display_data"
    }
   ],
   "source": [
    "plt.figure(figsize=(10,5))\n",
    "sns.barplot(df_train.PLATFORM_ID,df_train.IS_HCP,ci=None)"
   ]
  },
  {
   "cell_type": "code",
   "execution_count": 21,
   "metadata": {},
   "outputs": [
    {
     "data": {
      "text/plain": [
       "<AxesSubplot:xlabel='CHANNELTYPE', ylabel='IS_HCP'>"
      ]
     },
     "execution_count": 21,
     "metadata": {},
     "output_type": "execute_result"
    },
    {
     "data": {
      "image/png": "[encoded data removed]",
      "text/plain": [
       "<Figure size 1000x500 with 1 Axes>"
      ]
     },
     "metadata": {},
     "output_type": "display_data"
    }
   ],
   "source": [
    "plt.figure(figsize=(10,5))\n",
    "sns.barplot(df_train.CHANNELTYPE,df_train.IS_HCP,ci=None)"
   ]
  },
  {
   "cell_type": "code",
   "execution_count": null,
   "metadata": {},
   "outputs": [],
   "source": []
  },
  {
   "cell_type": "code",
   "execution_count": 22,
   "metadata": {},
   "outputs": [],
   "source": [
    "#df_test.dropna(subset=['URL'], inplace=True)\n",
    "#df_test['ID'] = df_test['ID'].astype(int)\n"
   ]
  },
  {
   "cell_type": "code",
   "execution_count": 23,
   "metadata": {},
   "outputs": [
    {
     "name": "stdout",
     "output_type": "stream",
     "text": [
      "            ID DEVICETYPE  PLATFORM_ID  BIDREQUESTIP  \\\n",
      "0         1001    Desktop            2    2863464470   \n",
      "1         1002    Desktop            2    1104739609   \n",
      "2         1003    Desktop            2    1122520854   \n",
      "3         1004    Desktop            3    2302049782   \n",
      "4         1005     Mobile            7    2932533091   \n",
      "...        ...        ...          ...           ...   \n",
      "113932  114933    Desktop            2    1146249598   \n",
      "113933  114934    Desktop            2    1756105581   \n",
      "113934  114935    Desktop            7    2920636017   \n",
      "113935  114936     Mobile            2    1174241667   \n",
      "113936  114937     Mobile            2    1814686127   \n",
      "\n",
      "                             USERPLATFORMUID      USERCITY  USERZIPCODE  \\\n",
      "0       6974dcaa-f932-480e-9fb5-c52e20e1393a      Portland      97206.0   \n",
      "1       c12f3f8f-8fcf-484a-90e1-1ac04db8cdcf     Arlington      22202.0   \n",
      "2       a698de4b-e200-46dd-b5fb-40402175ae18   New Meadows      83654.0   \n",
      "3       45967533-75c8-4fbd-a00c-e6ff20447aaa           NaN  229114624.0   \n",
      "4       a17e25be-532d-4cf5-b916-9308c8c3961f       Houston      77008.0   \n",
      "...                                      ...           ...          ...   \n",
      "113932  051e4a06-4cb4-4b97-b0b1-d1c6a2b8e2c2  Philadelphia      19120.0   \n",
      "113933  3289bba5-4a50-4b61-a5cc-68596bbdc2bf      Van Nuys  914014213.0   \n",
      "113934  9c36e90c-caa7-4323-8431-fb84f8293972           NaN      98105.0   \n",
      "113935  afc27760-31f7-4f6e-aa08-90d8a96525d0    Wilmington      19808.0   \n",
      "113936  d26887c5-15f9-4b72-80dc-728039529e60  White Plains      10605.0   \n",
      "\n",
      "                                                USERAGENT  \\\n",
      "0       Mozilla/5.0 (Windows NT 10.0; Win64; x64) Appl...   \n",
      "1       Mozilla/5.0 (Macintosh; Intel Mac OS X 10_15_7...   \n",
      "2       Mozilla/5.0 (Macintosh; Intel Mac OS X 10_15_7...   \n",
      "3       Mozilla/5.0 (Windows NT 10.0; Win64; x64) Appl...   \n",
      "4       Mozilla/5.0 (iPhone; CPU iPhone OS 16_1_1 like...   \n",
      "...                                                   ...   \n",
      "113932  Mozilla/5.0 (Macintosh; Intel Mac OS X 10_15_6...   \n",
      "113933  Mozilla/5.0 (Windows NT 6.1; Win64; x64) Apple...   \n",
      "113934  Mozilla/5.0 (Macintosh; Intel Mac OS X 10_15_7...   \n",
      "113935  Mozilla/5.0 (iPhone; CPU iPhone OS 15_6_1 like...   \n",
      "113936  Mozilla/5.0 (iPhone; CPU iPhone OS 16_1 like M...   \n",
      "\n",
      "                  PLATFORMTYPE CHANNELTYPE  \\\n",
      "0       Online Medical Journal     Website   \n",
      "1       Online Medical Journal     Website   \n",
      "2       Online Medical Journal     Website   \n",
      "3       Online Medical Journal     Website   \n",
      "4       Online Medical Journal     Website   \n",
      "...                        ...         ...   \n",
      "113932  Online Medical Journal     Website   \n",
      "113933  Online Medical Journal     Website   \n",
      "113934  Online Medical Journal     Website   \n",
      "113935  Online Medical Journal     Website   \n",
      "113936  Online Medical Journal     Website   \n",
      "\n",
      "                                                      URL  \\\n",
      "0       https://www.cancertherapyadvisor.com/home/canc...   \n",
      "1       https://www.cancertherapyadvisor.com/home/deci...   \n",
      "2       https://www.cancertherapyadvisor.com/home/canc...   \n",
      "3       https://globalrph.com/medcalcs/warfarin-mainte...   \n",
      "4       https://www.cureus.com/articles/58184-a-review...   \n",
      "...                                                   ...   \n",
      "113932  https://www.clinicaladvisor.com/home/consultat...   \n",
      "113933  https://www.clinicaladvisor.com/home/features/...   \n",
      "113934  https://www.cureus.com/articles/39455-whats-th...   \n",
      "113935  https://www.dermatologyadvisor.com/home/topics...   \n",
      "113936                        https://www.medicalbag.com/   \n",
      "\n",
      "                                                 KEYWORDS    TAXONOMY  IS_HCP  \n",
      "0       General|Endocrine|False|Medicine|Surgery|Urolo...         NaN     0.0  \n",
      "1       Bone Marrow|Radiography|Chronic|Oncology|Psych...         NaN     0.0  \n",
      "2       General|Endocrine|False|Medicine|Surgery|Urolo...         NaN     0.0  \n",
      "3       Dental|Total|Clinical|Pharmacology|Physicians|...  2084P0800X     1.0  \n",
      "4       Critical Care|Emergency Medicine|General Pract...         NaN     0.0  \n",
      "...                                                   ...         ...     ...  \n",
      "113932  Cardiovascular|Clinical|False|Male|Oncology|Ps...  207RP1001X     1.0  \n",
      "113933  Asthma|Arthritis|General|Clinical|Diagnosis|Rh...  2084P0800X     1.0  \n",
      "113934  Rehabilitation|Transplantation|Clinical|Preven...  208000000X     1.0  \n",
      "113935  pain|disease|autoimmune|multiple sclerosis|gra...  2084P0800X     1.0  \n",
      "113936  Genetic|Large|Autoimmune|Health|False|Abortion...  2084P0800X     1.0  \n",
      "\n",
      "[113937 rows x 14 columns]\n"
     ]
    }
   ],
   "source": [
    "# Function to convert IP address to numerical feature\n",
    "\n",
    "def ip_to_numeric(ip):\n",
    "    octets = ip.split('.')\n",
    "    binary = ''.join([format(int(octet), '08b') for octet in octets])\n",
    "    decimal = int(binary, 2)\n",
    "    return decimal\n",
    "\n",
    "# Apply the conversion function to the IP address column\n",
    "df_train['BIDREQUESTIP'] = df_train['BIDREQUESTIP'].apply(ip_to_numeric)\n",
    "\n",
    "# Print the updated dataframe\n",
    "print(df_train)\n"
   ]
  },
  {
   "cell_type": "code",
   "execution_count": 24,
   "metadata": {},
   "outputs": [],
   "source": [
    "\n",
    "# Function to convert IP address to numerical feature\n",
    "def ip_to_numeric(ip):\n",
    "    octets = ip.split('.')\n",
    "    binary = ''.join([format(int(octet), '08b') for octet in octets])\n",
    "    decimal = int(binary, 2)\n",
    "    return decimal\n",
    "\n",
    "# Apply the conversion function to the IP address column\n",
    "df_test['BIDREQUESTIP'] = df_test['BIDREQUESTIP'].apply(ip_to_numeric)\n",
    "\n",
    "\n"
   ]
  },
  {
   "cell_type": "code",
   "execution_count": 25,
   "metadata": {},
   "outputs": [
    {
     "name": "stdout",
     "output_type": "stream",
     "text": [
      "['DEVICETYPE', 'USERPLATFORMUID', 'USERCITY', 'USERAGENT', 'PLATFORMTYPE', 'CHANNELTYPE', 'URL', 'KEYWORDS', 'TAXONOMY']\n",
      "/n \n",
      "['ID', 'PLATFORM_ID', 'BIDREQUESTIP', 'USERZIPCODE', 'IS_HCP']\n"
     ]
    }
   ],
   "source": [
    "cat=[]\n",
    "num=[]\n",
    "for i in df_train.columns:\n",
    "    if df_train[i].dtype==\"object\":\n",
    "        cat.append(i)\n",
    "    else:\n",
    "        num.append(i)\n",
    "print(cat) \n",
    "print('/n ')\n",
    "print(num)\n"
   ]
  },
  {
   "cell_type": "code",
   "execution_count": 26,
   "metadata": {},
   "outputs": [
    {
     "name": "stdout",
     "output_type": "stream",
     "text": [
      "['ID', 'DEVICETYPE', 'USERPLATFORMUID', 'USERCITY', 'USERAGENT', 'PLATFORMTYPE', 'CHANNELTYPE', 'URL', 'KEYWORDS']\n",
      "/n \n",
      "['BIDREQUESTIP', 'is_duplicate']\n"
     ]
    }
   ],
   "source": [
    "cat_test=[]\n",
    "num_test=[]\n",
    "for i in df_test.columns:\n",
    "    if df_test[i].dtype==\"object\":\n",
    "        cat_test.append(i)\n",
    "    else:\n",
    "        num_test.append(i)\n",
    "print(cat_test) \n",
    "print('/n ')\n",
    "print(num_test)\n"
   ]
  },
  {
   "cell_type": "code",
   "execution_count": 27,
   "metadata": {},
   "outputs": [
    {
     "name": "stdout",
     "output_type": "stream",
     "text": [
      "DEVICETYPE :  4\n",
      "Unknown       24\n",
      "Tablet      3425\n",
      "Mobile     32065\n",
      "Desktop    78423\n",
      "Name: DEVICETYPE, dtype: int64\n",
      "\n",
      "\n",
      "USERPLATFORMUID :  53780\n",
      "ce1e65a6-0d27-448d-b65c-3dc95c4fee4b       1\n",
      "9fd00368-515b-4740-a23a-562c827b72fe       1\n",
      "c19cdfe3-a995-4df2-b257-37371c17f868       1\n",
      "7bd6ecee-4766-4400-9842-ef627fb1adec       1\n",
      "9d327b4c-bfd7-4980-a10a-2ac6d22502c3       1\n",
      "                                        ... \n",
      "fe53f32c-4646-4abe-afea-90b21d6b8531     617\n",
      "fcd3d327-0ad5-425e-8ea8-33ffe6a31543     629\n",
      "d00f28d6-3a50-46cd-92f3-8601bd57ad0e     675\n",
      "d76f7c0b-1a64-4d4b-b36d-86c832be8837    1406\n",
      "3e2578c8-f794-41af-a38c-c5cfb3c0f014    1447\n",
      "Name: USERPLATFORMUID, Length: 53780, dtype: int64\n",
      "\n",
      "\n",
      "USERCITY :  4420\n",
      "Gambier            1\n",
      "Dillsboro          1\n",
      "Hawkinsville       1\n",
      "Ellsworth          1\n",
      "Wendell            1\n",
      "                ... \n",
      "Houston         1747\n",
      "Los Angeles     2154\n",
      "St Louis        2545\n",
      "Brooklyn        3237\n",
      "New York        4943\n",
      "Name: USERCITY, Length: 4420, dtype: int64\n",
      "\n",
      "\n",
      "USERAGENT :  4288\n",
      "Mozilla/5.0 (iPhone; CPU iPhone OS 15_4 like Mac OS X) AppleWebKit/605.1.15 (KHTML, like Gecko) CriOS/86.0.4240.93 Mobile/15E148 Safari/604.1                  1\n",
      "Mozilla/5.0 (Linux; Android 10; SM-G960U) AppleWebKit/537.36 (KHTML, like Gecko) Chrome/84.0.4147.89 Mobile Safari/537.36                                      1\n",
      "Mozilla/5.0 (Linux; Android 12; SM-A326U) AppleWebKit/537.36 (KHTML, like Gecko) Chrome/99.0.4844.88 Mobile Safari/537.36                                      1\n",
      "Mozilla/5.0 (Macintosh; Intel Mac OS X 10_15) AppleWebKit/605.1.15 (KHTML, like Gecko) Version/16.1 DuckDuckGo/7 Safari/605.1.15                               1\n",
      "Mozilla/5.0 (Linux; Android 13; SAMSUNG SM-G998U1) AppleWebKit/537.36 (KHTML, like Gecko) SamsungBrowser/21.0 Chrome/110.0.5481.154 Mobile Safari/537.36       1\n",
      "                                                                                                                                                            ... \n",
      "Mozilla/5.0 (iPhone; CPU iPhone OS 16_3_1 like Mac OS X) AppleWebKit/605.1.15 (KHTML, like Gecko) Version/16.3 Mobile/15E148 Safari/604.1                   3480\n",
      "Mozilla/5.0 (Windows NT 10.0; Win64; x64) AppleWebKit/537.36 (KHTML, like Gecko) Chrome/113.0.0.0 Safari/537.36                                             3757\n",
      "Mozilla/5.0 (Windows NT 10.0; Win64; x64) AppleWebKit/537.36 (KHTML, like Gecko) Chrome/110.0.0.0 Safari/537.36                                             3868\n",
      "Mozilla/5.0 (Windows NT 10.0; Win64; x64) AppleWebKit/537.36 (KHTML, like Gecko) Chrome/112.0.0.0 Safari/537.36                                             5721\n",
      "Mozilla/5.0 (Windows NT 10.0; Win64; x64) AppleWebKit/537.36 (KHTML, like Gecko) Chrome/111.0.0.0 Safari/537.36                                             8380\n",
      "Name: USERAGENT, Length: 4288, dtype: int64\n",
      "\n",
      "\n",
      "PLATFORMTYPE :  5\n",
      "Tele-medicine Platform           1\n",
      "Electronic Health Record        40\n",
      "Medical News Platform          798\n",
      "Online Learning Portal        2978\n",
      "Online Medical Journal      110120\n",
      "Name: PLATFORMTYPE, dtype: int64\n",
      "\n",
      "\n",
      "CHANNELTYPE :  1\n",
      "Website    113937\n",
      "Name: CHANNELTYPE, dtype: int64\n",
      "\n",
      "\n",
      "URL :  5231\n",
      "https://radrounds.com/radiology-case-images-teaching-file/bilothorax/?fbclid=IwAR3Yw9WM9wiMWr1a1QPTfo4ktG3z5v7TJqCASTbHHi4jNub55m23gxSvsFg                                                                                                                                                                                                                                                                                                                                                 1\n",
      "https://www.rheumatologyadvisor.com/home/news/early-screening-and-management-of-cardiovascular-risk-factors-important-in-psoriatic-arthritis-and-ankylosing-spondylitis/?utm_source=google&utm_medium=ppc&utm_campaign=traffic-drivers-rheum&wbraid=Ck8KCAiAnZCdBhAHEj8AZsozLVtxy9u6cQF2dnYt0nbjZQNjeSi8aqRcDRp5iq0K8jwF3hhD4tUjKCFcteASm_YK7rhsGefT2DFq-8waAuS_&wbraid=Ck8KCAiAnZCdBhAHEj8AZsozLVtxy9u6cQF2dnYt0nbjZQNjeSi8aqRcDRp5iq0K8jwF3hhD4tUjKCFcteASm_YK7rhsGefT2DFq-8waAuS_       1\n",
      "https://www.cureus.com/publish/articles/139646-are-intra-operative-forced-air-warming-devices-a-possible-source-for-contamination-during-hand-surgery/references/edit                                                                                                                                                                                                                                                                                                                      1\n",
      "https://www.renalandurologynews.com/home/news/nephrology/secondary-hyperparathyroidism/only-dialysis-patients-with-good-performance-status-benefit-from-vdras/?utm_source=newsletter&utm_medium=email&utm_campaign=RUN_SPOT_SHPT_PARSABIV_071322_RM&hmEmail=q0VJ853ne7uqauKTZn2Npd%2FfndfC6gdj&hmSubId=&NID=&elqTrackId=908a0b70f38f48e7b8b441cb24d59e44&elq=c976b63205984af6a4bb18151dfeca6e&elqaid=1039&elqat=1&elqCampaignId=756                                                        1\n",
      "https://www.cureus.com/articles/13420-natural-history-of-isolated-skull-fractures-in-children                                                                                                                                                                                                                                                                                                                                                                                              1\n",
      "                                                                                                                                                                                                                                                                                                                                                                                                                                                                                        ... \n",
      "https://www.rheumatologyadvisor.com/home/general-rheumatology/deep-dive-overview-of-liver-manifestations-in-rheumatic-diseases/                                                                                                                                                                                                                                                                                                                                                         2587\n",
      "https://www.clinicaladvisor.com/home/dermatologic-look-alikes/red-rashes-on-the-lower-legs/2/                                                                                                                                                                                                                                                                                                                                                                                           2708\n",
      "https://www.cureus.com/articles/105482-diverticulitis-with-microperforation                                                                                                                                                                                                                                                                                                                                                                                                             2838\n",
      "https://www.gastroenterologyadvisor.com/                                                                                                                                                                                                                                                                                                                                                                                                                                                4299\n",
      "https://www.clinicaladvisor.com/home/features/clinical-challenge/pain-tingling-and-limited-range-of-motion-after-a-cat-bite-to-the-finger/                                                                                                                                                                                                                                                                                                                                              5310\n",
      "Name: URL, Length: 5231, dtype: int64\n",
      "\n",
      "\n"
     ]
    },
    {
     "name": "stdout",
     "output_type": "stream",
     "text": [
      "KEYWORDS :  2460\n",
      "the|lung|educational|pneumonia|radiology|pulmonary fibrosis|dyspnea|technology|pleural effusion|                                                                                                                                                                                                                                                                                                                                                                                                                                                                                                                                                                                                                                                                                                                                                                                                                                                                               1\n",
      "small|nephrology|radiology|preventive medicine|critical care|internal medicine|oncology|forensic medicine|general|specialties|dental|trauma|pain|disease|health|pain management|acos|cardiology|preventive|the|clinical|hematology|proton therapy|dermatology|transplantation|pediatrics|urology|diabetes|cardiac|surgery|                                                                                                                                                                                                                                                                                                                                                                                                                                                                                                                                                                                                                                                     1\n",
      "small|covid|sleep disorders|pain|disease|central nervous system infections|covid-19|oncology|cardiology|the|general|vaccine|clinical|hematology|nervous system|dermatology|urology|headache|                                                                                                                                                                                                                                                                                                                                                                                                                                                                                                                                                                                                                                                                                                                                                                                   1\n",
      "oral & maxillofacial surgery|covid|nephrology|emergency medicine|radiology|mental health|critical care|hepatology|rheumatology|pulmonary medicine|immunocompromised|psychiatry|oncology|vaccination coverage|tetanus|physicians|plastic surgery|chronic|famciclovir|anesthesiology|hepatitis a|liver|hepatitis b|hepatitis c|pregnancy|diagnosis|pain management|gastroenterology|preventive|reproductive|clinical|general practice|transplantation|urology|child|endocrinology|influenza|pathology|vaccines|preventive medicine|internal medicine|flu vaccine|diabetes mellitus|interventional cardiology|virus|medical oncology|nephrology|general|physical medicine & rehabilitation|total|pneumonia|ophthalmology|family medicine|neurology|diphtheria|surgical oncology|infected|pain|disease|intensive care|nuclear medicine|meningitis|aged|health|covid-19|medicine|infertility|hepatitis|flu|the|hematology|vaccine|carcinoma|pediatrics|diabetes|valacyclovir|       1\n",
      "small|nephrology|radiology|elderly|preventive medicine|critical care|internal medicine|bronchopulmonary sequestration|pulmonary medicine|bronchiectasis|cough|oncology|forensic medicine|general|specialties|pneumonia|acquired|trauma|pain|disease|hemoptysis|health|pain management|acos|community-acquired pneumonia|cardiology|preventive|the|clinical|hematology|proton therapy|dermatology|carcinoma|transplantation|pediatrics|urology|biopsy|diabetes|cardiac|surgery|                                                                                                                                                                                                                                                                                                                                                                                                                                                                                                 1\n",
      "                                                                                                                                                                                                                                                                                                                                                                                                                                                                                                                                                                                                                                                                                                                                                                                                                                                                                                                                                                            ... \n",
      "Hemoptysis|Oral|Rheumatology|Cardiovascular|Small|Rheumatoid|Oncology|Ophthalmology|Clinical|Cardiology|Hemorrhage|Health|Biopsy|Hepatology|Hypersensitivity|Refractory|False|Chronic|Psychiatry|Urology|Medicine|Neutrophils|Erythema|Asthma|Diagnosis|Neurology|Orthopedics|Pediatrics|General|Dermatology|Gastroenterology|Surgery|Hematuria|Disseminated Intravascular Coagulation|Arthritis                                                                                                                                                                                                                                                                                                                                                                                                                                                                                                                                                                            2708\n",
      "Myopathies|Small|Rheumatoid|Psychiatry|Urology|General|False|Chronic|Induced|Total|Neurology|Arthralgia|Joints|Medicine|Health|Connective Tissue Diseases|Intrahepatic|Polyarthritis|Gastroenterology|Autoimmune Diseases|Liver Dysfunction|Liver Diseases|Arthritis|Controlled|Synthetic|Clinical|Metabolic|Cardiology|Rheumatology|Liver|Rheumatic Diseases|Genetic|Autoimmune|Dermatology|Oncology|Ophthalmology                                                                                                                                                                                                                                                                                                                                                                                                                                                                                                                                                         2741\n",
      "Health|Male|Neurological Surgery|Otolaryngology|Preventive Medicine|Surgery|Analgesia|Neutrophils|Resuscitation|Dermatology|Neurology|General|Intravenous|Oral|Surgical|Trauma|Orthopedics|Medicine|Monocytes|Specialties|Preventive|Anastomosis|Physical Medicine & Rehabilitation|Rheumatology|Urology|Critical Care|General Practice|Abscess|Dentistry|Small|Gastroenterology|Cardiac|Technology|Operative|Large|Emergency Medicine|Rehabilitation|Drainage|False|Anesthesiology|Oncology|Ophthalmology|Pediatrics|Transplantation|Clinical|Diagnosis|Metabolic|Pathology|Total|Cardiology|Nuclear Medicine|Psychiatry                                                                                                                                                                                                                                                                                                                                                   2838\n",
      "Transplantation|Technology|Chronic|Neoplasms|Urology|Pancreas|Mental Health|Arthritis|Refractory|Myocardial Infarction|Aged|Cardiology|Oncology|Surgical|Balloon|Anesthesia|Synthetic|Hepatic Transplantation|Diagnosis|Neurology|Ophthalmology|Surgery|Total|Atrial Fibrillation|Overweight|Autoimmune|Atherectomy|Heart Defects|Neonatal|Psychological|Stomach|Metabolic|Hospitals|Graves|Esophagus|Liver|Oral|Rheumatology|Insomnia|Acquired|General|Induced|Gastroenterology|Psychiatry|Angioplasty|Cardiovascular|Child|Arrhythmia|Dermatology|Liver Transplantation|Anxiety Disorders|Delivery|Flu|Small|Resuscitation|Asthma|Pathology|Medicine|Health|Clinical|False|Biliary Tract|Lung|Sleep Disorders|Arrhythmias|Bariatric Surgery                                                                                                                                                                                                                               4530\n",
      "Family Practice|Drainage|Clinical|Dermatology|Ophthalmology|Medicine|Allergic|General|Diagnosis|Neurology|Hepatology|Health|Cardiovascular|Surgical|Psychiatry|Oral|Urology|Cardiology|Gastroenterology|Orthopedics|Erythema|Arthritis|Asthma|Cellulitis|Pediatrics|Surgery|False|Oncology|Rheumatology                                                                                                                                                                                                                                                                                                                                                                                                                                                                                                                                                                                                                                                                     5317\n",
      "Name: KEYWORDS, Length: 2460, dtype: int64\n",
      "\n",
      "\n",
      "TAXONOMY :  207\n",
      "207XX0801X       1\n",
      "225400000X       1\n",
      "2085N0904X       1\n",
      "1835P2201X       1\n",
      "363LW0102X       1\n",
      "              ... \n",
      "208000000X     837\n",
      "207R00000X    3190\n",
      "207Q00000X    3997\n",
      "2084N0400X    6621\n",
      "2084P0800X    7930\n",
      "Name: TAXONOMY, Length: 207, dtype: int64\n",
      "\n",
      "\n"
     ]
    }
   ],
   "source": [
    "for column in df_train.columns:\n",
    "    if df_train[column].dtype == 'object':\n",
    "        print(column.upper(),': ',df_train[column].nunique())\n",
    "        print(df_train[column].value_counts().sort_values())\n",
    "        print('\\n')"
   ]
  },
  {
   "cell_type": "code",
   "execution_count": 28,
   "metadata": {},
   "outputs": [
    {
     "name": "stdout",
     "output_type": "stream",
     "text": [
      "ID :  28547\n",
      "139271                                  1\n",
      "115509                                  1\n",
      "115510                                  1\n",
      "115511                                  1\n",
      "115512                                  1\n",
      "                                       ..\n",
      "¡[                                      3\n",
      "wãUU~-(®á38332747)-ñ3ãU9(Qd            3\n",
      "¡]s¹P-\u000f')\u0001<¯\u000eH~\u000fÐ[ÛQÙ\u0011\u000f¹k489.com\u001f     4\n",
      "®átou694\\t.slt                      7\n",
      "è                                      16\n",
      "Name: ID, Length: 28547, dtype: int64\n",
      "\n",
      "\n",
      "DEVICETYPE :  13\n",
      "hospitals|nephrology|rheumatology|psychiatry|oncology|nephrology|specialties|physicians|pulmonary fibrosis|ophthalmology|chronic|neurology|heart failure|disease|health|medicine|hidradenitis suppurativa|gastroenterology|cardiology|the|clinical|dermatology|pediatrics|surgery|endocrinology|            1\n",
      "hospitals|covid|nephrology|myocardial infarction|rheumatology|psychiatry|oncology|nephrology|specialties|physicians|ophthalmology|chronic|neurology|disease|health|covid-19|medicine|gastroenterology|cardiology|the|clinical|dermatology|pediatrics|surgery|endocrinology|                                 1\n",
      "hospitals|nephrology|denervation|rheumatology|psychiatry|oncology|nephrology|specialties|intravenous|physicians|ophthalmology|chronic|neurology|strokes|disease|health|medicine|gastroenterology|cardiology|the|clinical|dermatology|pediatrics|hypertension|surgery|endocrinology|                         1\n",
      "hospitals|disease|rheumatology|health|medicine|gastroenterology|psychiatry|oncology|cardiology|nephrology|the|specialties|clinical|dermatology|physicians|pe|pe|pediatrics|ophthalmology|chronic|neurology|surgery|endocrinology|                                                                           1\n",
      "hospitals|nephrology|rheumatology|psychiatry|malaria|oncology|nephrology|specialties|physicians|ophthalmology|chronic|neurology|disease|pregnancy|health|medicine|gastroenterology|cardiology|the|clinical|dermatology|pediatrics|depression|surgery|endocrinology|                                         2\n",
      "hospitals|covid|nephrology|rheumatology|psychiatry|oncology|nephrology|specialties|physicians|ophthalmology|chronic|neurology|disease|health|covid-19|medicine|gastroenterology|cardiology|the|clinical|dermatology|pediatrics|depression|surgery|endocrinology|                                            2\n",
      "hospitals|rheumatology|psychiatry|oncology|nephrology|specialties|physicians|ophthalmology|pulmonary arterial hypertension|chronic|neurology|disease|health|medicine|gastroenterology|cardiovascular|cardiology|the|clinical|dermatology|pediatrics|radiotherapy|hypertension|surgery|endocrinology|        2\n",
      "hospitals|mental health|rheumatology|psychiatry|oncology|nephrology|specialties|physicians|patient|aspirin|ophthalmology|chronic|neurology|disease|health|medicine|gastroenterology|cardiovascular|cardiology|the|clinical|dermatology|pediatrics|diabetes|surgery|endocrinology|                           3\n",
      "Unknown                                                                                                                                                                                                                                                                                                     6\n",
      "atherosclerosis|hospitals|disease|myocardial infarction|rheumatology|health|medicine|gastroenterology|psychiatry|oncology|cardiology|the|nephrology|specialties|clinical|dermatology|physicians|laser|pediatrics|ophthalmology|chronic|neurology|surgery|endocrinology|                                     7\n",
      "Tablet                                                                                                                                                                                                                                                                                                    810\n",
      "Mobile                                                                                                                                                                                                                                                                                                   7946\n",
      "Desktop                                                                                                                                                                                                                                                                                                 19798\n",
      "Name: DEVICETYPE, dtype: int64\n",
      "\n",
      "\n",
      "USERPLATFORMUID :  18040\n",
      "e7709c86-83eb-4961-a1b3-67be0f176a22      1\n",
      "8affaba4-9d61-4ee6-b297-b5e1b5f97edc      1\n",
      "b5294e22-a94a-415a-a143-afffd319a42e      1\n",
      "49adafe2-f3e5-48be-a632-71c373ff7fc4      1\n",
      "015a8255-0688-47f5-a6b2-184d636a84a9      1\n",
      "                                       ... \n",
      "fa24a307-1001-4f5e-9d87-669e91737c07    144\n",
      "fe53f32c-4646-4abe-afea-90b21d6b8531    146\n",
      "d00f28d6-3a50-46cd-92f3-8601bd57ad0e    169\n",
      "d76f7c0b-1a64-4d4b-b36d-86c832be8837    344\n",
      "3e2578c8-f794-41af-a38c-c5cfb3c0f014    410\n",
      "Name: USERPLATFORMUID, Length: 18040, dtype: int64\n",
      "\n",
      "\n",
      "USERCITY :  3060\n",
      "Horsham           1\n",
      "Mulberry          1\n",
      "Foreston          1\n",
      "Westtown          1\n",
      "Clemson           1\n",
      "               ... \n",
      "Houston         417\n",
      "Los Angeles     575\n",
      "St Louis        665\n",
      "Brooklyn        801\n",
      "New York       2848\n",
      "Name: USERCITY, Length: 3060, dtype: int64\n",
      "\n",
      "\n",
      "USERAGENT :  2379\n",
      "Mozilla/5.0 (Linux; Android 12; SM-A526U) AppleWebKit/537.36 (KHTML, like Gecko) Chrome/103.0.0.0 Mobile Safari/537.36                          1\n",
      "Mozilla/5.0 (Linux; Android 13; SM-F936U) AppleWebKit/537.36 (KHTML, like Gecko) Chrome/113.0.0.0 Mobile Safari/537.36                          1\n",
      "Mozilla/5.0 (Linux; Android 9; SM-T827V) AppleWebKit/537.36 (KHTML, like Gecko) Chrome/108.0.0.0 Mobile Safari/537.36                           1\n",
      "Mozilla/5.0 (Linux; Android 13; SM-F711U) AppleWebKit/537.36 (KHTML, like Gecko) Chrome/110.0.0.0 Mobile Safari/537.36                          1\n",
      "Mozilla/5.0 (Linux; Android 12; SM-S136DL) AppleWebKit/537.36 (KHTML, like Gecko) Chrome/107.0.0.0 Mobile Safari/537.36                         1\n",
      "                                                                                                                                             ... \n",
      "Mozilla/5.0 (iPhone; CPU iPhone OS 16_3_1 like Mac OS X) AppleWebKit/605.1.15 (KHTML, like Gecko) Version/16.3 Mobile/15E148 Safari/604.1     863\n",
      "Mozilla/5.0 (Windows NT 10.0; Win64; x64) AppleWebKit/537.36 (KHTML, like Gecko) Chrome/110.0.0.0 Safari/537.36                               941\n",
      "Mozilla/5.0 (Windows NT 10.0; Win64; x64) AppleWebKit/537.36 (KHTML, like Gecko) Chrome/113.0.0.0 Safari/537.36                               979\n",
      "Mozilla/5.0 (Windows NT 10.0; Win64; x64) AppleWebKit/537.36 (KHTML, like Gecko) Chrome/112.0.0.0 Safari/537.36                              1431\n",
      "Mozilla/5.0 (Windows NT 10.0; Win64; x64) AppleWebKit/537.36 (KHTML, like Gecko) Chrome/111.0.0.0 Safari/537.36                              2109\n",
      "Name: USERAGENT, Length: 2379, dtype: int64\n",
      "\n",
      "\n",
      "PLATFORMTYPE :  4\n",
      "Electronic Health Record        7\n",
      "Medical News Platform         191\n",
      "Online Learning Portal        762\n",
      "Online Medical Journal      27620\n",
      "Name: PLATFORMTYPE, dtype: int64\n",
      "\n",
      "\n",
      "CHANNELTYPE :  1\n",
      "Website    28580\n",
      "Name: CHANNELTYPE, dtype: int64\n",
      "\n",
      "\n",
      "URL :  2756\n",
      "https://www.neurologyadvisor.com/advisor-channels/headache-migraine-advisor/the-comorbidity-of-migraine-and-adhd-is-there-a-link/                                                                                                                                                                                                                                                                                                       1\n",
      "https://www.gastroenterologyadvisor.com/general-gastroenterology/patient-factors-associated-with-appendectomy-within-30-days-of-antibiotics/?utm_source=google&utm_medium=ppc&utm_campaign=jan22-traffic-drivers-gastro&wbraid=ClAKCQjwuaiXBhCdARI_AIMDUnuolhEo_-Ih3yDJnFG7DlFTUMISl3xYqWmNQbYFblZVUXHljac_xn49Y1SMdse0tsRLp66SJivcLwoGGgKt5Q                                                                                           1\n",
      "https://www.renalandurologynews.com/home/news/nephrology/secondary-hyperparathyroidism/only-dialysis-patients-with-good-performance-status-benefit-from-vdras/?utm_source=newsletter&utm_medium=email&utm_campaign=RUN_SPOT_SHPT_PARSABIV_071322_RM&hmEmail=d5aPhLz6rlXwUN9gj1fVmPPtfpnKDAau&hmSubId=&NID=&elqTrackId=2dbb00a4a8b1434d9c53bc52cc9c7c11&elq=0ac88ed90e9e4ed3b3c04c9ffbadf03e&elqaid=1039&elqat=1&elqCampaignId=756       1\n",
      "https://www.cureus.com/articles/153675-diffuse-leptomeningeal-glioneuronal-tumour                                                                                                                                                                                                                                                                                                                                                       1\n",
      "https://www.clinicaladvisor.com/slideshow/ortho-dx/orthodx-thoracic-compression-fracture/?utm_source=newsletter&utm_medium=email&utm_campaign=NWLTR_CAD_DXDX_OrthoDx_090722_JM&hmEmail=e8pqNOGLfHimlbFDbvO4chvriYuUEeZn&sha256email=c684cf3d36514801da8d88153726a62565dff3f3b482b13f933d127efe7e7a2c&hmSubId=&NID=                                                                                                                      1\n",
      "                                                                                                                                                                                                                                                                                                                                                                                                                                     ... \n",
      "https://www.clinicaladvisor.com/home/dermatologic-look-alikes/red-rashes-on-the-lower-legs/2/                                                                                                                                                                                                                                                                                                                                         663\n",
      "https://www.rheumatologyadvisor.com/home/general-rheumatology/deep-dive-overview-of-liver-manifestations-in-rheumatic-diseases/                                                                                                                                                                                                                                                                                                       679\n",
      "https://www.cureus.com/articles/105482-diverticulitis-with-microperforation                                                                                                                                                                                                                                                                                                                                                           706\n",
      "https://www.gastroenterologyadvisor.com/                                                                                                                                                                                                                                                                                                                                                                                             1043\n",
      "https://www.clinicaladvisor.com/home/features/clinical-challenge/pain-tingling-and-limited-range-of-motion-after-a-cat-bite-to-the-finger/                                                                                                                                                                                                                                                                                           1399\n",
      "Name: URL, Length: 2756, dtype: int64\n",
      "\n",
      "\n",
      "KEYWORDS :  1692\n"
     ]
    },
    {
     "name": "stdout",
     "output_type": "stream",
     "text": [
      "Angioedema|Arthropathy|Cardiology|Age Groups|Clinical|Experimental|False|Oncology|Physicians|Health|Thyroid Carcinoma|Child|Hereditary|Acquired|Gastroenterology|Rheumatology|Multiple Sclerosis|Technology|Dermatology|Urology|Hepatology|Total|Neurology                                                                                                                                                                                                                                                                                                                                                                                                                                                                                                                              1\n",
      "small|chronic kidney disease|nephrology|radiology|elderly|preventive medicine|critical care|internal medicine|oncology|forensic medicine|general|specialties|aspirin|trauma|pain|disease|health|pain management|embolism|acos|stroke|cardiology|preventive|the|clinical|hematology|proton therapy|dermatology|sinus|embolic stroke|transplantation|pediatrics|urology|headache|diabetes|hypertension|cardiac|surgery|                                                                                                                                                                                                                                                                                                                                                                   1\n",
      "small|hospitals|emergency medicine|advanced|radiology|rheumatology|psychiatry|forensic|oncology|forensic medicine|specialties|rehabilitation|plastic surgery|trauma|new|educational|anesthesiology|pain management|gastroenterology|radiosurgery|acos|preventive|clinical|proton therapy|general practice|transplantation|urology|sports medicine|cardiac|endocrinology|pathology|dentistry|preventive medicine|internal medicine|nephrology|general|physical medicine & rehabilitation|neurological surgery|radiation oncology|ophthalmology|neurology|genetic|pain|disease|otolaryngology|nuclear medicine|health|orthopedics|medicine|technology|cardiology|the|hematology|dermatology|pediatrics|oral|diabetes|surgery|                                                             1\n",
      "small|hospitals|nephrology|emergency medicine|advanced|radiology|rheumatology|psychiatry|forensic|oncology|forensic medicine|specialties|rehabilitation|plastic surgery|acquired|trauma|new|educational|anesthesiology|pain management|gastroenterology|radiosurgery|acos|preventive|clinical|proton therapy|general practice|transplantation|urology|sports medicine|cardiac|endocrinology|pathology|dentistry|preventive medicine|internal medicine|nephrology|general|physical medicine & rehabilitation|levofloxacin|neurological surgery|radiation oncology|ophthalmology|neurology|pain|disease|otolaryngology|nuclear medicine|health|orthopedics|medicine|technology|community-acquired pneumonia|cardiology|the|hematology|dermatology|pediatrics|oral|diabetes|surgery|       1\n",
      "Medicine|Total|Urology|Keratosis|Controlled|General|Dermatitis|Clinical|Cardiology|False|Dermatology                                                                                                                                                                                                                                                                                                                                                                                                                                                                                                                                                                                                                                                                                    1\n",
      "                                                                                                                                                                                                                                                                                                                                                                                                                                                                                                                                                                                                                                                                                                                                                                                     ... \n",
      "Hemoptysis|Oral|Rheumatology|Cardiovascular|Small|Rheumatoid|Oncology|Ophthalmology|Clinical|Cardiology|Hemorrhage|Health|Biopsy|Hepatology|Hypersensitivity|Refractory|False|Chronic|Psychiatry|Urology|Medicine|Neutrophils|Erythema|Asthma|Diagnosis|Neurology|Orthopedics|Pediatrics|General|Dermatology|Gastroenterology|Surgery|Hematuria|Disseminated Intravascular Coagulation|Arthritis                                                                                                                                                                                                                                                                                                                                                                                      663\n",
      "Health|Male|Neurological Surgery|Otolaryngology|Preventive Medicine|Surgery|Analgesia|Neutrophils|Resuscitation|Dermatology|Neurology|General|Intravenous|Oral|Surgical|Trauma|Orthopedics|Medicine|Monocytes|Specialties|Preventive|Anastomosis|Physical Medicine & Rehabilitation|Rheumatology|Urology|Critical Care|General Practice|Abscess|Dentistry|Small|Gastroenterology|Cardiac|Technology|Operative|Large|Emergency Medicine|Rehabilitation|Drainage|False|Anesthesiology|Oncology|Ophthalmology|Pediatrics|Transplantation|Clinical|Diagnosis|Metabolic|Pathology|Total|Cardiology|Nuclear Medicine|Psychiatry                                                                                                                                                             706\n",
      "Myopathies|Small|Rheumatoid|Psychiatry|Urology|General|False|Chronic|Induced|Total|Neurology|Arthralgia|Joints|Medicine|Health|Connective Tissue Diseases|Intrahepatic|Polyarthritis|Gastroenterology|Autoimmune Diseases|Liver Dysfunction|Liver Diseases|Arthritis|Controlled|Synthetic|Clinical|Metabolic|Cardiology|Rheumatology|Liver|Rheumatic Diseases|Genetic|Autoimmune|Dermatology|Oncology|Ophthalmology                                                                                                                                                                                                                                                                                                                                                                   721\n",
      "Transplantation|Technology|Chronic|Neoplasms|Urology|Pancreas|Mental Health|Arthritis|Refractory|Myocardial Infarction|Aged|Cardiology|Oncology|Surgical|Balloon|Anesthesia|Synthetic|Hepatic Transplantation|Diagnosis|Neurology|Ophthalmology|Surgery|Total|Atrial Fibrillation|Overweight|Autoimmune|Atherectomy|Heart Defects|Neonatal|Psychological|Stomach|Metabolic|Hospitals|Graves|Esophagus|Liver|Oral|Rheumatology|Insomnia|Acquired|General|Induced|Gastroenterology|Psychiatry|Angioplasty|Cardiovascular|Child|Arrhythmia|Dermatology|Liver Transplantation|Anxiety Disorders|Delivery|Flu|Small|Resuscitation|Asthma|Pathology|Medicine|Health|Clinical|False|Biliary Tract|Lung|Sleep Disorders|Arrhythmias|Bariatric Surgery                                        1098\n",
      "Family Practice|Drainage|Clinical|Dermatology|Ophthalmology|Medicine|Allergic|General|Diagnosis|Neurology|Hepatology|Health|Cardiovascular|Surgical|Psychiatry|Oral|Urology|Cardiology|Gastroenterology|Orthopedics|Erythema|Arthritis|Asthma|Cellulitis|Pediatrics|Surgery|False|Oncology|Rheumatology                                                                                                                                                                                                                                                                                                                                                                                                                                                                              1422\n",
      "Name: KEYWORDS, Length: 1692, dtype: int64\n",
      "\n",
      "\n"
     ]
    }
   ],
   "source": [
    "for column in df_test.columns:\n",
    "    if df_test[column].dtype == 'object':\n",
    "        print(column.upper(),': ',df_test[column].nunique())\n",
    "        print(df_test[column].value_counts().sort_values())\n",
    "        print('\\n')"
   ]
  },
  {
   "cell_type": "code",
   "execution_count": 29,
   "metadata": {},
   "outputs": [
    {
     "name": "stdout",
     "output_type": "stream",
     "text": [
      "Total no of duplicate values = 0\n"
     ]
    }
   ],
   "source": [
    "dups=df_train.duplicated()\n",
    "print(\"Total no of duplicate values = %d\" % (dups.sum()))"
   ]
  },
  {
   "cell_type": "code",
   "execution_count": 30,
   "metadata": {},
   "outputs": [],
   "source": [
    "impute_train=['DEVICETYPE', 'BIDREQUESTIP', 'USERPLATFORMUID', 'USERCITY', 'USERAGENT', 'PLATFORMTYPE', 'CHANNELTYPE', 'URL', 'KEYWORDS', 'TAXONOMY']\n",
    "impute_test= ['DEVICETYPE', 'BIDREQUESTIP', 'USERPLATFORMUID', 'USERCITY', 'USERAGENT', 'PLATFORMTYPE', 'CHANNELTYPE', 'URL', 'KEYWORDS']"
   ]
  },
  {
   "cell_type": "code",
   "execution_count": 31,
   "metadata": {},
   "outputs": [],
   "source": [
    "for i in impute_train:\n",
    "    df_train[i].fillna(df_train[i].mode(),inplace=True)"
   ]
  },
  {
   "cell_type": "code",
   "execution_count": 32,
   "metadata": {},
   "outputs": [],
   "source": [
    "for i in impute_test:\n",
    "     df_test[i].fillna(df_test[i].mode(),inplace=True)"
   ]
  },
  {
   "cell_type": "code",
   "execution_count": 33,
   "metadata": {},
   "outputs": [
    {
     "data": {
      "text/plain": [
       "ID                     0\n",
       "DEVICETYPE             0\n",
       "PLATFORM_ID            0\n",
       "BIDREQUESTIP           0\n",
       "USERPLATFORMUID        4\n",
       "USERCITY            6359\n",
       "USERZIPCODE         4592\n",
       "USERAGENT              2\n",
       "PLATFORMTYPE           0\n",
       "CHANNELTYPE            0\n",
       "URL                    0\n",
       "KEYWORDS               0\n",
       "TAXONOMY           81623\n",
       "IS_HCP                 1\n",
       "dtype: int64"
      ]
     },
     "execution_count": 33,
     "metadata": {},
     "output_type": "execute_result"
    }
   ],
   "source": [
    "df_train.isnull().sum()"
   ]
  },
  {
   "cell_type": "code",
   "execution_count": 34,
   "metadata": {
    "scrolled": false
   },
   "outputs": [
    {
     "data": {
      "text/plain": [
       "ID                 0\n",
       "DEVICETYPE         0\n",
       "BIDREQUESTIP       0\n",
       "USERPLATFORMUID    0\n",
       "USERCITY           0\n",
       "USERAGENT          0\n",
       "PLATFORMTYPE       0\n",
       "CHANNELTYPE        0\n",
       "URL                0\n",
       "KEYWORDS           0\n",
       "is_duplicate       0\n",
       "dtype: int64"
      ]
     },
     "execution_count": 34,
     "metadata": {},
     "output_type": "execute_result"
    }
   ],
   "source": [
    "df_test.isnull().sum()"
   ]
  },
  {
   "cell_type": "code",
   "execution_count": 35,
   "metadata": {},
   "outputs": [],
   "source": [
    "\n",
    "# Function to convert URL into numeric representations\n",
    "def url_to_numeric(url):\n",
    "    parsed_url = urllib.parse.urlparse(url)\n",
    "    protocol_numeric = int(parsed_url.scheme == 'https')\n",
    "    domain_numeric = hash(parsed_url.netloc) % 1000\n",
    "    path_length_numeric = len(parsed_url.path)\n",
    "    query_exists_numeric = int(bool(parsed_url.query))\n",
    "    return protocol_numeric, domain_numeric, path_length_numeric, query_exists_numeric\n",
    "\n",
    "# Apply the conversion function to the URL column\n",
    "df_train[['Protocol', 'Domain', 'Path Length', 'Query Exists']]= df_train['URL'].apply(url_to_numeric).apply(pd.Series)\n"
   ]
  },
  {
   "cell_type": "code",
   "execution_count": 36,
   "metadata": {},
   "outputs": [
    {
     "name": "stdout",
     "output_type": "stream",
     "text": [
      "<class 'pandas.core.frame.DataFrame'>\n",
      "RangeIndex: 113937 entries, 0 to 113936\n",
      "Data columns (total 18 columns):\n",
      " #   Column           Non-Null Count   Dtype  \n",
      "---  ------           --------------   -----  \n",
      " 0   ID               113937 non-null  int64  \n",
      " 1   DEVICETYPE       113937 non-null  object \n",
      " 2   PLATFORM_ID      113937 non-null  int64  \n",
      " 3   BIDREQUESTIP     113937 non-null  int64  \n",
      " 4   USERPLATFORMUID  113933 non-null  object \n",
      " 5   USERCITY         107578 non-null  object \n",
      " 6   USERZIPCODE      109345 non-null  float64\n",
      " 7   USERAGENT        113935 non-null  object \n",
      " 8   PLATFORMTYPE     113937 non-null  object \n",
      " 9   CHANNELTYPE      113937 non-null  object \n",
      " 10  URL              113937 non-null  object \n",
      " 11  KEYWORDS         113937 non-null  object \n",
      " 12  TAXONOMY         32314 non-null   object \n",
      " 13  IS_HCP           113936 non-null  float64\n",
      " 14  Protocol         113937 non-null  int64  \n",
      " 15  Domain           113937 non-null  int64  \n",
      " 16  Path Length      113937 non-null  int64  \n",
      " 17  Query Exists     113937 non-null  int64  \n",
      "dtypes: float64(2), int64(7), object(9)\n",
      "memory usage: 15.6+ MB\n"
     ]
    }
   ],
   "source": [
    "df_train.info()"
   ]
  },
  {
   "cell_type": "code",
   "execution_count": 37,
   "metadata": {},
   "outputs": [
    {
     "name": "stdout",
     "output_type": "stream",
     "text": [
      "            ID DEVICETYPE  PLATFORM_ID  BIDREQUESTIP  \\\n",
      "0         1001    Desktop            2    2863464470   \n",
      "1         1002    Desktop            2    1104739609   \n",
      "2         1003    Desktop            2    1122520854   \n",
      "3         1004    Desktop            3    2302049782   \n",
      "4         1005     Mobile            7    2932533091   \n",
      "...        ...        ...          ...           ...   \n",
      "113932  114933    Desktop            2    1146249598   \n",
      "113933  114934    Desktop            2    1756105581   \n",
      "113934  114935    Desktop            7    2920636017   \n",
      "113935  114936     Mobile            2    1174241667   \n",
      "113936  114937     Mobile            2    1814686127   \n",
      "\n",
      "                             USERPLATFORMUID      USERCITY  USERZIPCODE  \\\n",
      "0       6974dcaa-f932-480e-9fb5-c52e20e1393a      Portland      97206.0   \n",
      "1       c12f3f8f-8fcf-484a-90e1-1ac04db8cdcf     Arlington      22202.0   \n",
      "2       a698de4b-e200-46dd-b5fb-40402175ae18   New Meadows      83654.0   \n",
      "3       45967533-75c8-4fbd-a00c-e6ff20447aaa           NaN  229114624.0   \n",
      "4       a17e25be-532d-4cf5-b916-9308c8c3961f       Houston      77008.0   \n",
      "...                                      ...           ...          ...   \n",
      "113932  051e4a06-4cb4-4b97-b0b1-d1c6a2b8e2c2  Philadelphia      19120.0   \n",
      "113933  3289bba5-4a50-4b61-a5cc-68596bbdc2bf      Van Nuys  914014213.0   \n",
      "113934  9c36e90c-caa7-4323-8431-fb84f8293972           NaN      98105.0   \n",
      "113935  afc27760-31f7-4f6e-aa08-90d8a96525d0    Wilmington      19808.0   \n",
      "113936  d26887c5-15f9-4b72-80dc-728039529e60  White Plains      10605.0   \n",
      "\n",
      "                                                USERAGENT  \\\n",
      "0       Mozilla/5.0 (Windows NT 10.0; Win64; x64) Appl...   \n",
      "1       Mozilla/5.0 (Macintosh; Intel Mac OS X 10_15_7...   \n",
      "2       Mozilla/5.0 (Macintosh; Intel Mac OS X 10_15_7...   \n",
      "3       Mozilla/5.0 (Windows NT 10.0; Win64; x64) Appl...   \n",
      "4       Mozilla/5.0 (iPhone; CPU iPhone OS 16_1_1 like...   \n",
      "...                                                   ...   \n",
      "113932  Mozilla/5.0 (Macintosh; Intel Mac OS X 10_15_6...   \n",
      "113933  Mozilla/5.0 (Windows NT 6.1; Win64; x64) Apple...   \n",
      "113934  Mozilla/5.0 (Macintosh; Intel Mac OS X 10_15_7...   \n",
      "113935  Mozilla/5.0 (iPhone; CPU iPhone OS 15_6_1 like...   \n",
      "113936  Mozilla/5.0 (iPhone; CPU iPhone OS 16_1 like M...   \n",
      "\n",
      "                  PLATFORMTYPE CHANNELTYPE  \\\n",
      "0       Online Medical Journal     Website   \n",
      "1       Online Medical Journal     Website   \n",
      "2       Online Medical Journal     Website   \n",
      "3       Online Medical Journal     Website   \n",
      "4       Online Medical Journal     Website   \n",
      "...                        ...         ...   \n",
      "113932  Online Medical Journal     Website   \n",
      "113933  Online Medical Journal     Website   \n",
      "113934  Online Medical Journal     Website   \n",
      "113935  Online Medical Journal     Website   \n",
      "113936  Online Medical Journal     Website   \n",
      "\n",
      "                                                      URL  \\\n",
      "0       https://www.cancertherapyadvisor.com/home/canc...   \n",
      "1       https://www.cancertherapyadvisor.com/home/deci...   \n",
      "2       https://www.cancertherapyadvisor.com/home/canc...   \n",
      "3       https://globalrph.com/medcalcs/warfarin-mainte...   \n",
      "4       https://www.cureus.com/articles/58184-a-review...   \n",
      "...                                                   ...   \n",
      "113932  https://www.clinicaladvisor.com/home/consultat...   \n",
      "113933  https://www.clinicaladvisor.com/home/features/...   \n",
      "113934  https://www.cureus.com/articles/39455-whats-th...   \n",
      "113935  https://www.dermatologyadvisor.com/home/topics...   \n",
      "113936                        https://www.medicalbag.com/   \n",
      "\n",
      "                                                 KEYWORDS    TAXONOMY  IS_HCP  \\\n",
      "0       General|Endocrine|False|Medicine|Surgery|Urolo...  2084P0800X     0.0   \n",
      "1       Bone Marrow|Radiography|Chronic|Oncology|Psych...         NaN     0.0   \n",
      "2       General|Endocrine|False|Medicine|Surgery|Urolo...         NaN     0.0   \n",
      "3       Dental|Total|Clinical|Pharmacology|Physicians|...  2084P0800X     1.0   \n",
      "4       Critical Care|Emergency Medicine|General Pract...         NaN     0.0   \n",
      "...                                                   ...         ...     ...   \n",
      "113932  Cardiovascular|Clinical|False|Male|Oncology|Ps...  207RP1001X     1.0   \n",
      "113933  Asthma|Arthritis|General|Clinical|Diagnosis|Rh...  2084P0800X     1.0   \n",
      "113934  Rehabilitation|Transplantation|Clinical|Preven...  208000000X     1.0   \n",
      "113935  pain|disease|autoimmune|multiple sclerosis|gra...  2084P0800X     1.0   \n",
      "113936  Genetic|Large|Autoimmune|Health|False|Abortion...  2084P0800X     1.0   \n",
      "\n",
      "        Protocol  Domain  Path Length  Query Exists  \n",
      "0              1     668           36             0  \n",
      "1              1     668           69             0  \n",
      "2              1     668           36             0  \n",
      "3              1     692           49             0  \n",
      "4              1     779           90             0  \n",
      "...          ...     ...          ...           ...  \n",
      "113932         1     549           68             0  \n",
      "113933         1     549           23             0  \n",
      "113934         1     779           88             0  \n",
      "113935         1     786           72             1  \n",
      "113936         1     925            1             0  \n",
      "\n",
      "[113937 rows x 18 columns]\n"
     ]
    }
   ],
   "source": [
    "\n",
    "# Function to convert URL into numeric representations\n",
    "def url_to_numeric(url):\n",
    "    parsed_url = urllib.parse.urlparse(url)\n",
    "    protocol_numeric = int(parsed_url.scheme == 'https')\n",
    "    domain_numeric = hash(parsed_url.netloc) % 1000\n",
    "    path_length_numeric = len(parsed_url.path)\n",
    "    query_exists_numeric = int(bool(parsed_url.query))\n",
    "    return protocol_numeric, domain_numeric, path_length_numeric, query_exists_numeric\n",
    "\n",
    "# Apply the conversion function to the URL column\n",
    "df_test[['Protocol', 'Domain', 'Path Length', 'Query Exists']]= df_test['URL'].apply(url_to_numeric).apply(pd.Series)\n",
    "\n",
    "# Print the updated DataFrame\n",
    "print(df_train)\n"
   ]
  },
  {
   "cell_type": "code",
   "execution_count": null,
   "metadata": {
    "scrolled": true
   },
   "outputs": [],
   "source": []
  },
  {
   "cell_type": "code",
   "execution_count": 38,
   "metadata": {},
   "outputs": [
    {
     "name": "stdout",
     "output_type": "stream",
     "text": [
      "<class 'pandas.core.frame.DataFrame'>\n",
      "RangeIndex: 28580 entries, 0 to 28579\n",
      "Data columns (total 15 columns):\n",
      " #   Column           Non-Null Count  Dtype \n",
      "---  ------           --------------  ----- \n",
      " 0   ID               28580 non-null  object\n",
      " 1   DEVICETYPE       28580 non-null  object\n",
      " 2   BIDREQUESTIP     28580 non-null  int64 \n",
      " 3   USERPLATFORMUID  28580 non-null  object\n",
      " 4   USERCITY         28580 non-null  object\n",
      " 5   USERAGENT        28580 non-null  object\n",
      " 6   PLATFORMTYPE     28580 non-null  object\n",
      " 7   CHANNELTYPE      28580 non-null  object\n",
      " 8   URL              28580 non-null  object\n",
      " 9   KEYWORDS         28580 non-null  object\n",
      " 10  is_duplicate     28580 non-null  int32 \n",
      " 11  Protocol         28580 non-null  int64 \n",
      " 12  Domain           28580 non-null  int64 \n",
      " 13  Path Length      28580 non-null  int64 \n",
      " 14  Query Exists     28580 non-null  int64 \n",
      "dtypes: int32(1), int64(5), object(9)\n",
      "memory usage: 3.2+ MB\n"
     ]
    }
   ],
   "source": [
    "df_test.info()"
   ]
  },
  {
   "cell_type": "code",
   "execution_count": 39,
   "metadata": {},
   "outputs": [
    {
     "data": {
      "text/plain": [
       "ID                     0\n",
       "DEVICETYPE             0\n",
       "PLATFORM_ID            0\n",
       "BIDREQUESTIP           0\n",
       "USERPLATFORMUID        4\n",
       "USERCITY            6359\n",
       "USERZIPCODE         4592\n",
       "USERAGENT              2\n",
       "PLATFORMTYPE           0\n",
       "CHANNELTYPE            0\n",
       "URL                    0\n",
       "KEYWORDS               0\n",
       "TAXONOMY           81623\n",
       "IS_HCP                 1\n",
       "Protocol               0\n",
       "Domain                 0\n",
       "Path Length            0\n",
       "Query Exists           0\n",
       "dtype: int64"
      ]
     },
     "execution_count": 39,
     "metadata": {},
     "output_type": "execute_result"
    }
   ],
   "source": [
    "df_train.isnull().sum()"
   ]
  },
  {
   "cell_type": "code",
   "execution_count": 40,
   "metadata": {},
   "outputs": [
    {
     "data": {
      "text/plain": [
       "ID                 0\n",
       "DEVICETYPE         0\n",
       "BIDREQUESTIP       0\n",
       "USERPLATFORMUID    0\n",
       "USERCITY           0\n",
       "USERAGENT          0\n",
       "PLATFORMTYPE       0\n",
       "CHANNELTYPE        0\n",
       "URL                0\n",
       "KEYWORDS           0\n",
       "is_duplicate       0\n",
       "Protocol           0\n",
       "Domain             0\n",
       "Path Length        0\n",
       "Query Exists       0\n",
       "dtype: int64"
      ]
     },
     "execution_count": 40,
     "metadata": {},
     "output_type": "execute_result"
    }
   ],
   "source": [
    "df_test.isnull().sum()"
   ]
  },
  {
   "cell_type": "code",
   "execution_count": null,
   "metadata": {},
   "outputs": [],
   "source": []
  },
  {
   "cell_type": "code",
   "execution_count": 41,
   "metadata": {},
   "outputs": [
    {
     "data": {
      "text/plain": [
       "(28580, 15)"
      ]
     },
     "execution_count": 41,
     "metadata": {},
     "output_type": "execute_result"
    }
   ],
   "source": [
    "df_test.shape"
   ]
  },
  {
   "cell_type": "code",
   "execution_count": 42,
   "metadata": {},
   "outputs": [
    {
     "name": "stdout",
     "output_type": "stream",
     "text": [
      "            ID DEVICETYPE  PLATFORM_ID  BIDREQUESTIP  \\\n",
      "0         1001    Desktop            2    2863464470   \n",
      "1         1002    Desktop            2    1104739609   \n",
      "2         1003    Desktop            2    1122520854   \n",
      "3         1004    Desktop            3    2302049782   \n",
      "4         1005     Mobile            7    2932533091   \n",
      "...        ...        ...          ...           ...   \n",
      "113932  114933    Desktop            2    1146249598   \n",
      "113933  114934    Desktop            2    1756105581   \n",
      "113934  114935    Desktop            7    2920636017   \n",
      "113935  114936     Mobile            2    1174241667   \n",
      "113936  114937     Mobile            2    1814686127   \n",
      "\n",
      "                             USERPLATFORMUID      USERCITY  USERZIPCODE  \\\n",
      "0       6974dcaa-f932-480e-9fb5-c52e20e1393a      Portland      97206.0   \n",
      "1       c12f3f8f-8fcf-484a-90e1-1ac04db8cdcf     Arlington      22202.0   \n",
      "2       a698de4b-e200-46dd-b5fb-40402175ae18   New Meadows      83654.0   \n",
      "3       45967533-75c8-4fbd-a00c-e6ff20447aaa           NaN  229114624.0   \n",
      "4       a17e25be-532d-4cf5-b916-9308c8c3961f       Houston      77008.0   \n",
      "...                                      ...           ...          ...   \n",
      "113932  051e4a06-4cb4-4b97-b0b1-d1c6a2b8e2c2  Philadelphia      19120.0   \n",
      "113933  3289bba5-4a50-4b61-a5cc-68596bbdc2bf      Van Nuys  914014213.0   \n",
      "113934  9c36e90c-caa7-4323-8431-fb84f8293972           NaN      98105.0   \n",
      "113935  afc27760-31f7-4f6e-aa08-90d8a96525d0    Wilmington      19808.0   \n",
      "113936  d26887c5-15f9-4b72-80dc-728039529e60  White Plains      10605.0   \n",
      "\n",
      "                                                USERAGENT  \\\n",
      "0       Mozilla/5.0 (Windows NT 10.0; Win64; x64) Appl...   \n",
      "1       Mozilla/5.0 (Macintosh; Intel Mac OS X 10_15_7...   \n",
      "2       Mozilla/5.0 (Macintosh; Intel Mac OS X 10_15_7...   \n",
      "3       Mozilla/5.0 (Windows NT 10.0; Win64; x64) Appl...   \n",
      "4       Mozilla/5.0 (iPhone; CPU iPhone OS 16_1_1 like...   \n",
      "...                                                   ...   \n",
      "113932  Mozilla/5.0 (Macintosh; Intel Mac OS X 10_15_6...   \n",
      "113933  Mozilla/5.0 (Windows NT 6.1; Win64; x64) Apple...   \n",
      "113934  Mozilla/5.0 (Macintosh; Intel Mac OS X 10_15_7...   \n",
      "113935  Mozilla/5.0 (iPhone; CPU iPhone OS 15_6_1 like...   \n",
      "113936  Mozilla/5.0 (iPhone; CPU iPhone OS 16_1 like M...   \n",
      "\n",
      "                  PLATFORMTYPE CHANNELTYPE  ... Domain Path Length  \\\n",
      "0       Online Medical Journal     Website  ...    668          36   \n",
      "1       Online Medical Journal     Website  ...    668          69   \n",
      "2       Online Medical Journal     Website  ...    668          36   \n",
      "3       Online Medical Journal     Website  ...    692          49   \n",
      "4       Online Medical Journal     Website  ...    779          90   \n",
      "...                        ...         ...  ...    ...         ...   \n",
      "113932  Online Medical Journal     Website  ...    549          68   \n",
      "113933  Online Medical Journal     Website  ...    549          23   \n",
      "113934  Online Medical Journal     Website  ...    779          88   \n",
      "113935  Online Medical Journal     Website  ...    786          72   \n",
      "113936  Online Medical Journal     Website  ...    925           1   \n",
      "\n",
      "       Query Exists  healthcare  doctor  medicine  patient care  \\\n",
      "0                 0           0       0         1             0   \n",
      "1                 0           0       0         1             0   \n",
      "2                 0           0       0         1             0   \n",
      "3                 0           0       0         0             0   \n",
      "4                 0           0       0         1             0   \n",
      "...             ...         ...     ...       ...           ...   \n",
      "113932            0           0       0         1             0   \n",
      "113933            0           0       0         1             0   \n",
      "113934            0           0       0         1             1   \n",
      "113935            1           0       0         0             0   \n",
      "113936            0           0       0         1             0   \n",
      "\n",
      "        Health Care Professional  Health Services  Physicians  \n",
      "0                              0                0           1  \n",
      "1                              0                0           1  \n",
      "2                              0                0           1  \n",
      "3                              0                0           1  \n",
      "4                              0                0           0  \n",
      "...                          ...              ...         ...  \n",
      "113932                         0                0           0  \n",
      "113933                         0                0           0  \n",
      "113934                         0                0           0  \n",
      "113935                         0                0           0  \n",
      "113936                         0                0           1  \n",
      "\n",
      "[113937 rows x 25 columns]\n"
     ]
    }
   ],
   "source": [
    "# Define keywords\n",
    "keywords = ['healthcare','doctor','medicine','patient care','Health Care Professional','Health Services','Physicians']\n",
    "\n",
    "# Create binary features for each keyword\n",
    "for keyword in keywords:\n",
    "    df_train[keyword] = np.where(df_train['KEYWORDS'].str.contains(keyword, case=False), 1, 0)\n",
    "\n",
    "# Print the updated DataFrame\n",
    "print(df_train)\n"
   ]
  },
  {
   "cell_type": "code",
   "execution_count": 43,
   "metadata": {},
   "outputs": [
    {
     "name": "stdout",
     "output_type": "stream",
     "text": [
      "           ID DEVICETYPE  BIDREQUESTIP                       USERPLATFORMUID  \\\n",
      "0      115501    Desktop    1270736743  0d5041ff-f0b6-4d1a-9ad7-0a29f7d485b4   \n",
      "1      115502     Mobile     409280926  c8396dd0-969f-4d99-a40b-b7bb1f516154   \n",
      "2      115503    Desktop    2893469838  3c97a081-6518-43f8-9f26-369759cfb471   \n",
      "3      115504    Desktop    1198094507  3e2578c8-f794-41af-a38c-c5cfb3c0f014   \n",
      "4      115505    Desktop    1230164809  ec2ae7ce-6a8c-4156-98a7-07203e60f483   \n",
      "...       ...        ...           ...                                   ...   \n",
      "28575  144026    Desktop    1170926065  78ce4bbe-3885-4c14-b945-a0ea1e4574f4   \n",
      "28576  144027    Desktop    1258602049  a53799e1-b279-40cf-b467-11b4d659e325   \n",
      "28577  144028    Desktop    2301932589  acc732a8-2ee9-4e2c-9933-70e34db48101   \n",
      "28578  144029    Desktop    1123631620  dce21294-b105-4abb-b145-4e62d71def44   \n",
      "28579  144030    Desktop    1807884693  f9b193b0-82b0-4ac8-b24a-5635401ca934   \n",
      "\n",
      "              USERCITY                                          USERAGENT  \\\n",
      "0         Fayetteville  Mozilla/5.0 (Macintosh; Intel Mac OS X 10_11_6...   \n",
      "1        Conneaut Lake  Mozilla/5.0 (iPhone; CPU iPhone OS 15_6_1 like...   \n",
      "2               Covina  Mozilla/5.0 (Macintosh; Intel Mac OS X 10_15_7...   \n",
      "3             Brooklyn  Mozilla/5.0 (Macintosh; Intel Mac OS X 10_15_7...   \n",
      "4             Marietta  Mozilla/5.0 (Windows NT 10.0; Win64; x64) Appl...   \n",
      "...                ...                                                ...   \n",
      "28575         Brooklyn  Mozilla/5.0 (Windows NT 10.0; WOW64) AppleWebK...   \n",
      "28576            Miami  Mozilla/5.0 (Windows NT 10.0; Win64; x64) Appl...   \n",
      "28577  Fort Lauderdale  Mozilla/5.0 (Macintosh; Intel Mac OS X 10_15_7...   \n",
      "28578         New York  Mozilla/5.0 (Linux; Android 6.0.1; Nexus 5X Bu...   \n",
      "28579       Wilmington  Mozilla/5.0 (Windows NT 10.0; Win64; x64) Appl...   \n",
      "\n",
      "                 PLATFORMTYPE CHANNELTYPE  \\\n",
      "0      Online Medical Journal     Website   \n",
      "1      Online Medical Journal     Website   \n",
      "2      Online Medical Journal     Website   \n",
      "3      Online Medical Journal     Website   \n",
      "4      Online Medical Journal     Website   \n",
      "...                       ...         ...   \n",
      "28575  Online Medical Journal     Website   \n",
      "28576  Online Medical Journal     Website   \n",
      "28577  Online Medical Journal     Website   \n",
      "28578  Online Medical Journal     Website   \n",
      "28579  Online Medical Journal     Website   \n",
      "\n",
      "                                                     URL  \\\n",
      "0      https://www.clinicaladvisor.com/home/features/...   \n",
      "1      https://www.ophthalmologyadvisor.com/topics/ca...   \n",
      "2      https://www.psychiatryadvisor.com/author/tori-...   \n",
      "3      https://www.cureus.com/articles/105482-diverti...   \n",
      "4      https://www.renalandurologynews.com/home/confe...   \n",
      "...                                                  ...   \n",
      "28575  https://www.renalandurologynews.com/home/news/...   \n",
      "28576  https://www.cureus.com/publish/articles/144818...   \n",
      "28577  https://www.cureus.com/registrations/continue?...   \n",
      "28578  https://radrounds.com/radiology-case-images-te...   \n",
      "28579  https://www.clinicalpainadvisor.com/regulatory...   \n",
      "\n",
      "                                                KEYWORDS  ...  Domain  \\\n",
      "0      Family Practice|Drainage|Clinical|Dermatology|...  ...     549   \n",
      "1      General|Clinical|Operative|Medicine|Cardiology...  ...     386   \n",
      "2      Abortion|Anxiety Disorders|Apnea|False|Trauma|...  ...     575   \n",
      "3      Health|Male|Neurological Surgery|Otolaryngolog...  ...     779   \n",
      "4      chronic kidney disease|pain|nephrology|disease...  ...     540   \n",
      "...                                                  ...  ...     ...   \n",
      "28575  Transplantation|Psychiatry|Heart Failure|Angio...  ...     540   \n",
      "28576  small|hospitals|nephrology|emergency medicine|...  ...     779   \n",
      "28577  small|hospitals|nephrology|emergency medicine|...  ...     779   \n",
      "28578  the|disease|pain|radiology|lung abscess|dyspar...  ...     622   \n",
      "28579  Medicine|General|Clinical|False|Urology|Total|...  ...     948   \n",
      "\n",
      "       Path Length  Query Exists  healthcare  doctor  medicine  patient care  \\\n",
      "0              107             0           0       0         1             0   \n",
      "1               68             0           0       0         1             0   \n",
      "2               30             0           0       0         1             0   \n",
      "3               53             0           0       0         1             0   \n",
      "4               93             0           0       0         0             0   \n",
      "...            ...           ...         ...     ...       ...           ...   \n",
      "28575           93             0           0       0         1             0   \n",
      "28576           40             0           0       0         1             0   \n",
      "28577           23             1           0       0         1             0   \n",
      "28578           67             0           0       0         0             0   \n",
      "28579           68             0           0       0         1             0   \n",
      "\n",
      "       Health Care Professional  Health Services  Physicians  \n",
      "0                             0                0           0  \n",
      "1                             0                0           0  \n",
      "2                             0                0           0  \n",
      "3                             0                0           0  \n",
      "4                             0                0           0  \n",
      "...                         ...              ...         ...  \n",
      "28575                         0                0           0  \n",
      "28576                         0                0           0  \n",
      "28577                         0                0           0  \n",
      "28578                         0                0           0  \n",
      "28579                         0                0           0  \n",
      "\n",
      "[28580 rows x 22 columns]\n"
     ]
    }
   ],
   "source": [
    "# Define keywords\n",
    "keywords = ['healthcare','doctor','medicine','patient care','Health Care Professional','Health Services','Physicians']\n",
    "\n",
    "# Create binary features for each keyword\n",
    "for keyword in keywords:\n",
    "    df_test[keyword] = np.where(df_test['KEYWORDS'].str.contains(keyword, case=False), 1, 0)\n",
    "\n",
    "# Print the updated DataFrame\n",
    "print(df_test)\n"
   ]
  },
  {
   "cell_type": "code",
   "execution_count": 44,
   "metadata": {},
   "outputs": [
    {
     "name": "stdout",
     "output_type": "stream",
     "text": [
      "<class 'pandas.core.frame.DataFrame'>\n",
      "RangeIndex: 28580 entries, 0 to 28579\n",
      "Data columns (total 22 columns):\n",
      " #   Column                    Non-Null Count  Dtype \n",
      "---  ------                    --------------  ----- \n",
      " 0   ID                        28580 non-null  object\n",
      " 1   DEVICETYPE                28580 non-null  object\n",
      " 2   BIDREQUESTIP              28580 non-null  int64 \n",
      " 3   USERPLATFORMUID           28580 non-null  object\n",
      " 4   USERCITY                  28580 non-null  object\n",
      " 5   USERAGENT                 28580 non-null  object\n",
      " 6   PLATFORMTYPE              28580 non-null  object\n",
      " 7   CHANNELTYPE               28580 non-null  object\n",
      " 8   URL                       28580 non-null  object\n",
      " 9   KEYWORDS                  28580 non-null  object\n",
      " 10  is_duplicate              28580 non-null  int32 \n",
      " 11  Protocol                  28580 non-null  int64 \n",
      " 12  Domain                    28580 non-null  int64 \n",
      " 13  Path Length               28580 non-null  int64 \n",
      " 14  Query Exists              28580 non-null  int64 \n",
      " 15  healthcare                28580 non-null  int32 \n",
      " 16  doctor                    28580 non-null  int32 \n",
      " 17  medicine                  28580 non-null  int32 \n",
      " 18  patient care              28580 non-null  int32 \n",
      " 19  Health Care Professional  28580 non-null  int32 \n",
      " 20  Health Services           28580 non-null  int32 \n",
      " 21  Physicians                28580 non-null  int32 \n",
      "dtypes: int32(8), int64(5), object(9)\n",
      "memory usage: 3.9+ MB\n"
     ]
    }
   ],
   "source": [
    "df_test.info()"
   ]
  },
  {
   "cell_type": "code",
   "execution_count": 45,
   "metadata": {},
   "outputs": [],
   "source": [
    "\n",
    "df_train.drop('URL',axis=1,inplace=True)\n",
    "df_test.drop('URL',axis=1,inplace=True)\n",
    "\n",
    "df_train.dropna(subset=['USERCITY'],inplace=True)\n",
    "#df_test.dropna(subset=['USERCITY'],inplace=True)\n",
    "\n",
    "\n",
    "df_train.drop('KEYWORDS',axis=1,inplace=True)\n",
    "df_test.drop('KEYWORDS',axis=1,inplace=True)\n",
    "\n",
    "df_train.dropna(subset=['USERZIPCODE'],inplace=True)\n",
    "#df_test.dropna(subset=['USERZIPCODE'],inplace=True)\n",
    "\n",
    "df_train.dropna(subset=['IS_HCP'],inplace=True)\n",
    "\n",
    "\n",
    "df_train.drop('TAXONOMY',axis=1,inplace=True)\n",
    "\n",
    "\n",
    "\n",
    "df_train.drop('USERPLATFORMUID',axis=1,inplace=True)\n",
    "df_test.drop('USERPLATFORMUID',axis=1,inplace=True)\n",
    "\n",
    "\n",
    "df_train.drop('PLATFORM_ID',axis=1,inplace=True)\n",
    "\n",
    "\n",
    "df_train.drop('CHANNELTYPE',axis=1,inplace=True)\n",
    "df_test.drop('CHANNELTYPE',axis=1,inplace=True)"
   ]
  },
  {
   "cell_type": "code",
   "execution_count": 46,
   "metadata": {},
   "outputs": [],
   "source": [
    "df_train.drop('USERAGENT',axis=1,inplace=True)\n",
    "df_test.drop('USERAGENT',axis=1,inplace=True)\n",
    "df_train.drop('USERCITY',axis=1,inplace=True)\n",
    "df_test.drop('USERCITY',axis=1,inplace=True)"
   ]
  },
  {
   "cell_type": "code",
   "execution_count": 47,
   "metadata": {},
   "outputs": [
    {
     "name": "stdout",
     "output_type": "stream",
     "text": [
      "<class 'pandas.core.frame.DataFrame'>\n",
      "Int64Index: 107575 entries, 0 to 113936\n",
      "Data columns (total 17 columns):\n",
      " #   Column                    Non-Null Count   Dtype  \n",
      "---  ------                    --------------   -----  \n",
      " 0   ID                        107575 non-null  int64  \n",
      " 1   DEVICETYPE                107575 non-null  object \n",
      " 2   BIDREQUESTIP              107575 non-null  int64  \n",
      " 3   USERZIPCODE               107575 non-null  float64\n",
      " 4   PLATFORMTYPE              107575 non-null  object \n",
      " 5   IS_HCP                    107575 non-null  float64\n",
      " 6   Protocol                  107575 non-null  int64  \n",
      " 7   Domain                    107575 non-null  int64  \n",
      " 8   Path Length               107575 non-null  int64  \n",
      " 9   Query Exists              107575 non-null  int64  \n",
      " 10  healthcare                107575 non-null  int32  \n",
      " 11  doctor                    107575 non-null  int32  \n",
      " 12  medicine                  107575 non-null  int32  \n",
      " 13  patient care              107575 non-null  int32  \n",
      " 14  Health Care Professional  107575 non-null  int32  \n",
      " 15  Health Services           107575 non-null  int32  \n",
      " 16  Physicians                107575 non-null  int32  \n",
      "dtypes: float64(2), int32(7), int64(6), object(2)\n",
      "memory usage: 11.9+ MB\n"
     ]
    }
   ],
   "source": [
    "df_train.info()"
   ]
  },
  {
   "cell_type": "code",
   "execution_count": 48,
   "metadata": {},
   "outputs": [
    {
     "name": "stdout",
     "output_type": "stream",
     "text": [
      "<class 'pandas.core.frame.DataFrame'>\n",
      "RangeIndex: 28580 entries, 0 to 28579\n",
      "Data columns (total 16 columns):\n",
      " #   Column                    Non-Null Count  Dtype \n",
      "---  ------                    --------------  ----- \n",
      " 0   ID                        28580 non-null  object\n",
      " 1   DEVICETYPE                28580 non-null  object\n",
      " 2   BIDREQUESTIP              28580 non-null  int64 \n",
      " 3   PLATFORMTYPE              28580 non-null  object\n",
      " 4   is_duplicate              28580 non-null  int32 \n",
      " 5   Protocol                  28580 non-null  int64 \n",
      " 6   Domain                    28580 non-null  int64 \n",
      " 7   Path Length               28580 non-null  int64 \n",
      " 8   Query Exists              28580 non-null  int64 \n",
      " 9   healthcare                28580 non-null  int32 \n",
      " 10  doctor                    28580 non-null  int32 \n",
      " 11  medicine                  28580 non-null  int32 \n",
      " 12  patient care              28580 non-null  int32 \n",
      " 13  Health Care Professional  28580 non-null  int32 \n",
      " 14  Health Services           28580 non-null  int32 \n",
      " 15  Physicians                28580 non-null  int32 \n",
      "dtypes: int32(8), int64(5), object(3)\n",
      "memory usage: 2.6+ MB\n"
     ]
    }
   ],
   "source": [
    "df_test.info()"
   ]
  },
  {
   "cell_type": "markdown",
   "metadata": {},
   "source": [
    "### Dropping unnecessary columns"
   ]
  },
  {
   "cell_type": "code",
   "execution_count": 49,
   "metadata": {},
   "outputs": [],
   "source": [
    "df_train.drop('ID',axis=1,inplace=True)"
   ]
  },
  {
   "cell_type": "code",
   "execution_count": 50,
   "metadata": {},
   "outputs": [
    {
     "name": "stdout",
     "output_type": "stream",
     "text": [
      "<class 'pandas.core.frame.DataFrame'>\n",
      "Int64Index: 107575 entries, 0 to 113936\n",
      "Data columns (total 16 columns):\n",
      " #   Column                    Non-Null Count   Dtype  \n",
      "---  ------                    --------------   -----  \n",
      " 0   DEVICETYPE                107575 non-null  object \n",
      " 1   BIDREQUESTIP              107575 non-null  int64  \n",
      " 2   USERZIPCODE               107575 non-null  float64\n",
      " 3   PLATFORMTYPE              107575 non-null  object \n",
      " 4   IS_HCP                    107575 non-null  float64\n",
      " 5   Protocol                  107575 non-null  int64  \n",
      " 6   Domain                    107575 non-null  int64  \n",
      " 7   Path Length               107575 non-null  int64  \n",
      " 8   Query Exists              107575 non-null  int64  \n",
      " 9   healthcare                107575 non-null  int32  \n",
      " 10  doctor                    107575 non-null  int32  \n",
      " 11  medicine                  107575 non-null  int32  \n",
      " 12  patient care              107575 non-null  int32  \n",
      " 13  Health Care Professional  107575 non-null  int32  \n",
      " 14  Health Services           107575 non-null  int32  \n",
      " 15  Physicians                107575 non-null  int32  \n",
      "dtypes: float64(2), int32(7), int64(5), object(2)\n",
      "memory usage: 11.1+ MB\n"
     ]
    }
   ],
   "source": [
    "df_train.info()"
   ]
  },
  {
   "cell_type": "markdown",
   "metadata": {},
   "source": [
    "### Encoding Categorical values"
   ]
  },
  {
   "cell_type": "code",
   "execution_count": 51,
   "metadata": {},
   "outputs": [
    {
     "data": {
      "text/html": [
       "<div>\n",
       "<style scoped>\n",
       "    .dataframe tbody tr th:only-of-type {\n",
       "        vertical-align: middle;\n",
       "    }\n",
       "\n",
       "    .dataframe tbody tr th {\n",
       "        vertical-align: top;\n",
       "    }\n",
       "\n",
       "    .dataframe thead th {\n",
       "        text-align: right;\n",
       "    }\n",
       "</style>\n",
       "<table border=\"1\" class=\"dataframe\">\n",
       "  <thead>\n",
       "    <tr style=\"text-align: right;\">\n",
       "      <th></th>\n",
       "      <th>BIDREQUESTIP</th>\n",
       "      <th>USERZIPCODE</th>\n",
       "      <th>IS_HCP</th>\n",
       "      <th>Protocol</th>\n",
       "      <th>Domain</th>\n",
       "      <th>Path Length</th>\n",
       "      <th>Query Exists</th>\n",
       "      <th>healthcare</th>\n",
       "      <th>doctor</th>\n",
       "      <th>medicine</th>\n",
       "      <th>patient care</th>\n",
       "      <th>Health Care Professional</th>\n",
       "      <th>Health Services</th>\n",
       "      <th>Physicians</th>\n",
       "      <th>DEVICETYPE_Mobile</th>\n",
       "      <th>DEVICETYPE_Tablet</th>\n",
       "      <th>DEVICETYPE_Unknown</th>\n",
       "      <th>PLATFORMTYPE_Medical News Platform</th>\n",
       "      <th>PLATFORMTYPE_Online Learning Portal</th>\n",
       "      <th>PLATFORMTYPE_Online Medical Journal</th>\n",
       "    </tr>\n",
       "  </thead>\n",
       "  <tbody>\n",
       "    <tr>\n",
       "      <th>0</th>\n",
       "      <td>2863464470</td>\n",
       "      <td>97206.0</td>\n",
       "      <td>0.0</td>\n",
       "      <td>1</td>\n",
       "      <td>668</td>\n",
       "      <td>36</td>\n",
       "      <td>0</td>\n",
       "      <td>0</td>\n",
       "      <td>0</td>\n",
       "      <td>1</td>\n",
       "      <td>0</td>\n",
       "      <td>0</td>\n",
       "      <td>0</td>\n",
       "      <td>1</td>\n",
       "      <td>0</td>\n",
       "      <td>0</td>\n",
       "      <td>0</td>\n",
       "      <td>0</td>\n",
       "      <td>0</td>\n",
       "      <td>1</td>\n",
       "    </tr>\n",
       "    <tr>\n",
       "      <th>1</th>\n",
       "      <td>1104739609</td>\n",
       "      <td>22202.0</td>\n",
       "      <td>0.0</td>\n",
       "      <td>1</td>\n",
       "      <td>668</td>\n",
       "      <td>69</td>\n",
       "      <td>0</td>\n",
       "      <td>0</td>\n",
       "      <td>0</td>\n",
       "      <td>1</td>\n",
       "      <td>0</td>\n",
       "      <td>0</td>\n",
       "      <td>0</td>\n",
       "      <td>1</td>\n",
       "      <td>0</td>\n",
       "      <td>0</td>\n",
       "      <td>0</td>\n",
       "      <td>0</td>\n",
       "      <td>0</td>\n",
       "      <td>1</td>\n",
       "    </tr>\n",
       "    <tr>\n",
       "      <th>2</th>\n",
       "      <td>1122520854</td>\n",
       "      <td>83654.0</td>\n",
       "      <td>0.0</td>\n",
       "      <td>1</td>\n",
       "      <td>668</td>\n",
       "      <td>36</td>\n",
       "      <td>0</td>\n",
       "      <td>0</td>\n",
       "      <td>0</td>\n",
       "      <td>1</td>\n",
       "      <td>0</td>\n",
       "      <td>0</td>\n",
       "      <td>0</td>\n",
       "      <td>1</td>\n",
       "      <td>0</td>\n",
       "      <td>0</td>\n",
       "      <td>0</td>\n",
       "      <td>0</td>\n",
       "      <td>0</td>\n",
       "      <td>1</td>\n",
       "    </tr>\n",
       "    <tr>\n",
       "      <th>4</th>\n",
       "      <td>2932533091</td>\n",
       "      <td>77008.0</td>\n",
       "      <td>0.0</td>\n",
       "      <td>1</td>\n",
       "      <td>779</td>\n",
       "      <td>90</td>\n",
       "      <td>0</td>\n",
       "      <td>0</td>\n",
       "      <td>0</td>\n",
       "      <td>1</td>\n",
       "      <td>0</td>\n",
       "      <td>0</td>\n",
       "      <td>0</td>\n",
       "      <td>0</td>\n",
       "      <td>1</td>\n",
       "      <td>0</td>\n",
       "      <td>0</td>\n",
       "      <td>0</td>\n",
       "      <td>0</td>\n",
       "      <td>1</td>\n",
       "    </tr>\n",
       "    <tr>\n",
       "      <th>5</th>\n",
       "      <td>406561774</td>\n",
       "      <td>13215.0</td>\n",
       "      <td>0.0</td>\n",
       "      <td>1</td>\n",
       "      <td>779</td>\n",
       "      <td>84</td>\n",
       "      <td>0</td>\n",
       "      <td>0</td>\n",
       "      <td>0</td>\n",
       "      <td>1</td>\n",
       "      <td>0</td>\n",
       "      <td>0</td>\n",
       "      <td>0</td>\n",
       "      <td>0</td>\n",
       "      <td>0</td>\n",
       "      <td>0</td>\n",
       "      <td>0</td>\n",
       "      <td>0</td>\n",
       "      <td>0</td>\n",
       "      <td>1</td>\n",
       "    </tr>\n",
       "  </tbody>\n",
       "</table>\n",
       "</div>"
      ],
      "text/plain": [
       "   BIDREQUESTIP  USERZIPCODE  IS_HCP  Protocol  Domain  Path Length  \\\n",
       "0    2863464470      97206.0     0.0         1     668           36   \n",
       "1    1104739609      22202.0     0.0         1     668           69   \n",
       "2    1122520854      83654.0     0.0         1     668           36   \n",
       "4    2932533091      77008.0     0.0         1     779           90   \n",
       "5     406561774      13215.0     0.0         1     779           84   \n",
       "\n",
       "   Query Exists  healthcare  doctor  medicine  patient care  \\\n",
       "0             0           0       0         1             0   \n",
       "1             0           0       0         1             0   \n",
       "2             0           0       0         1             0   \n",
       "4             0           0       0         1             0   \n",
       "5             0           0       0         1             0   \n",
       "\n",
       "   Health Care Professional  Health Services  Physicians  DEVICETYPE_Mobile  \\\n",
       "0                         0                0           1                  0   \n",
       "1                         0                0           1                  0   \n",
       "2                         0                0           1                  0   \n",
       "4                         0                0           0                  1   \n",
       "5                         0                0           0                  0   \n",
       "\n",
       "   DEVICETYPE_Tablet  DEVICETYPE_Unknown  PLATFORMTYPE_Medical News Platform  \\\n",
       "0                  0                   0                                   0   \n",
       "1                  0                   0                                   0   \n",
       "2                  0                   0                                   0   \n",
       "4                  0                   0                                   0   \n",
       "5                  0                   0                                   0   \n",
       "\n",
       "   PLATFORMTYPE_Online Learning Portal  PLATFORMTYPE_Online Medical Journal  \n",
       "0                                    0                                    1  \n",
       "1                                    0                                    1  \n",
       "2                                    0                                    1  \n",
       "4                                    0                                    1  \n",
       "5                                    0                                    1  "
      ]
     },
     "execution_count": 51,
     "metadata": {},
     "output_type": "execute_result"
    }
   ],
   "source": [
    "df_train = pd.get_dummies(df_train,drop_first = True)\n",
    "df_train.head()"
   ]
  },
  {
   "cell_type": "code",
   "execution_count": 52,
   "metadata": {},
   "outputs": [
    {
     "name": "stdout",
     "output_type": "stream",
     "text": [
      "DEVICETYPE_MOBILE :  2\n",
      "1    30364\n",
      "0    77211\n",
      "Name: DEVICETYPE_Mobile, dtype: int64\n",
      "\n",
      "\n",
      "DEVICETYPE_TABLET :  2\n",
      "1      3324\n",
      "0    104251\n",
      "Name: DEVICETYPE_Tablet, dtype: int64\n",
      "\n",
      "\n",
      "DEVICETYPE_UNKNOWN :  2\n",
      "1        19\n",
      "0    107556\n",
      "Name: DEVICETYPE_Unknown, dtype: int64\n",
      "\n",
      "\n",
      "PLATFORMTYPE_MEDICAL NEWS PLATFORM :  2\n",
      "1       798\n",
      "0    106777\n",
      "Name: PLATFORMTYPE_Medical News Platform, dtype: int64\n",
      "\n",
      "\n",
      "PLATFORMTYPE_ONLINE LEARNING PORTAL :  2\n",
      "1      2748\n",
      "0    104827\n",
      "Name: PLATFORMTYPE_Online Learning Portal, dtype: int64\n",
      "\n",
      "\n",
      "PLATFORMTYPE_ONLINE MEDICAL JOURNAL :  2\n",
      "0      3586\n",
      "1    103989\n",
      "Name: PLATFORMTYPE_Online Medical Journal, dtype: int64\n",
      "\n",
      "\n"
     ]
    }
   ],
   "source": [
    "for column in df_train.columns:\n",
    "    if df_train[column].dtype == 'uint8':\n",
    "        print(column.upper(),': ',df_train[column].nunique())\n",
    "        print(df_train[column].value_counts().sort_values())\n",
    "        print('\\n')"
   ]
  },
  {
   "cell_type": "code",
   "execution_count": 53,
   "metadata": {},
   "outputs": [
    {
     "name": "stdout",
     "output_type": "stream",
     "text": [
      "<class 'pandas.core.frame.DataFrame'>\n",
      "Int64Index: 107575 entries, 0 to 113936\n",
      "Data columns (total 20 columns):\n",
      " #   Column                               Non-Null Count   Dtype  \n",
      "---  ------                               --------------   -----  \n",
      " 0   BIDREQUESTIP                         107575 non-null  int64  \n",
      " 1   USERZIPCODE                          107575 non-null  float64\n",
      " 2   IS_HCP                               107575 non-null  float64\n",
      " 3   Protocol                             107575 non-null  int64  \n",
      " 4   Domain                               107575 non-null  int64  \n",
      " 5   Path Length                          107575 non-null  int64  \n",
      " 6   Query Exists                         107575 non-null  int64  \n",
      " 7   healthcare                           107575 non-null  int32  \n",
      " 8   doctor                               107575 non-null  int32  \n",
      " 9   medicine                             107575 non-null  int32  \n",
      " 10  patient care                         107575 non-null  int32  \n",
      " 11  Health Care Professional             107575 non-null  int32  \n",
      " 12  Health Services                      107575 non-null  int32  \n",
      " 13  Physicians                           107575 non-null  int32  \n",
      " 14  DEVICETYPE_Mobile                    107575 non-null  uint8  \n",
      " 15  DEVICETYPE_Tablet                    107575 non-null  uint8  \n",
      " 16  DEVICETYPE_Unknown                   107575 non-null  uint8  \n",
      " 17  PLATFORMTYPE_Medical News Platform   107575 non-null  uint8  \n",
      " 18  PLATFORMTYPE_Online Learning Portal  107575 non-null  uint8  \n",
      " 19  PLATFORMTYPE_Online Medical Journal  107575 non-null  uint8  \n",
      "dtypes: float64(2), int32(7), int64(5), uint8(6)\n",
      "memory usage: 10.1 MB\n"
     ]
    }
   ],
   "source": [
    "df_train.info()"
   ]
  },
  {
   "cell_type": "raw",
   "metadata": {},
   "source": []
  },
  {
   "cell_type": "code",
   "execution_count": 54,
   "metadata": {},
   "outputs": [
    {
     "data": {
      "text/html": [
       "<div>\n",
       "<style scoped>\n",
       "    .dataframe tbody tr th:only-of-type {\n",
       "        vertical-align: middle;\n",
       "    }\n",
       "\n",
       "    .dataframe tbody tr th {\n",
       "        vertical-align: top;\n",
       "    }\n",
       "\n",
       "    .dataframe thead th {\n",
       "        text-align: right;\n",
       "    }\n",
       "</style>\n",
       "<table border=\"1\" class=\"dataframe\">\n",
       "  <thead>\n",
       "    <tr style=\"text-align: right;\">\n",
       "      <th></th>\n",
       "      <th>DEVICETYPE</th>\n",
       "      <th>BIDREQUESTIP</th>\n",
       "      <th>PLATFORMTYPE</th>\n",
       "      <th>is_duplicate</th>\n",
       "      <th>Protocol</th>\n",
       "      <th>Domain</th>\n",
       "      <th>Path Length</th>\n",
       "      <th>Query Exists</th>\n",
       "      <th>healthcare</th>\n",
       "      <th>doctor</th>\n",
       "      <th>medicine</th>\n",
       "      <th>patient care</th>\n",
       "      <th>Health Care Professional</th>\n",
       "      <th>Health Services</th>\n",
       "      <th>Physicians</th>\n",
       "    </tr>\n",
       "  </thead>\n",
       "  <tbody>\n",
       "    <tr>\n",
       "      <th>0</th>\n",
       "      <td>Desktop</td>\n",
       "      <td>1270736743</td>\n",
       "      <td>Online Medical Journal</td>\n",
       "      <td>0</td>\n",
       "      <td>1</td>\n",
       "      <td>549</td>\n",
       "      <td>107</td>\n",
       "      <td>0</td>\n",
       "      <td>0</td>\n",
       "      <td>0</td>\n",
       "      <td>1</td>\n",
       "      <td>0</td>\n",
       "      <td>0</td>\n",
       "      <td>0</td>\n",
       "      <td>0</td>\n",
       "    </tr>\n",
       "    <tr>\n",
       "      <th>1</th>\n",
       "      <td>Mobile</td>\n",
       "      <td>409280926</td>\n",
       "      <td>Online Medical Journal</td>\n",
       "      <td>0</td>\n",
       "      <td>1</td>\n",
       "      <td>386</td>\n",
       "      <td>68</td>\n",
       "      <td>0</td>\n",
       "      <td>0</td>\n",
       "      <td>0</td>\n",
       "      <td>1</td>\n",
       "      <td>0</td>\n",
       "      <td>0</td>\n",
       "      <td>0</td>\n",
       "      <td>0</td>\n",
       "    </tr>\n",
       "    <tr>\n",
       "      <th>2</th>\n",
       "      <td>Desktop</td>\n",
       "      <td>2893469838</td>\n",
       "      <td>Online Medical Journal</td>\n",
       "      <td>0</td>\n",
       "      <td>1</td>\n",
       "      <td>575</td>\n",
       "      <td>30</td>\n",
       "      <td>0</td>\n",
       "      <td>0</td>\n",
       "      <td>0</td>\n",
       "      <td>1</td>\n",
       "      <td>0</td>\n",
       "      <td>0</td>\n",
       "      <td>0</td>\n",
       "      <td>0</td>\n",
       "    </tr>\n",
       "    <tr>\n",
       "      <th>3</th>\n",
       "      <td>Desktop</td>\n",
       "      <td>1198094507</td>\n",
       "      <td>Online Medical Journal</td>\n",
       "      <td>0</td>\n",
       "      <td>1</td>\n",
       "      <td>779</td>\n",
       "      <td>53</td>\n",
       "      <td>0</td>\n",
       "      <td>0</td>\n",
       "      <td>0</td>\n",
       "      <td>1</td>\n",
       "      <td>0</td>\n",
       "      <td>0</td>\n",
       "      <td>0</td>\n",
       "      <td>0</td>\n",
       "    </tr>\n",
       "    <tr>\n",
       "      <th>4</th>\n",
       "      <td>Desktop</td>\n",
       "      <td>1230164809</td>\n",
       "      <td>Online Medical Journal</td>\n",
       "      <td>0</td>\n",
       "      <td>1</td>\n",
       "      <td>540</td>\n",
       "      <td>93</td>\n",
       "      <td>0</td>\n",
       "      <td>0</td>\n",
       "      <td>0</td>\n",
       "      <td>0</td>\n",
       "      <td>0</td>\n",
       "      <td>0</td>\n",
       "      <td>0</td>\n",
       "      <td>0</td>\n",
       "    </tr>\n",
       "    <tr>\n",
       "      <th>...</th>\n",
       "      <td>...</td>\n",
       "      <td>...</td>\n",
       "      <td>...</td>\n",
       "      <td>...</td>\n",
       "      <td>...</td>\n",
       "      <td>...</td>\n",
       "      <td>...</td>\n",
       "      <td>...</td>\n",
       "      <td>...</td>\n",
       "      <td>...</td>\n",
       "      <td>...</td>\n",
       "      <td>...</td>\n",
       "      <td>...</td>\n",
       "      <td>...</td>\n",
       "      <td>...</td>\n",
       "    </tr>\n",
       "    <tr>\n",
       "      <th>28575</th>\n",
       "      <td>Desktop</td>\n",
       "      <td>1170926065</td>\n",
       "      <td>Online Medical Journal</td>\n",
       "      <td>0</td>\n",
       "      <td>1</td>\n",
       "      <td>540</td>\n",
       "      <td>93</td>\n",
       "      <td>0</td>\n",
       "      <td>0</td>\n",
       "      <td>0</td>\n",
       "      <td>1</td>\n",
       "      <td>0</td>\n",
       "      <td>0</td>\n",
       "      <td>0</td>\n",
       "      <td>0</td>\n",
       "    </tr>\n",
       "    <tr>\n",
       "      <th>28576</th>\n",
       "      <td>Desktop</td>\n",
       "      <td>1258602049</td>\n",
       "      <td>Online Medical Journal</td>\n",
       "      <td>0</td>\n",
       "      <td>1</td>\n",
       "      <td>779</td>\n",
       "      <td>40</td>\n",
       "      <td>0</td>\n",
       "      <td>0</td>\n",
       "      <td>0</td>\n",
       "      <td>1</td>\n",
       "      <td>0</td>\n",
       "      <td>0</td>\n",
       "      <td>0</td>\n",
       "      <td>0</td>\n",
       "    </tr>\n",
       "    <tr>\n",
       "      <th>28577</th>\n",
       "      <td>Desktop</td>\n",
       "      <td>2301932589</td>\n",
       "      <td>Online Medical Journal</td>\n",
       "      <td>0</td>\n",
       "      <td>1</td>\n",
       "      <td>779</td>\n",
       "      <td>23</td>\n",
       "      <td>1</td>\n",
       "      <td>0</td>\n",
       "      <td>0</td>\n",
       "      <td>1</td>\n",
       "      <td>0</td>\n",
       "      <td>0</td>\n",
       "      <td>0</td>\n",
       "      <td>0</td>\n",
       "    </tr>\n",
       "    <tr>\n",
       "      <th>28578</th>\n",
       "      <td>Desktop</td>\n",
       "      <td>1123631620</td>\n",
       "      <td>Online Medical Journal</td>\n",
       "      <td>0</td>\n",
       "      <td>1</td>\n",
       "      <td>622</td>\n",
       "      <td>67</td>\n",
       "      <td>0</td>\n",
       "      <td>0</td>\n",
       "      <td>0</td>\n",
       "      <td>0</td>\n",
       "      <td>0</td>\n",
       "      <td>0</td>\n",
       "      <td>0</td>\n",
       "      <td>0</td>\n",
       "    </tr>\n",
       "    <tr>\n",
       "      <th>28579</th>\n",
       "      <td>Desktop</td>\n",
       "      <td>1807884693</td>\n",
       "      <td>Online Medical Journal</td>\n",
       "      <td>0</td>\n",
       "      <td>1</td>\n",
       "      <td>948</td>\n",
       "      <td>68</td>\n",
       "      <td>0</td>\n",
       "      <td>0</td>\n",
       "      <td>0</td>\n",
       "      <td>1</td>\n",
       "      <td>0</td>\n",
       "      <td>0</td>\n",
       "      <td>0</td>\n",
       "      <td>0</td>\n",
       "    </tr>\n",
       "  </tbody>\n",
       "</table>\n",
       "<p>28580 rows × 15 columns</p>\n",
       "</div>"
      ],
      "text/plain": [
       "      DEVICETYPE  BIDREQUESTIP            PLATFORMTYPE  is_duplicate  \\\n",
       "0        Desktop    1270736743  Online Medical Journal             0   \n",
       "1         Mobile     409280926  Online Medical Journal             0   \n",
       "2        Desktop    2893469838  Online Medical Journal             0   \n",
       "3        Desktop    1198094507  Online Medical Journal             0   \n",
       "4        Desktop    1230164809  Online Medical Journal             0   \n",
       "...          ...           ...                     ...           ...   \n",
       "28575    Desktop    1170926065  Online Medical Journal             0   \n",
       "28576    Desktop    1258602049  Online Medical Journal             0   \n",
       "28577    Desktop    2301932589  Online Medical Journal             0   \n",
       "28578    Desktop    1123631620  Online Medical Journal             0   \n",
       "28579    Desktop    1807884693  Online Medical Journal             0   \n",
       "\n",
       "       Protocol  Domain  Path Length  Query Exists  healthcare  doctor  \\\n",
       "0             1     549          107             0           0       0   \n",
       "1             1     386           68             0           0       0   \n",
       "2             1     575           30             0           0       0   \n",
       "3             1     779           53             0           0       0   \n",
       "4             1     540           93             0           0       0   \n",
       "...         ...     ...          ...           ...         ...     ...   \n",
       "28575         1     540           93             0           0       0   \n",
       "28576         1     779           40             0           0       0   \n",
       "28577         1     779           23             1           0       0   \n",
       "28578         1     622           67             0           0       0   \n",
       "28579         1     948           68             0           0       0   \n",
       "\n",
       "       medicine  patient care  Health Care Professional  Health Services  \\\n",
       "0             1             0                         0                0   \n",
       "1             1             0                         0                0   \n",
       "2             1             0                         0                0   \n",
       "3             1             0                         0                0   \n",
       "4             0             0                         0                0   \n",
       "...         ...           ...                       ...              ...   \n",
       "28575         1             0                         0                0   \n",
       "28576         1             0                         0                0   \n",
       "28577         1             0                         0                0   \n",
       "28578         0             0                         0                0   \n",
       "28579         1             0                         0                0   \n",
       "\n",
       "       Physicians  \n",
       "0               0  \n",
       "1               0  \n",
       "2               0  \n",
       "3               0  \n",
       "4               0  \n",
       "...           ...  \n",
       "28575           0  \n",
       "28576           0  \n",
       "28577           0  \n",
       "28578           0  \n",
       "28579           0  \n",
       "\n",
       "[28580 rows x 15 columns]"
      ]
     },
     "execution_count": 54,
     "metadata": {},
     "output_type": "execute_result"
    }
   ],
   "source": [
    "test_file_ids = df_test['ID']\n",
    "df_test.drop(\"ID\",axis=1,inplace=True)\n",
    "df_test"
   ]
  },
  {
   "cell_type": "code",
   "execution_count": null,
   "metadata": {},
   "outputs": [],
   "source": []
  },
  {
   "cell_type": "code",
   "execution_count": 55,
   "metadata": {},
   "outputs": [],
   "source": [
    "for column in df_test.columns:\n",
    "    if df_test[column].dtype == 'uint8':\n",
    "        print(column.upper(),': ',df_test[column].nunique())\n",
    "        print(df_test[column].value_counts().sort_values())\n",
    "        print('\\n')"
   ]
  },
  {
   "cell_type": "code",
   "execution_count": 56,
   "metadata": {},
   "outputs": [
    {
     "name": "stdout",
     "output_type": "stream",
     "text": [
      "<class 'pandas.core.frame.DataFrame'>\n",
      "RangeIndex: 28580 entries, 0 to 28579\n",
      "Data columns (total 15 columns):\n",
      " #   Column                    Non-Null Count  Dtype \n",
      "---  ------                    --------------  ----- \n",
      " 0   DEVICETYPE                28580 non-null  object\n",
      " 1   BIDREQUESTIP              28580 non-null  int64 \n",
      " 2   PLATFORMTYPE              28580 non-null  object\n",
      " 3   is_duplicate              28580 non-null  int32 \n",
      " 4   Protocol                  28580 non-null  int64 \n",
      " 5   Domain                    28580 non-null  int64 \n",
      " 6   Path Length               28580 non-null  int64 \n",
      " 7   Query Exists              28580 non-null  int64 \n",
      " 8   healthcare                28580 non-null  int32 \n",
      " 9   doctor                    28580 non-null  int32 \n",
      " 10  medicine                  28580 non-null  int32 \n",
      " 11  patient care              28580 non-null  int32 \n",
      " 12  Health Care Professional  28580 non-null  int32 \n",
      " 13  Health Services           28580 non-null  int32 \n",
      " 14  Physicians                28580 non-null  int32 \n",
      "dtypes: int32(8), int64(5), object(2)\n",
      "memory usage: 2.4+ MB\n"
     ]
    }
   ],
   "source": [
    "df_test.info()"
   ]
  },
  {
   "cell_type": "code",
   "execution_count": null,
   "metadata": {},
   "outputs": [],
   "source": []
  },
  {
   "cell_type": "code",
   "execution_count": 57,
   "metadata": {},
   "outputs": [
    {
     "data": {
      "text/plain": [
       "(28580, 28)"
      ]
     },
     "execution_count": 57,
     "metadata": {},
     "output_type": "execute_result"
    }
   ],
   "source": [
    "df_test = pd.get_dummies(df_test,drop_first = True)\n",
    "df_test.shape"
   ]
  },
  {
   "cell_type": "code",
   "execution_count": 58,
   "metadata": {
    "scrolled": true
   },
   "outputs": [
    {
     "name": "stdout",
     "output_type": "stream",
     "text": [
      "DEVICETYPE_MOBILE :  2\n",
      "1     7946\n",
      "0    20634\n",
      "Name: DEVICETYPE_Mobile, dtype: int64\n",
      "\n",
      "\n",
      "DEVICETYPE_TABLET :  2\n",
      "1      810\n",
      "0    27770\n",
      "Name: DEVICETYPE_Tablet, dtype: int64\n",
      "\n",
      "\n",
      "DEVICETYPE_UNKNOWN :  2\n",
      "1        6\n",
      "0    28574\n",
      "Name: DEVICETYPE_Unknown, dtype: int64\n",
      "\n",
      "\n",
      "DEVICETYPE_ATHEROSCLEROSIS|HOSPITALS|DISEASE|MYOCARDIAL INFARCTION|RHEUMATOLOGY|HEALTH|MEDICINE|GASTROENTEROLOGY|PSYCHIATRY|ONCOLOGY|CARDIOLOGY|THE|NEPHROLOGY|SPECIALTIES|CLINICAL|DERMATOLOGY|PHYSICIANS|LASER|PEDIATRICS|OPHTHALMOLOGY|CHRONIC|NEUROLOGY|SURGERY|ENDOCRINOLOGY| :  2\n",
      "1        7\n",
      "0    28573\n",
      "Name: DEVICETYPE_atherosclerosis|hospitals|disease|myocardial infarction|rheumatology|health|medicine|gastroenterology|psychiatry|oncology|cardiology|the|nephrology|specialties|clinical|dermatology|physicians|laser|pediatrics|ophthalmology|chronic|neurology|surgery|endocrinology|, dtype: int64\n",
      "\n",
      "\n",
      "DEVICETYPE_HOSPITALS|COVID|NEPHROLOGY|MYOCARDIAL INFARCTION|RHEUMATOLOGY|PSYCHIATRY|ONCOLOGY|NEPHROLOGY|SPECIALTIES|PHYSICIANS|OPHTHALMOLOGY|CHRONIC|NEUROLOGY|DISEASE|HEALTH|COVID-19|MEDICINE|GASTROENTEROLOGY|CARDIOLOGY|THE|CLINICAL|DERMATOLOGY|PEDIATRICS|SURGERY|ENDOCRINOLOGY| :  2\n",
      "1        1\n",
      "0    28579\n",
      "Name: DEVICETYPE_hospitals|covid|nephrology|myocardial infarction|rheumatology|psychiatry|oncology|nephrology|specialties|physicians|ophthalmology|chronic|neurology|disease|health|covid-19|medicine|gastroenterology|cardiology|the|clinical|dermatology|pediatrics|surgery|endocrinology|, dtype: int64\n",
      "\n",
      "\n",
      "DEVICETYPE_HOSPITALS|COVID|NEPHROLOGY|RHEUMATOLOGY|PSYCHIATRY|ONCOLOGY|NEPHROLOGY|SPECIALTIES|PHYSICIANS|OPHTHALMOLOGY|CHRONIC|NEUROLOGY|DISEASE|HEALTH|COVID-19|MEDICINE|GASTROENTEROLOGY|CARDIOLOGY|THE|CLINICAL|DERMATOLOGY|PEDIATRICS|DEPRESSION|SURGERY|ENDOCRINOLOGY| :  2\n",
      "1        2\n",
      "0    28578\n",
      "Name: DEVICETYPE_hospitals|covid|nephrology|rheumatology|psychiatry|oncology|nephrology|specialties|physicians|ophthalmology|chronic|neurology|disease|health|covid-19|medicine|gastroenterology|cardiology|the|clinical|dermatology|pediatrics|depression|surgery|endocrinology|, dtype: int64\n",
      "\n",
      "\n",
      "DEVICETYPE_HOSPITALS|DISEASE|RHEUMATOLOGY|HEALTH|MEDICINE|GASTROENTEROLOGY|PSYCHIATRY|ONCOLOGY|CARDIOLOGY|NEPHROLOGY|THE|SPECIALTIES|CLINICAL|DERMATOLOGY|PHYSICIANS|PE|PE|PEDIATRICS|OPHTHALMOLOGY|CHRONIC|NEUROLOGY|SURGERY|ENDOCRINOLOGY| :  2\n",
      "1        1\n",
      "0    28579\n",
      "Name: DEVICETYPE_hospitals|disease|rheumatology|health|medicine|gastroenterology|psychiatry|oncology|cardiology|nephrology|the|specialties|clinical|dermatology|physicians|pe|pe|pediatrics|ophthalmology|chronic|neurology|surgery|endocrinology|, dtype: int64\n",
      "\n",
      "\n",
      "DEVICETYPE_HOSPITALS|MENTAL HEALTH|RHEUMATOLOGY|PSYCHIATRY|ONCOLOGY|NEPHROLOGY|SPECIALTIES|PHYSICIANS|PATIENT|ASPIRIN|OPHTHALMOLOGY|CHRONIC|NEUROLOGY|DISEASE|HEALTH|MEDICINE|GASTROENTEROLOGY|CARDIOVASCULAR|CARDIOLOGY|THE|CLINICAL|DERMATOLOGY|PEDIATRICS|DIABETES|SURGERY|ENDOCRINOLOGY| :  2\n",
      "1        3\n",
      "0    28577\n",
      "Name: DEVICETYPE_hospitals|mental health|rheumatology|psychiatry|oncology|nephrology|specialties|physicians|patient|aspirin|ophthalmology|chronic|neurology|disease|health|medicine|gastroenterology|cardiovascular|cardiology|the|clinical|dermatology|pediatrics|diabetes|surgery|endocrinology|, dtype: int64\n",
      "\n",
      "\n",
      "DEVICETYPE_HOSPITALS|NEPHROLOGY|DENERVATION|RHEUMATOLOGY|PSYCHIATRY|ONCOLOGY|NEPHROLOGY|SPECIALTIES|INTRAVENOUS|PHYSICIANS|OPHTHALMOLOGY|CHRONIC|NEUROLOGY|STROKES|DISEASE|HEALTH|MEDICINE|GASTROENTEROLOGY|CARDIOLOGY|THE|CLINICAL|DERMATOLOGY|PEDIATRICS|HYPERTENSION|SURGERY|ENDOCRINOLOGY| :  2\n",
      "1        1\n",
      "0    28579\n",
      "Name: DEVICETYPE_hospitals|nephrology|denervation|rheumatology|psychiatry|oncology|nephrology|specialties|intravenous|physicians|ophthalmology|chronic|neurology|strokes|disease|health|medicine|gastroenterology|cardiology|the|clinical|dermatology|pediatrics|hypertension|surgery|endocrinology|, dtype: int64\n",
      "\n",
      "\n",
      "DEVICETYPE_HOSPITALS|NEPHROLOGY|RHEUMATOLOGY|PSYCHIATRY|MALARIA|ONCOLOGY|NEPHROLOGY|SPECIALTIES|PHYSICIANS|OPHTHALMOLOGY|CHRONIC|NEUROLOGY|DISEASE|PREGNANCY|HEALTH|MEDICINE|GASTROENTEROLOGY|CARDIOLOGY|THE|CLINICAL|DERMATOLOGY|PEDIATRICS|DEPRESSION|SURGERY|ENDOCRINOLOGY| :  2\n",
      "1        2\n",
      "0    28578\n",
      "Name: DEVICETYPE_hospitals|nephrology|rheumatology|psychiatry|malaria|oncology|nephrology|specialties|physicians|ophthalmology|chronic|neurology|disease|pregnancy|health|medicine|gastroenterology|cardiology|the|clinical|dermatology|pediatrics|depression|surgery|endocrinology|, dtype: int64\n",
      "\n",
      "\n",
      "DEVICETYPE_HOSPITALS|NEPHROLOGY|RHEUMATOLOGY|PSYCHIATRY|ONCOLOGY|NEPHROLOGY|SPECIALTIES|PHYSICIANS|PULMONARY FIBROSIS|OPHTHALMOLOGY|CHRONIC|NEUROLOGY|HEART FAILURE|DISEASE|HEALTH|MEDICINE|HIDRADENITIS SUPPURATIVA|GASTROENTEROLOGY|CARDIOLOGY|THE|CLINICAL|DERMATOLOGY|PEDIATRICS|SURGERY|ENDOCRINOLOGY| :  2\n",
      "1        1\n",
      "0    28579\n",
      "Name: DEVICETYPE_hospitals|nephrology|rheumatology|psychiatry|oncology|nephrology|specialties|physicians|pulmonary fibrosis|ophthalmology|chronic|neurology|heart failure|disease|health|medicine|hidradenitis suppurativa|gastroenterology|cardiology|the|clinical|dermatology|pediatrics|surgery|endocrinology|, dtype: int64\n",
      "\n",
      "\n",
      "DEVICETYPE_HOSPITALS|RHEUMATOLOGY|PSYCHIATRY|ONCOLOGY|NEPHROLOGY|SPECIALTIES|PHYSICIANS|OPHTHALMOLOGY|PULMONARY ARTERIAL HYPERTENSION|CHRONIC|NEUROLOGY|DISEASE|HEALTH|MEDICINE|GASTROENTEROLOGY|CARDIOVASCULAR|CARDIOLOGY|THE|CLINICAL|DERMATOLOGY|PEDIATRICS|RADIOTHERAPY|HYPERTENSION|SURGERY|ENDOCRINOLOGY| :  2\n",
      "1        2\n",
      "0    28578\n",
      "Name: DEVICETYPE_hospitals|rheumatology|psychiatry|oncology|nephrology|specialties|physicians|ophthalmology|pulmonary arterial hypertension|chronic|neurology|disease|health|medicine|gastroenterology|cardiovascular|cardiology|the|clinical|dermatology|pediatrics|radiotherapy|hypertension|surgery|endocrinology|, dtype: int64\n",
      "\n",
      "\n",
      "PLATFORMTYPE_MEDICAL NEWS PLATFORM :  2\n",
      "1      191\n",
      "0    28389\n",
      "Name: PLATFORMTYPE_Medical News Platform, dtype: int64\n",
      "\n",
      "\n",
      "PLATFORMTYPE_ONLINE LEARNING PORTAL :  2\n",
      "1      762\n",
      "0    27818\n",
      "Name: PLATFORMTYPE_Online Learning Portal, dtype: int64\n",
      "\n",
      "\n",
      "PLATFORMTYPE_ONLINE MEDICAL JOURNAL :  2\n",
      "0      960\n",
      "1    27620\n",
      "Name: PLATFORMTYPE_Online Medical Journal, dtype: int64\n",
      "\n",
      "\n"
     ]
    }
   ],
   "source": [
    "for column in df_test.columns:\n",
    "    if df_test[column].dtype == 'uint8':\n",
    "        print(column.upper(),': ',df_test[column].nunique())\n",
    "        print(df_test[column].value_counts().sort_values())\n",
    "        print('\\n')"
   ]
  },
  {
   "cell_type": "code",
   "execution_count": 59,
   "metadata": {},
   "outputs": [],
   "source": [
    "\n",
    "df_test.drop('DEVICETYPE_atherosclerosis|hospitals|disease|myocardial infarction|rheumatology|health|medicine|gastroenterology|psychiatry|oncology|cardiology|the|nephrology|specialties|clinical|dermatology|physicians|laser|pediatrics|ophthalmology|chronic|neurology|surgery|endocrinology|',axis=1,inplace=True)                            \n",
    "df_test.drop('DEVICETYPE_hospitals|covid|nephrology|myocardial infarction|rheumatology|psychiatry|oncology|nephrology|specialties|physicians|ophthalmology|chronic|neurology|disease|health|covid-19|medicine|gastroenterology|cardiology|the|clinical|dermatology|pediatrics|surgery|endocrinology|',axis=1,inplace=True)                          \n",
    "df_test.drop('DEVICETYPE_hospitals|covid|nephrology|rheumatology|psychiatry|oncology|nephrology|specialties|physicians|ophthalmology|chronic|neurology|disease|health|covid-19|medicine|gastroenterology|cardiology|the|clinical|dermatology|pediatrics|depression|surgery|endocrinology|',axis=1,inplace=True)                                     \n",
    "df_test.drop('DEVICETYPE_hospitals|disease|rheumatology|health|medicine|gastroenterology|psychiatry|oncology|cardiology|nephrology|the|specialties|clinical|dermatology|physicians|pe|pe|pediatrics|ophthalmology|chronic|neurology|surgery|endocrinology|',axis=1,inplace=True)                                                                    \n",
    "df_test.drop('DEVICETYPE_hospitals|mental health|rheumatology|psychiatry|oncology|nephrology|specialties|physicians|patient|aspirin|ophthalmology|chronic|neurology|disease|health|medicine|gastroenterology|cardiovascular|cardiology|the|clinical|dermatology|pediatrics|diabetes|surgery|endocrinology|',axis=1,inplace=True)                   \n",
    "df_test.drop('DEVICETYPE_hospitals|nephrology|denervation|rheumatology|psychiatry|oncology|nephrology|specialties|intravenous|physicians|ophthalmology|chronic|neurology|strokes|disease|health|medicine|gastroenterology|cardiology|the|clinical|dermatology|pediatrics|hypertension|surgery|endocrinology|',axis=1,inplace=True)                   \n",
    "df_test.drop('DEVICETYPE_hospitals|nephrology|rheumatology|psychiatry|malaria|oncology|nephrology|specialties|physicians|ophthalmology|chronic|neurology|disease|pregnancy|health|medicine|gastroenterology|cardiology|the|clinical|dermatology|pediatrics|depression|surgery|endocrinology|',axis=1,inplace=True)                                   \n",
    "df_test.drop('DEVICETYPE_hospitals|nephrology|rheumatology|psychiatry|oncology|nephrology|specialties|physicians|pulmonary fibrosis|ophthalmology|chronic|neurology|heart failure|disease|health|medicine|hidradenitis suppurativa|gastroenterology|cardiology|the|clinical|dermatology|pediatrics|surgery|endocrinology|',axis=1,inplace=True)     \n",
    "df_test.drop('DEVICETYPE_hospitals|rheumatology|psychiatry|oncology|nephrology|specialties|physicians|ophthalmology|pulmonary arterial hypertension|chronic|neurology|disease|health|medicine|gastroenterology|cardiovascular|cardiology|the|clinical|dermatology|pediatrics|radiotherapy|hypertension|surgery|endocrinology|',axis=1,inplace=True) "
   ]
  },
  {
   "cell_type": "code",
   "execution_count": 68,
   "metadata": {},
   "outputs": [
    {
     "name": "stdout",
     "output_type": "stream",
     "text": [
      "<class 'pandas.core.frame.DataFrame'>\n",
      "RangeIndex: 28580 entries, 0 to 28579\n",
      "Data columns (total 19 columns):\n",
      " #   Column                               Non-Null Count  Dtype\n",
      "---  ------                               --------------  -----\n",
      " 0   BIDREQUESTIP                         28580 non-null  int64\n",
      " 1   is_duplicate                         28580 non-null  int32\n",
      " 2   Protocol                             28580 non-null  int64\n",
      " 3   Domain                               28580 non-null  int64\n",
      " 4   Path Length                          28580 non-null  int64\n",
      " 5   Query Exists                         28580 non-null  int64\n",
      " 6   healthcare                           28580 non-null  int32\n",
      " 7   doctor                               28580 non-null  int32\n",
      " 8   medicine                             28580 non-null  int32\n",
      " 9   patient care                         28580 non-null  int32\n",
      " 10  Health Care Professional             28580 non-null  int32\n",
      " 11  Health Services                      28580 non-null  int32\n",
      " 12  Physicians                           28580 non-null  int32\n",
      " 13  DEVICETYPE_Mobile                    28580 non-null  uint8\n",
      " 14  DEVICETYPE_Tablet                    28580 non-null  uint8\n",
      " 15  DEVICETYPE_Unknown                   28580 non-null  uint8\n",
      " 16  PLATFORMTYPE_Medical News Platform   28580 non-null  uint8\n",
      " 17  PLATFORMTYPE_Online Learning Portal  28580 non-null  uint8\n",
      " 18  PLATFORMTYPE_Online Medical Journal  28580 non-null  uint8\n",
      "dtypes: int32(8), int64(5), uint8(6)\n",
      "memory usage: 2.1 MB\n"
     ]
    }
   ],
   "source": [
    "df_test.info()"
   ]
  },
  {
   "cell_type": "markdown",
   "metadata": {},
   "source": [
    "### Splitting training dataset into train and validation set"
   ]
  },
  {
   "cell_type": "code",
   "execution_count": 60,
   "metadata": {},
   "outputs": [],
   "source": [
    "X = df_train.drop(['IS_HCP'],axis = 1)\n",
    "y = df_train['IS_HCP']"
   ]
  },
  {
   "cell_type": "code",
   "execution_count": 61,
   "metadata": {},
   "outputs": [],
   "source": [
    "from sklearn.model_selection import train_test_split\n",
    "X_train, X_validation, y_train,y_validation = train_test_split(X,y,test_size = 0.2,random_state = 0)"
   ]
  },
  {
   "cell_type": "markdown",
   "metadata": {},
   "source": [
    "### Model training - Decision Tree"
   ]
  },
  {
   "cell_type": "code",
   "execution_count": 62,
   "metadata": {},
   "outputs": [],
   "source": [
    "from sklearn.tree import DecisionTreeClassifier\n",
    "dt_model = DecisionTreeClassifier(criterion='gini',max_depth=10,random_state=0)\n",
    "dt_model.fit(X_train,y_train)\n",
    "\n",
    "y_pred_train = dt_model.predict(X_train)\n",
    "y_pred_val = dt_model.predict(X_validation)"
   ]
  },
  {
   "cell_type": "code",
   "execution_count": 63,
   "metadata": {},
   "outputs": [
    {
     "name": "stdout",
     "output_type": "stream",
     "text": [
      "Train Accuracy: 0.8517894492214734\n",
      "Validation Accuracy: 0.8487566813850802\n",
      "\n",
      "Train ROC AUC score: 0.7556312365247456\n",
      "Validation ROC AUC score: 0.7519324495127535\n",
      "\n",
      "Train Classification Report:\n",
      "               precision    recall  f1-score   support\n",
      "\n",
      "         0.0       0.83      1.00      0.90     60192\n",
      "         1.0       0.99      0.51      0.68     25868\n",
      "\n",
      "    accuracy                           0.85     86060\n",
      "   macro avg       0.91      0.76      0.79     86060\n",
      "weighted avg       0.87      0.85      0.84     86060\n",
      "\n",
      "Validation Classification Report:\n",
      "               precision    recall  f1-score   support\n",
      "\n",
      "         0.0       0.82      1.00      0.90     15025\n",
      "         1.0       0.98      0.51      0.67      6490\n",
      "\n",
      "    accuracy                           0.85     21515\n",
      "   macro avg       0.90      0.75      0.79     21515\n",
      "weighted avg       0.87      0.85      0.83     21515\n",
      "\n"
     ]
    }
   ],
   "source": [
    "from sklearn import metrics\n",
    "dt_acc_train = metrics.accuracy_score(y_train,y_pred_train)\n",
    "dt_acc_val = metrics.accuracy_score(y_validation,y_pred_val)\n",
    "print(\"Train Accuracy:\",dt_acc_train)\n",
    "print(\"Validation Accuracy:\",dt_acc_val)\n",
    "print()\n",
    "\n",
    "dt_roc_train = metrics.roc_auc_score(y_train,y_pred_train)\n",
    "dt_roc_val = metrics.roc_auc_score(y_validation,y_pred_val)\n",
    "print(\"Train ROC AUC score:\",dt_roc_train)\n",
    "print(\"Validation ROC AUC score:\",dt_roc_val)\n",
    "print()\n",
    "\n",
    "dt_clr_train = metrics.classification_report(y_train,y_pred_train)\n",
    "dt_clr_val = metrics.classification_report(y_validation,y_pred_val)\n",
    "print(\"Train Classification Report:\\n\",dt_clr_train)\n",
    "print(\"Validation Classification Report:\\n\",dt_clr_val)"
   ]
  },
  {
   "cell_type": "code",
   "execution_count": 64,
   "metadata": {},
   "outputs": [
    {
     "name": "stdout",
     "output_type": "stream",
     "text": [
      "Accuracy: 0.9879618870555427\n"
     ]
    }
   ],
   "source": [
    "#Tuning the DT model\n",
    "#Create a decision tree classifier\n",
    "param_grid = {\n",
    "    'max_depth': [None, 5, 10, 20],\n",
    "    'min_samples_split': [2, 5, 10],\n",
    "    'min_samples_leaf': [1, 2, 4],\n",
    "    'criterion': ['gini', 'entropy']\n",
    "}\n",
    "\n",
    "\n",
    "dtcl =  DecisionTreeClassifier(random_state=1)\n",
    "\n",
    "grid_search_dt = GridSearchCV(estimator = dtcl, param_grid = param_grid,n_jobs=-1, cv = 5)\n",
    "\n",
    "grid_search_dt.fit(X_train, y_train)\n",
    "\n",
    "dt_model = grid_search_dt.best_estimator_\n",
    "y_pred_train = dt_model.predict(X_train)\n",
    "y_pred_val = dt_model.predict(X_validation)\n",
    "accuracy = accuracy_score(y_validation, y_pred_val)\n",
    "print(\"Accuracy:\", accuracy)"
   ]
  },
  {
   "cell_type": "code",
   "execution_count": 65,
   "metadata": {},
   "outputs": [
    {
     "data": {
      "text/plain": [
       "dict_keys(['ccp_alpha', 'class_weight', 'criterion', 'max_depth', 'max_features', 'max_leaf_nodes', 'min_impurity_decrease', 'min_samples_leaf', 'min_samples_split', 'min_weight_fraction_leaf', 'random_state', 'splitter'])"
      ]
     },
     "execution_count": 65,
     "metadata": {},
     "output_type": "execute_result"
    }
   ],
   "source": [
    "dtcl.get_params().keys()"
   ]
  },
  {
   "cell_type": "code",
   "execution_count": null,
   "metadata": {},
   "outputs": [],
   "source": []
  },
  {
   "cell_type": "code",
   "execution_count": 66,
   "metadata": {},
   "outputs": [
    {
     "name": "stdout",
     "output_type": "stream",
     "text": [
      "Accuracy: 0.9883337206600047\n"
     ]
    }
   ],
   "source": [
    "# Create a bagging classifier with a decision tree base model\n",
    "from sklearn.ensemble import BaggingClassifier\n",
    "base_model = DecisionTreeClassifier()\n",
    "bagging_model = BaggingClassifier(base_model)\n",
    "\n",
    "# Train the bagging model\n",
    "bagging_model.fit(X_train, y_train)\n",
    "\n",
    "# Test the model and generate predictions\n",
    "y_pred = bagging_model.predict(X_validation)\n",
    "\n",
    "# Evaluate the model's performance\n",
    "accuracy = accuracy_score(y_validation, y_pred)\n",
    "print(\"Accuracy:\", accuracy)"
   ]
  },
  {
   "cell_type": "code",
   "execution_count": 69,
   "metadata": {},
   "outputs": [
    {
     "name": "stdout",
     "output_type": "stream",
     "text": [
      "0.6994190099930281\n",
      "[[60192     0]\n",
      " [25868     0]]\n",
      "              precision    recall  f1-score   support\n",
      "\n",
      "         0.0       0.70      1.00      0.82     60192\n",
      "         1.0       0.00      0.00      0.00     25868\n",
      "\n",
      "    accuracy                           0.70     86060\n",
      "   macro avg       0.35      0.50      0.41     86060\n",
      "weighted avg       0.49      0.70      0.58     86060\n",
      "\n"
     ]
    }
   ],
   "source": [
    "y_train_predict=Bagging_model.predict(X_train)\n",
    "Bagging_model_score=Bagging_model.score(X_train,y_train)\n",
    "print(Bagging_model_score)\n",
    "\n",
    "print(metrics.confusion_matrix(y_train,y_train_predict))\n",
    "print(metrics.classification_report(y_train,y_train_predict))"
   ]
  },
  {
   "cell_type": "code",
   "execution_count": 70,
   "metadata": {},
   "outputs": [
    {
     "name": "stdout",
     "output_type": "stream",
     "text": [
      "0.6983499883801999\n",
      "[[15025     0]\n",
      " [ 6490     0]]\n",
      "              precision    recall  f1-score   support\n",
      "\n",
      "         0.0       0.70      1.00      0.82     15025\n",
      "         1.0       0.00      0.00      0.00      6490\n",
      "\n",
      "    accuracy                           0.70     21515\n",
      "   macro avg       0.35      0.50      0.41     21515\n",
      "weighted avg       0.49      0.70      0.57     21515\n",
      "\n"
     ]
    }
   ],
   "source": [
    "# Bagging Test\n",
    "y_validation_predict=Bagging_model.predict(X_validation)\n",
    "Bagging_model_score=Bagging_model.score(X_validation,y_validation)\n",
    "print(Bagging_model_score)\n",
    "\n",
    "print(metrics.confusion_matrix(y_validation,y_validation_predict))\n",
    "print(metrics.classification_report(y_validation,y_validation_predict))"
   ]
  },
  {
   "cell_type": "markdown",
   "metadata": {},
   "source": [
    "### Model training - Random Forest"
   ]
  },
  {
   "cell_type": "code",
   "execution_count": 71,
   "metadata": {},
   "outputs": [],
   "source": [
    "from sklearn.ensemble import RandomForestClassifier\n",
    "rf_model = RandomForestClassifier(n_estimators=10,criterion='gini',max_depth=10,random_state=0)\n",
    "rf_model.fit(X_train,y_train)\n",
    "\n",
    "y_pred_train_rf = rf_model.predict(X_train)\n",
    "y_pred_val_rf = rf_model.predict(X_validation)"
   ]
  },
  {
   "cell_type": "code",
   "execution_count": 72,
   "metadata": {},
   "outputs": [
    {
     "name": "stdout",
     "output_type": "stream",
     "text": [
      "Train Accuracy: 0.8461887055542645\n",
      "Validation Accuracy: 0.8429003021148036\n",
      "\n",
      "Train ROC AUC score: 0.7481994939013569\n",
      "Validation ROC AUC score: 0.7442821030178259\n",
      "\n",
      "Train Classification Report:\n",
      "               precision    recall  f1-score   support\n",
      "\n",
      "         0.0       0.82      0.99      0.90     60192\n",
      "         1.0       0.97      0.50      0.66     25868\n",
      "\n",
      "    accuracy                           0.85     86060\n",
      "   macro avg       0.90      0.75      0.78     86060\n",
      "weighted avg       0.87      0.85      0.83     86060\n",
      "\n",
      "Validation Classification Report:\n",
      "               precision    recall  f1-score   support\n",
      "\n",
      "         0.0       0.82      0.99      0.90     15025\n",
      "         1.0       0.97      0.50      0.66      6490\n",
      "\n",
      "    accuracy                           0.84     21515\n",
      "   macro avg       0.89      0.74      0.78     21515\n",
      "weighted avg       0.86      0.84      0.83     21515\n",
      "\n"
     ]
    }
   ],
   "source": [
    "from sklearn import metrics\n",
    "rf_acc_train = metrics.accuracy_score(y_train,y_pred_train_rf)\n",
    "rf_acc_val = metrics.accuracy_score(y_validation,y_pred_val_rf)\n",
    "print(\"Train Accuracy:\",rf_acc_train)\n",
    "print(\"Validation Accuracy:\",rf_acc_val)\n",
    "print()\n",
    "\n",
    "rf_roc_train = metrics.roc_auc_score(y_train,y_pred_train_rf)\n",
    "rf_roc_val = metrics.roc_auc_score(y_validation,y_pred_val_rf)\n",
    "print(\"Train ROC AUC score:\",rf_roc_train)\n",
    "print(\"Validation ROC AUC score:\",rf_roc_val)\n",
    "print()\n",
    "\n",
    "rf_clr_train = metrics.classification_report(y_train,y_pred_train_rf)\n",
    "rf_clr_val = metrics.classification_report(y_validation,y_pred_val_rf)\n",
    "print(\"Train Classification Report:\\n\",rf_clr_train)\n",
    "print(\"Validation Classification Report:\\n\",rf_clr_val)"
   ]
  },
  {
   "cell_type": "code",
   "execution_count": 73,
   "metadata": {},
   "outputs": [],
   "source": [
    "#Hyperparameter tuning\n"
   ]
  },
  {
   "cell_type": "code",
   "execution_count": 74,
   "metadata": {},
   "outputs": [],
   "source": [
    "param_grid = {\n",
    "    'max_depth': [20],\n",
    "    'max_features': [19],\n",
    "    'min_samples_leaf': [50],\n",
    "    'min_samples_split': [50],\n",
    "    'n_estimators': [200]\n",
    "}\n",
    "\n",
    "rfcl = RandomForestClassifier(random_state=1)\n",
    "\n",
    "grid_search_rfcl = GridSearchCV(estimator = rfcl, param_grid = param_grid,n_jobs=-1, cv = 5)"
   ]
  },
  {
   "cell_type": "code",
   "execution_count": 75,
   "metadata": {},
   "outputs": [
    {
     "data": {
      "text/plain": [
       "GridSearchCV(cv=5, estimator=RandomForestClassifier(random_state=1), n_jobs=-1,\n",
       "             param_grid={'max_depth': [20], 'max_features': [19],\n",
       "                         'min_samples_leaf': [50], 'min_samples_split': [50],\n",
       "                         'n_estimators': [200]})"
      ]
     },
     "execution_count": 75,
     "metadata": {},
     "output_type": "execute_result"
    }
   ],
   "source": [
    "grid_search_rfcl.fit(X_train, y_train)"
   ]
  },
  {
   "cell_type": "code",
   "execution_count": 76,
   "metadata": {},
   "outputs": [],
   "source": [
    "rf_model = grid_search_rfcl.best_estimator_"
   ]
  },
  {
   "cell_type": "code",
   "execution_count": 77,
   "metadata": {},
   "outputs": [],
   "source": [
    "y_pred_train = rf_model.predict(X_train)\n",
    "y_pred_val = rf_model.predict(X_validation)"
   ]
  },
  {
   "cell_type": "code",
   "execution_count": 78,
   "metadata": {},
   "outputs": [
    {
     "name": "stdout",
     "output_type": "stream",
     "text": [
      "Train Accuracy: 0.9386706948640483\n",
      "Validation Accuracy: 0.9369277248431327\n",
      "\n",
      "Train ROC AUC score: 0.9167197158156319\n",
      "Validation ROC AUC score: 0.9152795161633539\n",
      "\n",
      "Train Classification Report:\n",
      "               precision    recall  f1-score   support\n",
      "\n",
      "         0.0       0.94      0.97      0.96     60192\n",
      "         1.0       0.93      0.86      0.89     25868\n",
      "\n",
      "    accuracy                           0.94     86060\n",
      "   macro avg       0.94      0.92      0.93     86060\n",
      "weighted avg       0.94      0.94      0.94     86060\n",
      "\n",
      "Validation Classification Report:\n",
      "               precision    recall  f1-score   support\n",
      "\n",
      "         0.0       0.94      0.97      0.96     15025\n",
      "         1.0       0.92      0.86      0.89      6490\n",
      "\n",
      "    accuracy                           0.94     21515\n",
      "   macro avg       0.93      0.92      0.92     21515\n",
      "weighted avg       0.94      0.94      0.94     21515\n",
      "\n"
     ]
    }
   ],
   "source": [
    "from sklearn import metrics\n",
    "rf_acc_train = metrics.accuracy_score(y_train,y_pred_train)\n",
    "rf_acc_val = metrics.accuracy_score(y_validation,y_pred_val)\n",
    "print(\"Train Accuracy:\",rf_acc_train)\n",
    "print(\"Validation Accuracy:\",rf_acc_val)\n",
    "print()\n",
    "\n",
    "rf_roc_train = metrics.roc_auc_score(y_train,y_pred_train)\n",
    "rf_roc_val = metrics.roc_auc_score(y_validation,y_pred_val)\n",
    "print(\"Train ROC AUC score:\",rf_roc_train)\n",
    "print(\"Validation ROC AUC score:\",rf_roc_val)\n",
    "print()\n",
    "\n",
    "rf_clr_train = metrics.classification_report(y_train,y_pred_train)\n",
    "rf_clr_val = metrics.classification_report(y_validation,y_pred_val)\n",
    "print(\"Train Classification Report:\\n\",rf_clr_train)\n",
    "print(\"Validation Classification Report:\\n\",rf_clr_val)"
   ]
  },
  {
   "cell_type": "code",
   "execution_count": 79,
   "metadata": {},
   "outputs": [
    {
     "data": {
      "image/png": "[encoded data removed]",
      "text/plain": [
       "<Figure size 1200x700 with 1 Axes>"
      ]
     },
     "metadata": {},
     "output_type": "display_data"
    }
   ],
   "source": [
    "x=pd.DataFrame(rf_model.feature_importances_*100,index=X_train.columns).sort_values(by=0,ascending=False)\n",
    "plt.figure(figsize=(12,7))\n",
    "sns.barplot(x[0],x.index,palette='dark')\n",
    "plt.xlabel('Feature Importance in %')\n",
    "plt.ylabel('Features')\n",
    "plt.title('Feature Importance using RF')\n",
    "plt.show()"
   ]
  },
  {
   "cell_type": "code",
   "execution_count": 80,
   "metadata": {},
   "outputs": [],
   "source": [
    "df_train1=df_train.copy()\n",
    "df_test1=df_test.copy()"
   ]
  },
  {
   "cell_type": "code",
   "execution_count": 81,
   "metadata": {},
   "outputs": [
    {
     "data": {
      "text/html": [
       "<div>\n",
       "<style scoped>\n",
       "    .dataframe tbody tr th:only-of-type {\n",
       "        vertical-align: middle;\n",
       "    }\n",
       "\n",
       "    .dataframe tbody tr th {\n",
       "        vertical-align: top;\n",
       "    }\n",
       "\n",
       "    .dataframe thead th {\n",
       "        text-align: right;\n",
       "    }\n",
       "</style>\n",
       "<table border=\"1\" class=\"dataframe\">\n",
       "  <thead>\n",
       "    <tr style=\"text-align: right;\">\n",
       "      <th></th>\n",
       "      <th>BIDREQUESTIP</th>\n",
       "      <th>USERZIPCODE</th>\n",
       "      <th>IS_HCP</th>\n",
       "      <th>Protocol</th>\n",
       "      <th>Domain</th>\n",
       "      <th>Path Length</th>\n",
       "      <th>Query Exists</th>\n",
       "      <th>healthcare</th>\n",
       "      <th>doctor</th>\n",
       "      <th>medicine</th>\n",
       "      <th>patient care</th>\n",
       "      <th>Health Care Professional</th>\n",
       "      <th>Health Services</th>\n",
       "      <th>Physicians</th>\n",
       "      <th>DEVICETYPE_Mobile</th>\n",
       "      <th>DEVICETYPE_Tablet</th>\n",
       "      <th>DEVICETYPE_Unknown</th>\n",
       "      <th>PLATFORMTYPE_Medical News Platform</th>\n",
       "      <th>PLATFORMTYPE_Online Learning Portal</th>\n",
       "      <th>PLATFORMTYPE_Online Medical Journal</th>\n",
       "    </tr>\n",
       "  </thead>\n",
       "  <tbody>\n",
       "    <tr>\n",
       "      <th>0</th>\n",
       "      <td>2863464470</td>\n",
       "      <td>97206.0</td>\n",
       "      <td>0.0</td>\n",
       "      <td>1</td>\n",
       "      <td>668</td>\n",
       "      <td>36</td>\n",
       "      <td>0</td>\n",
       "      <td>0</td>\n",
       "      <td>0</td>\n",
       "      <td>1</td>\n",
       "      <td>0</td>\n",
       "      <td>0</td>\n",
       "      <td>0</td>\n",
       "      <td>1</td>\n",
       "      <td>0</td>\n",
       "      <td>0</td>\n",
       "      <td>0</td>\n",
       "      <td>0</td>\n",
       "      <td>0</td>\n",
       "      <td>1</td>\n",
       "    </tr>\n",
       "    <tr>\n",
       "      <th>1</th>\n",
       "      <td>1104739609</td>\n",
       "      <td>22202.0</td>\n",
       "      <td>0.0</td>\n",
       "      <td>1</td>\n",
       "      <td>668</td>\n",
       "      <td>69</td>\n",
       "      <td>0</td>\n",
       "      <td>0</td>\n",
       "      <td>0</td>\n",
       "      <td>1</td>\n",
       "      <td>0</td>\n",
       "      <td>0</td>\n",
       "      <td>0</td>\n",
       "      <td>1</td>\n",
       "      <td>0</td>\n",
       "      <td>0</td>\n",
       "      <td>0</td>\n",
       "      <td>0</td>\n",
       "      <td>0</td>\n",
       "      <td>1</td>\n",
       "    </tr>\n",
       "    <tr>\n",
       "      <th>2</th>\n",
       "      <td>1122520854</td>\n",
       "      <td>83654.0</td>\n",
       "      <td>0.0</td>\n",
       "      <td>1</td>\n",
       "      <td>668</td>\n",
       "      <td>36</td>\n",
       "      <td>0</td>\n",
       "      <td>0</td>\n",
       "      <td>0</td>\n",
       "      <td>1</td>\n",
       "      <td>0</td>\n",
       "      <td>0</td>\n",
       "      <td>0</td>\n",
       "      <td>1</td>\n",
       "      <td>0</td>\n",
       "      <td>0</td>\n",
       "      <td>0</td>\n",
       "      <td>0</td>\n",
       "      <td>0</td>\n",
       "      <td>1</td>\n",
       "    </tr>\n",
       "    <tr>\n",
       "      <th>4</th>\n",
       "      <td>2932533091</td>\n",
       "      <td>77008.0</td>\n",
       "      <td>0.0</td>\n",
       "      <td>1</td>\n",
       "      <td>779</td>\n",
       "      <td>90</td>\n",
       "      <td>0</td>\n",
       "      <td>0</td>\n",
       "      <td>0</td>\n",
       "      <td>1</td>\n",
       "      <td>0</td>\n",
       "      <td>0</td>\n",
       "      <td>0</td>\n",
       "      <td>0</td>\n",
       "      <td>1</td>\n",
       "      <td>0</td>\n",
       "      <td>0</td>\n",
       "      <td>0</td>\n",
       "      <td>0</td>\n",
       "      <td>1</td>\n",
       "    </tr>\n",
       "    <tr>\n",
       "      <th>5</th>\n",
       "      <td>406561774</td>\n",
       "      <td>13215.0</td>\n",
       "      <td>0.0</td>\n",
       "      <td>1</td>\n",
       "      <td>779</td>\n",
       "      <td>84</td>\n",
       "      <td>0</td>\n",
       "      <td>0</td>\n",
       "      <td>0</td>\n",
       "      <td>1</td>\n",
       "      <td>0</td>\n",
       "      <td>0</td>\n",
       "      <td>0</td>\n",
       "      <td>0</td>\n",
       "      <td>0</td>\n",
       "      <td>0</td>\n",
       "      <td>0</td>\n",
       "      <td>0</td>\n",
       "      <td>0</td>\n",
       "      <td>1</td>\n",
       "    </tr>\n",
       "  </tbody>\n",
       "</table>\n",
       "</div>"
      ],
      "text/plain": [
       "   BIDREQUESTIP  USERZIPCODE  IS_HCP  Protocol  Domain  Path Length  \\\n",
       "0    2863464470      97206.0     0.0         1     668           36   \n",
       "1    1104739609      22202.0     0.0         1     668           69   \n",
       "2    1122520854      83654.0     0.0         1     668           36   \n",
       "4    2932533091      77008.0     0.0         1     779           90   \n",
       "5     406561774      13215.0     0.0         1     779           84   \n",
       "\n",
       "   Query Exists  healthcare  doctor  medicine  patient care  \\\n",
       "0             0           0       0         1             0   \n",
       "1             0           0       0         1             0   \n",
       "2             0           0       0         1             0   \n",
       "4             0           0       0         1             0   \n",
       "5             0           0       0         1             0   \n",
       "\n",
       "   Health Care Professional  Health Services  Physicians  DEVICETYPE_Mobile  \\\n",
       "0                         0                0           1                  0   \n",
       "1                         0                0           1                  0   \n",
       "2                         0                0           1                  0   \n",
       "4                         0                0           0                  1   \n",
       "5                         0                0           0                  0   \n",
       "\n",
       "   DEVICETYPE_Tablet  DEVICETYPE_Unknown  PLATFORMTYPE_Medical News Platform  \\\n",
       "0                  0                   0                                   0   \n",
       "1                  0                   0                                   0   \n",
       "2                  0                   0                                   0   \n",
       "4                  0                   0                                   0   \n",
       "5                  0                   0                                   0   \n",
       "\n",
       "   PLATFORMTYPE_Online Learning Portal  PLATFORMTYPE_Online Medical Journal  \n",
       "0                                    0                                    1  \n",
       "1                                    0                                    1  \n",
       "2                                    0                                    1  \n",
       "4                                    0                                    1  \n",
       "5                                    0                                    1  "
      ]
     },
     "execution_count": 81,
     "metadata": {},
     "output_type": "execute_result"
    }
   ],
   "source": [
    "df_train1.head()"
   ]
  },
  {
   "cell_type": "code",
   "execution_count": 82,
   "metadata": {},
   "outputs": [
    {
     "data": {
      "text/plain": [
       "Index(['BIDREQUESTIP', 'USERZIPCODE', 'IS_HCP', 'Protocol', 'Domain',\n",
       "       'Path Length', 'Query Exists', 'healthcare', 'doctor', 'medicine',\n",
       "       'patient care', 'Health Care Professional', 'Health Services',\n",
       "       'Physicians', 'DEVICETYPE_Mobile', 'DEVICETYPE_Tablet',\n",
       "       'DEVICETYPE_Unknown', 'PLATFORMTYPE_Medical News Platform',\n",
       "       'PLATFORMTYPE_Online Learning Portal',\n",
       "       'PLATFORMTYPE_Online Medical Journal'],\n",
       "      dtype='object')"
      ]
     },
     "execution_count": 82,
     "metadata": {},
     "output_type": "execute_result"
    }
   ],
   "source": [
    "df_train1.columns"
   ]
  },
  {
   "cell_type": "code",
   "execution_count": 83,
   "metadata": {},
   "outputs": [
    {
     "data": {
      "text/plain": [
       "Index(['BIDREQUESTIP', 'is_duplicate', 'Protocol', 'Domain', 'Path Length',\n",
       "       'Query Exists', 'healthcare', 'doctor', 'medicine', 'patient care',\n",
       "       'Health Care Professional', 'Health Services', 'Physicians',\n",
       "       'DEVICETYPE_Mobile', 'DEVICETYPE_Tablet', 'DEVICETYPE_Unknown',\n",
       "       'PLATFORMTYPE_Medical News Platform',\n",
       "       'PLATFORMTYPE_Online Learning Portal',\n",
       "       'PLATFORMTYPE_Online Medical Journal'],\n",
       "      dtype='object')"
      ]
     },
     "execution_count": 83,
     "metadata": {},
     "output_type": "execute_result"
    }
   ],
   "source": [
    "df_test1.columns"
   ]
  },
  {
   "cell_type": "code",
   "execution_count": 84,
   "metadata": {},
   "outputs": [
    {
     "data": {
      "text/html": [
       "<style>div.output_scroll { height: 44em; }</style>"
      ],
      "text/plain": [
       "<IPython.core.display.HTML object>"
      ]
     },
     "metadata": {},
     "output_type": "display_data"
    }
   ],
   "source": [
    "from IPython.core.display import display, HTML\n",
    "display(HTML(\"<style>div.output_scroll { height: 44em; }</style>\"))"
   ]
  },
  {
   "cell_type": "code",
   "execution_count": 85,
   "metadata": {},
   "outputs": [],
   "source": [
    "X1 = df_train1.drop(['IS_HCP'],axis = 1)\n",
    "y1 = df_train1['IS_HCP']"
   ]
  },
  {
   "cell_type": "code",
   "execution_count": 86,
   "metadata": {},
   "outputs": [
    {
     "data": {
      "text/plain": [
       "(107575, 19)"
      ]
     },
     "execution_count": 86,
     "metadata": {},
     "output_type": "execute_result"
    }
   ],
   "source": [
    "X1.shape"
   ]
  },
  {
   "cell_type": "code",
   "execution_count": 87,
   "metadata": {},
   "outputs": [],
   "source": [
    "from sklearn.model_selection import train_test_split\n",
    "X1_train, X1_validation, y1_train, y1_validation = train_test_split(X1,y1,test_size = 0.2,random_state = 0)"
   ]
  },
  {
   "cell_type": "code",
   "execution_count": 88,
   "metadata": {},
   "outputs": [],
   "source": [
    "param_grid = {\n",
    "    'criterion': [\"gini\", \"entropy\"],\n",
    "    'max_depth': [38],\n",
    "    'max_features': [19],\n",
    "    'min_samples_leaf': [5],\n",
    "    'min_samples_split': [14],\n",
    "    'n_estimators': [100]\n",
    "}\n",
    "\n",
    "rfcl = RandomForestClassifier(random_state=1)\n",
    "\n",
    "grid_search_rfcl = GridSearchCV(estimator = rfcl, param_grid = param_grid,n_jobs=-1, cv = 5)"
   ]
  },
  {
   "cell_type": "code",
   "execution_count": 89,
   "metadata": {},
   "outputs": [
    {
     "data": {
      "text/plain": [
       "GridSearchCV(cv=5, estimator=RandomForestClassifier(random_state=1), n_jobs=-1,\n",
       "             param_grid={'criterion': ['gini', 'entropy'], 'max_depth': [38],\n",
       "                         'max_features': [16], 'min_samples_leaf': [5],\n",
       "                         'min_samples_split': [14], 'n_estimators': [100]})"
      ]
     },
     "execution_count": 89,
     "metadata": {},
     "output_type": "execute_result"
    }
   ],
   "source": [
    "grid_search_rfcl.fit(X1_train, y1_train)"
   ]
  },
  {
   "cell_type": "code",
   "execution_count": 90,
   "metadata": {},
   "outputs": [
    {
     "data": {
      "text/plain": [
       "{'criterion': 'entropy',\n",
       " 'max_depth': 38,\n",
       " 'max_features': 16,\n",
       " 'min_samples_leaf': 5,\n",
       " 'min_samples_split': 14,\n",
       " 'n_estimators': 100}"
      ]
     },
     "execution_count": 90,
     "metadata": {},
     "output_type": "execute_result"
    }
   ],
   "source": [
    "grid_search_rfcl.best_params_"
   ]
  },
  {
   "cell_type": "code",
   "execution_count": 91,
   "metadata": {},
   "outputs": [],
   "source": [
    "rf_model1 = grid_search_rfcl.best_estimator_"
   ]
  },
  {
   "cell_type": "code",
   "execution_count": 92,
   "metadata": {},
   "outputs": [],
   "source": [
    "y_pred_train = rf_model1.predict(X1_train)\n",
    "y_pred_val = rf_model1.predict(X1_validation)"
   ]
  },
  {
   "cell_type": "code",
   "execution_count": 93,
   "metadata": {},
   "outputs": [
    {
     "name": "stdout",
     "output_type": "stream",
     "text": [
      "Train Accuracy: 0.9875900534510806\n",
      "Validation Accuracy: 0.979874506158494\n",
      "\n",
      "Train ROC AUC score: 0.9827074674376359\n",
      "Validation ROC AUC score: 0.9728116723796241\n",
      "\n",
      "Train Classification Report:\n",
      "               precision    recall  f1-score   support\n",
      "\n",
      "         0.0       0.99      0.99      0.99     60192\n",
      "         1.0       0.99      0.97      0.98     25868\n",
      "\n",
      "    accuracy                           0.99     86060\n",
      "   macro avg       0.99      0.98      0.99     86060\n",
      "weighted avg       0.99      0.99      0.99     86060\n",
      "\n",
      "Validation Classification Report:\n",
      "               precision    recall  f1-score   support\n",
      "\n",
      "         0.0       0.98      0.99      0.99     15025\n",
      "         1.0       0.98      0.96      0.97      6490\n",
      "\n",
      "    accuracy                           0.98     21515\n",
      "   macro avg       0.98      0.97      0.98     21515\n",
      "weighted avg       0.98      0.98      0.98     21515\n",
      "\n"
     ]
    }
   ],
   "source": [
    "from sklearn import metrics\n",
    "rf_acc_train = metrics.accuracy_score(y1_train,y_pred_train)\n",
    "rf_acc_val = metrics.accuracy_score(y_validation,y_pred_val)\n",
    "print(\"Train Accuracy:\",rf_acc_train)\n",
    "print(\"Validation Accuracy:\",rf_acc_val)\n",
    "print()\n",
    "\n",
    "rf_roc_train = metrics.roc_auc_score(y1_train,y_pred_train)\n",
    "rf_roc_val = metrics.roc_auc_score(y_validation,y_pred_val)\n",
    "print(\"Train ROC AUC score:\",rf_roc_train)\n",
    "print(\"Validation ROC AUC score:\",rf_roc_val)\n",
    "print()\n",
    "\n",
    "rf_clr_train = metrics.classification_report(y1_train,y_pred_train)\n",
    "rf_clr_val = metrics.classification_report(y_validation,y_pred_val)\n",
    "print(\"Train Classification Report:\\n\",rf_clr_train)\n",
    "print(\"Validation Classification Report:\\n\",rf_clr_val)"
   ]
  },
  {
   "cell_type": "code",
   "execution_count": 94,
   "metadata": {},
   "outputs": [
    {
     "name": "stdout",
     "output_type": "stream",
     "text": [
      "Random Forest accuracy: 0.9840111550081339\n"
     ]
    }
   ],
   "source": [
    "#after hypertuning\n",
    "models = {\"Random Forest\": RandomForestClassifier()}\n",
    "\n",
    "# Train and evaluate each model\n",
    "for model_name, model in models.items():\n",
    "    model.fit(X1_train, y1_train)\n",
    "    y1_pred = model.predict(X1_validation)\n",
    "    accuracy = accuracy_score(y1_validation, y1_pred)\n",
    "    print(f\"{model_name} accuracy: {accuracy}\")\n"
   ]
  },
  {
   "cell_type": "code",
   "execution_count": 95,
   "metadata": {},
   "outputs": [
    {
     "data": {
      "text/html": [
       "<div>\n",
       "<style scoped>\n",
       "    .dataframe tbody tr th:only-of-type {\n",
       "        vertical-align: middle;\n",
       "    }\n",
       "\n",
       "    .dataframe tbody tr th {\n",
       "        vertical-align: top;\n",
       "    }\n",
       "\n",
       "    .dataframe thead th {\n",
       "        text-align: right;\n",
       "    }\n",
       "</style>\n",
       "<table border=\"1\" class=\"dataframe\">\n",
       "  <thead>\n",
       "    <tr style=\"text-align: right;\">\n",
       "      <th></th>\n",
       "      <th>0</th>\n",
       "    </tr>\n",
       "  </thead>\n",
       "  <tbody>\n",
       "    <tr>\n",
       "      <th>Path Length</th>\n",
       "      <td>44.591188</td>\n",
       "    </tr>\n",
       "    <tr>\n",
       "      <th>Domain</th>\n",
       "      <td>20.313331</td>\n",
       "    </tr>\n",
       "    <tr>\n",
       "      <th>USERZIPCODE</th>\n",
       "      <td>11.159161</td>\n",
       "    </tr>\n",
       "    <tr>\n",
       "      <th>Query Exists</th>\n",
       "      <td>7.928847</td>\n",
       "    </tr>\n",
       "    <tr>\n",
       "      <th>BIDREQUESTIP</th>\n",
       "      <td>5.690870</td>\n",
       "    </tr>\n",
       "    <tr>\n",
       "      <th>Physicians</th>\n",
       "      <td>3.276506</td>\n",
       "    </tr>\n",
       "    <tr>\n",
       "      <th>patient care</th>\n",
       "      <td>1.947553</td>\n",
       "    </tr>\n",
       "    <tr>\n",
       "      <th>medicine</th>\n",
       "      <td>1.927455</td>\n",
       "    </tr>\n",
       "    <tr>\n",
       "      <th>Health Services</th>\n",
       "      <td>1.336226</td>\n",
       "    </tr>\n",
       "    <tr>\n",
       "      <th>DEVICETYPE_Mobile</th>\n",
       "      <td>0.910542</td>\n",
       "    </tr>\n",
       "    <tr>\n",
       "      <th>PLATFORMTYPE_Online Learning Portal</th>\n",
       "      <td>0.262745</td>\n",
       "    </tr>\n",
       "    <tr>\n",
       "      <th>PLATFORMTYPE_Medical News Platform</th>\n",
       "      <td>0.245693</td>\n",
       "    </tr>\n",
       "    <tr>\n",
       "      <th>PLATFORMTYPE_Online Medical Journal</th>\n",
       "      <td>0.240167</td>\n",
       "    </tr>\n",
       "    <tr>\n",
       "      <th>DEVICETYPE_Tablet</th>\n",
       "      <td>0.101766</td>\n",
       "    </tr>\n",
       "    <tr>\n",
       "      <th>Health Care Professional</th>\n",
       "      <td>0.066450</td>\n",
       "    </tr>\n",
       "    <tr>\n",
       "      <th>doctor</th>\n",
       "      <td>0.001500</td>\n",
       "    </tr>\n",
       "    <tr>\n",
       "      <th>healthcare</th>\n",
       "      <td>0.000000</td>\n",
       "    </tr>\n",
       "    <tr>\n",
       "      <th>Protocol</th>\n",
       "      <td>0.000000</td>\n",
       "    </tr>\n",
       "    <tr>\n",
       "      <th>DEVICETYPE_Unknown</th>\n",
       "      <td>0.000000</td>\n",
       "    </tr>\n",
       "  </tbody>\n",
       "</table>\n",
       "</div>"
      ],
      "text/plain": [
       "                                             0\n",
       "Path Length                          44.591188\n",
       "Domain                               20.313331\n",
       "USERZIPCODE                          11.159161\n",
       "Query Exists                          7.928847\n",
       "BIDREQUESTIP                          5.690870\n",
       "Physicians                            3.276506\n",
       "patient care                          1.947553\n",
       "medicine                              1.927455\n",
       "Health Services                       1.336226\n",
       "DEVICETYPE_Mobile                     0.910542\n",
       "PLATFORMTYPE_Online Learning Portal   0.262745\n",
       "PLATFORMTYPE_Medical News Platform    0.245693\n",
       "PLATFORMTYPE_Online Medical Journal   0.240167\n",
       "DEVICETYPE_Tablet                     0.101766\n",
       "Health Care Professional              0.066450\n",
       "doctor                                0.001500\n",
       "healthcare                            0.000000\n",
       "Protocol                              0.000000\n",
       "DEVICETYPE_Unknown                    0.000000"
      ]
     },
     "execution_count": 95,
     "metadata": {},
     "output_type": "execute_result"
    }
   ],
   "source": [
    "df2=pd.DataFrame(rf_model1.feature_importances_*100,index=X_train.columns).sort_values(by=0,ascending=False)\n",
    "df2"
   ]
  },
  {
   "cell_type": "code",
   "execution_count": 96,
   "metadata": {},
   "outputs": [],
   "source": [
    "final_predictions = dt_model.predict(df_test)\n",
    "submission=pd.DataFrame([test_file_ids,final_predictions]).T\n",
    "submission.rename(columns={\"Unnamed 0\": \"IS_HCP\"},inplace=True)\n",
    "submission.to_csv('Output_File_dt.csv',index = False)"
   ]
  },
  {
   "cell_type": "code",
   "execution_count": 97,
   "metadata": {},
   "outputs": [
    {
     "name": "stdout",
     "output_type": "stream",
     "text": [
      "Defaulting to user installation because normal site-packages is not writeable\n",
      "Requirement already satisfied: xgboost in c:\\users\\vinod\\appdata\\roaming\\python\\python39\\site-packages (1.7.5)\n",
      "Requirement already satisfied: numpy in c:\\programdata\\anaconda3\\lib\\site-packages (from xgboost) (1.21.5)\n",
      "Requirement already satisfied: scipy in c:\\programdata\\anaconda3\\lib\\site-packages (from xgboost) (1.9.1)\n"
     ]
    }
   ],
   "source": [
    "from sklearn.ensemble import AdaBoostClassifier, GradientBoostingClassifier\n",
    "#To install xgboost library use - \n",
    "!pip install xgboost \n",
    "from xgboost import XGBClassifier"
   ]
  },
  {
   "cell_type": "code",
   "execution_count": 98,
   "metadata": {},
   "outputs": [
    {
     "data": {
      "text/plain": [
       "AdaBoostClassifier(random_state=1)"
      ]
     },
     "execution_count": 98,
     "metadata": {},
     "output_type": "execute_result"
    }
   ],
   "source": [
    "abc = AdaBoostClassifier(random_state=1)\n",
    "abc.fit(X_train,y_train)"
   ]
  },
  {
   "cell_type": "code",
   "execution_count": 99,
   "metadata": {},
   "outputs": [],
   "source": [
    "##  Function to calculate different metric scores of the model - Accuracy, Recall and Precision\n",
    "def get_metrics_score(model,flag=True):\n",
    "    '''\n",
    "    model : classifier to predict values of X\n",
    "\n",
    "    '''\n",
    "    # defining an empty list to store train and test results\n",
    "    score_list=[] \n",
    "    \n",
    "    pred_train = model.predict(X_train)\n",
    "    pred_test = model.predict(X_validation)\n",
    "    \n",
    "    train_acc = model.score(X_train,y_train)\n",
    "    test_acc = model.score(X_validation,y_validation)\n",
    "    \n",
    "    train_recall = metrics.recall_score(y_train,pred_train)\n",
    "    test_recall = metrics.recall_score(y_validation,pred_test)\n",
    "    \n",
    "    train_precision = metrics.precision_score(y_train,pred_train)\n",
    "    test_precision = metrics.precision_score(y_validation,pred_test)\n",
    "    \n",
    "    score_list.extend((train_acc,test_acc,train_recall,test_recall,train_precision,test_precision))\n",
    "        \n",
    "\n",
    "    if flag == True: \n",
    "        print(\"Accuracy on training set : \",model.score(X_train,y_train))\n",
    "        print(\"Accuracy on test set : \",model.score(X_validation,y_validation))\n",
    "        print(\"Recall on training set : \",metrics.recall_score(y_train,pred_train))\n",
    "        print(\"Recall on test set : \",metrics.recall_score(y_validation,pred_test))\n",
    "        print(\"Precision on training set : \",metrics.precision_score(y_train,pred_train))\n",
    "        print(\"Precision on test set : \",metrics.precision_score(y_validation,pred_test))\n",
    "    \n",
    "    return score_list"
   ]
  },
  {
   "cell_type": "code",
   "execution_count": 100,
   "metadata": {},
   "outputs": [
    {
     "name": "stdout",
     "output_type": "stream",
     "text": [
      "Accuracy on training set :  0.8251684871020218\n",
      "Accuracy on test set :  0.8233325586799907\n",
      "Recall on training set :  0.5104762641100974\n",
      "Recall on test set :  0.5092449922958397\n",
      "Precision on training set :  0.8471259943546318\n",
      "Precision on test set :  0.842897220096914\n"
     ]
    }
   ],
   "source": [
    "#Using above defined function to get accuracy, recall and precision on train and test set\n",
    "abc_score=get_metrics_score(abc)"
   ]
  },
  {
   "cell_type": "code",
   "execution_count": 101,
   "metadata": {},
   "outputs": [
    {
     "data": {
      "text/plain": [
       "GradientBoostingClassifier(random_state=1)"
      ]
     },
     "execution_count": 101,
     "metadata": {},
     "output_type": "execute_result"
    }
   ],
   "source": [
    "gbc = GradientBoostingClassifier(random_state=1)\n",
    "gbc.fit(X_train,y_train)"
   ]
  },
  {
   "cell_type": "code",
   "execution_count": 102,
   "metadata": {},
   "outputs": [
    {
     "name": "stdout",
     "output_type": "stream",
     "text": [
      "Accuracy on training set :  0.8636648849639786\n",
      "Accuracy on test set :  0.863304671159656\n",
      "Recall on training set :  0.5868254213700325\n",
      "Recall on test set :  0.5902927580893682\n",
      "Precision on training set :  0.9355932203389831\n",
      "Precision on test set :  0.9314369073668854\n"
     ]
    }
   ],
   "source": [
    "#Using above defined function to get accuracy, recall and precision on train and test set\n",
    "gbc_score=get_metrics_score(gbc)"
   ]
  },
  {
   "cell_type": "code",
   "execution_count": 103,
   "metadata": {},
   "outputs": [
    {
     "data": {
      "text/plain": [
       "XGBClassifier(base_score=None, booster=None, callbacks=None,\n",
       "              colsample_bylevel=None, colsample_bynode=None,\n",
       "              colsample_bytree=None, early_stopping_rounds=None,\n",
       "              enable_categorical=False, eval_metric=None, feature_types=None,\n",
       "              gamma=None, gpu_id=None, grow_policy=None, importance_type=None,\n",
       "              interaction_constraints=None, learning_rate=None, max_bin=None,\n",
       "              max_cat_threshold=None, max_cat_to_onehot=None,\n",
       "              max_delta_step=None, max_depth=None, max_leaves=None,\n",
       "              min_child_weight=None, missing=nan, monotone_constraints=None,\n",
       "              n_estimators=100, n_jobs=None, num_parallel_tree=None,\n",
       "              predictor=None, random_state=1, ...)"
      ]
     },
     "execution_count": 103,
     "metadata": {},
     "output_type": "execute_result"
    }
   ],
   "source": [
    "xgb = XGBClassifier(random_state=1)\n",
    "xgb.fit(X_train,y_train)"
   ]
  },
  {
   "cell_type": "code",
   "execution_count": 104,
   "metadata": {},
   "outputs": [
    {
     "name": "stdout",
     "output_type": "stream",
     "text": [
      "Accuracy on training set :  0.9699279572391355\n",
      "Accuracy on test set :  0.9632349523588194\n",
      "Recall on training set :  0.9228776867171795\n",
      "Recall on test set :  0.9075500770416025\n",
      "Precision on training set :  0.9757622823510177\n",
      "Precision on test set :  0.968590692320342\n"
     ]
    }
   ],
   "source": [
    "#Using above defined function to get accuracy, recall and precision on train and test set\n",
    "xgb_score=get_metrics_score(xgb) "
   ]
  },
  {
   "cell_type": "code",
   "execution_count": 105,
   "metadata": {},
   "outputs": [],
   "source": [
    "#final_predictions = xgb.predict(df_test)\n",
    "#submission=pd.DataFrame([test_file_ids,final_predictions]).T\n",
    "#submission.rename(columns={\"is_hcp\": \"IS_HCP\"},inplace=True)\n",
    "#submission.to_csv('Submit_new_xgb1.csv',index = False)"
   ]
  },
  {
   "cell_type": "code",
   "execution_count": 106,
   "metadata": {},
   "outputs": [],
   "source": [
    "### LDA\n",
    "from sklearn.discriminant_analysis import LinearDiscriminantAnalysis\n",
    "model=LinearDiscriminantAnalysis()"
   ]
  },
  {
   "cell_type": "code",
   "execution_count": 107,
   "metadata": {},
   "outputs": [],
   "source": [
    "LDA_model=model.fit(X_train,y_train)"
   ]
  },
  {
   "cell_type": "code",
   "execution_count": 108,
   "metadata": {},
   "outputs": [
    {
     "data": {
      "text/plain": [
       "0.7814199395770393"
      ]
     },
     "execution_count": 108,
     "metadata": {},
     "output_type": "execute_result"
    }
   ],
   "source": [
    "LDA_model.score(X_train, y_train)"
   ]
  },
  {
   "cell_type": "code",
   "execution_count": 109,
   "metadata": {},
   "outputs": [
    {
     "data": {
      "text/plain": [
       "0.7787590053451081"
      ]
     },
     "execution_count": 109,
     "metadata": {},
     "output_type": "execute_result"
    }
   ],
   "source": [
    "LDA_model.score(X_validation, y_validation)"
   ]
  },
  {
   "cell_type": "code",
   "execution_count": 110,
   "metadata": {},
   "outputs": [],
   "source": [
    "pred_class_train = LDA_model.predict(X_train)\n",
    "\n",
    "pred_class_test = LDA_model.predict(X_validation)"
   ]
  },
  {
   "cell_type": "code",
   "execution_count": 111,
   "metadata": {},
   "outputs": [
    {
     "name": "stdout",
     "output_type": "stream",
     "text": [
      "Classification Report of the training data:\n",
      "\n",
      "               precision    recall  f1-score   support\n",
      "\n",
      "         0.0       0.78      0.96      0.86     60192\n",
      "         1.0       0.81      0.36      0.49     25868\n",
      "\n",
      "    accuracy                           0.78     86060\n",
      "   macro avg       0.79      0.66      0.68     86060\n",
      "weighted avg       0.79      0.78      0.75     86060\n",
      " \n",
      "\n",
      "Classification Report of the test data:\n",
      "\n",
      "               precision    recall  f1-score   support\n",
      "\n",
      "         0.0       0.78      0.96      0.86     15025\n",
      "         1.0       0.80      0.35      0.49      6490\n",
      "\n",
      "    accuracy                           0.78     21515\n",
      "   macro avg       0.79      0.66      0.67     21515\n",
      "weighted avg       0.78      0.78      0.75     21515\n",
      " \n",
      "\n"
     ]
    }
   ],
   "source": [
    "print('Classification Report of the training data:\\n\\n',metrics.classification_report(y_train,pred_class_train),'\\n')\n",
    "print('Classification Report of the test data:\\n\\n',metrics.classification_report(y_validation,pred_class_test),'\\n')"
   ]
  },
  {
   "cell_type": "code",
   "execution_count": 112,
   "metadata": {},
   "outputs": [],
   "source": [
    "##ADA BOOST"
   ]
  },
  {
   "cell_type": "code",
   "execution_count": 113,
   "metadata": {},
   "outputs": [],
   "source": [
    "from sklearn.ensemble import AdaBoostClassifier\n",
    "ADB_model = AdaBoostClassifier(n_estimators=100,random_state=1)"
   ]
  },
  {
   "cell_type": "code",
   "execution_count": 114,
   "metadata": {},
   "outputs": [
    {
     "data": {
      "text/plain": [
       "AdaBoostClassifier(n_estimators=100, random_state=1)"
      ]
     },
     "execution_count": 114,
     "metadata": {},
     "output_type": "execute_result"
    }
   ],
   "source": [
    "ADB_model.fit(X_train,y_train)"
   ]
  },
  {
   "cell_type": "code",
   "execution_count": 115,
   "metadata": {},
   "outputs": [
    {
     "name": "stdout",
     "output_type": "stream",
     "text": [
      "0.8348710202184523\n",
      "[[57796  2396]\n",
      " [11815 14053]]\n",
      "ADB_train\n",
      "              precision    recall  f1-score   support\n",
      "\n",
      "         0.0       0.83      0.96      0.89     60192\n",
      "         1.0       0.85      0.54      0.66     25868\n",
      "\n",
      "    accuracy                           0.83     86060\n",
      "   macro avg       0.84      0.75      0.78     86060\n",
      "weighted avg       0.84      0.83      0.82     86060\n",
      "\n"
     ]
    }
   ],
   "source": [
    "## Performance Matrix on train data set\n",
    "y_train_predict = ADB_model.predict(X_train)\n",
    "model_score_ADB_train = ADB_model.score(X_train, y_train)\n",
    "print(model_score_ADB_train)\n",
    "print(metrics.confusion_matrix(y_train, y_train_predict))\n",
    "print(\"ADB_train\")\n",
    "print(metrics.classification_report(y_train, y_train_predict))"
   ]
  },
  {
   "cell_type": "code",
   "execution_count": 116,
   "metadata": {},
   "outputs": [
    {
     "name": "stdout",
     "output_type": "stream",
     "text": [
      "0.8329537531954451\n",
      "[[14412   613]\n",
      " [ 2981  3509]]\n",
      "ADB_test\n",
      "              precision    recall  f1-score   support\n",
      "\n",
      "         0.0       0.83      0.96      0.89     15025\n",
      "         1.0       0.85      0.54      0.66      6490\n",
      "\n",
      "    accuracy                           0.83     21515\n",
      "   macro avg       0.84      0.75      0.78     21515\n",
      "weighted avg       0.84      0.83      0.82     21515\n",
      "\n"
     ]
    }
   ],
   "source": [
    "## Performance Matrix on test data set\n",
    "y_test_predict = ADB_model.predict(X_validation)\n",
    "model_score_ADB_test = ADB_model.score(X_validation, y_validation)\n",
    "print(model_score_ADB_test)\n",
    "print(metrics.confusion_matrix(y_validation, y_test_predict))\n",
    "print(\"ADB_test\")\n",
    "print(metrics.classification_report(y_validation, y_test_predict))"
   ]
  },
  {
   "cell_type": "code",
   "execution_count": 117,
   "metadata": {},
   "outputs": [
    {
     "name": "stdout",
     "output_type": "stream",
     "text": [
      "Decision Tree accuracy: 98.79618870555427\n",
      "Random Forest accuracy: 98.36858006042296\n",
      "ADB accuracy: 82.33325586799907\n",
      "LDA accuracy: 77.8759005345108\n",
      "XGB accuracy: 86.3304671159656\n"
     ]
    }
   ],
   "source": [
    "from sklearn.metrics import accuracy_score\n",
    "\n",
    "# Instantiate different models\n",
    "models = {\n",
    "    \"Decision Tree\": DecisionTreeClassifier(),\n",
    "    \"Random Forest\": RandomForestClassifier(),\n",
    "    \"ADB\": AdaBoostClassifier(),\n",
    "    \"LDA\":LinearDiscriminantAnalysis(),\n",
    "    \"XGB\": GradientBoostingClassifier()\n",
    "}\n",
    "\n",
    "# Train and evaluate each model\n",
    "for model_name, model in models.items():\n",
    "    model.fit(X_train, y_train)\n",
    "    y_pred = model.predict(X_validation)\n",
    "    accuracy = accuracy_score(y_validation, y_pred)\n",
    "    print(f\"{model_name} accuracy: {accuracy*100}\")\n"
   ]
  },
  {
   "cell_type": "code",
   "execution_count": 118,
   "metadata": {},
   "outputs": [
    {
     "name": "stdout",
     "output_type": "stream",
     "text": [
      "Random Forest accuracy: 0.9839181966070184\n"
     ]
    }
   ],
   "source": [
    "#after hypertuning\n",
    "models = {\"Random Forest\": RandomForestClassifier()}\n",
    "\n",
    "# Train and evaluate each model\n",
    "for model_name, model in models.items():\n",
    "    model.fit(X1_train, y1_train)\n",
    "    y1_pred = model.predict(X1_validation)\n",
    "    accuracy = accuracy_score(y1_validation, y1_pred)\n",
    "    print(f\"{model_name} accuracy: {accuracy}\")\n"
   ]
  },
  {
   "cell_type": "code",
   "execution_count": null,
   "metadata": {},
   "outputs": [],
   "source": []
  },
  {
   "cell_type": "code",
   "execution_count": null,
   "metadata": {},
   "outputs": [],
   "source": []
  },
  {
   "cell_type": "code",
   "execution_count": null,
   "metadata": {},
   "outputs": [],
   "source": []
  },
  {
   "cell_type": "code",
   "execution_count": null,
   "metadata": {},
   "outputs": [],
   "source": []
  }
 ],
 "metadata": {
  "kernelspec": {
   "display_name": "Python 3 (ipykernel)",
   "language": "python",
   "name": "python3"
  },
  "language_info": {
   "codemirror_mode": {
    "name": "ipython",
    "version": 3
   },
   "file_extension": ".py",
   "mimetype": "text/x-python",
   "name": "python",
   "nbconvert_exporter": "python",
   "pygments_lexer": "ipython3",
   "version": "3.9.13"
  }
 },
 "nbformat": 4,
 "nbformat_minor": 4
}
